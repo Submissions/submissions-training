{
 "cells": [
  {
   "cell_type": "code",
   "execution_count": 2,
   "metadata": {},
   "outputs": [],
   "source": [
    "%%bash\n",
    "cat 7459_search.txt | xargs -I {} dirname {} > bamdir.txt"
   ]
  },
  {
   "cell_type": "code",
   "execution_count": 3,
   "metadata": {},
   "outputs": [],
   "source": [
    "%%bash\n",
    "cat bamdir.txt | xargs -I {} dirname {} > 2bamdir.txt"
   ]
  },
  {
   "cell_type": "code",
   "execution_count": null,
   "metadata": {},
   "outputs": [],
   "source": [
    "%%bash\n",
    "for file in *Mapping.out.*; do echo $file `tail -n1 $file | sed -r 's/^.+\\\"cput\\\": \\\"([^\\\"]+)\\\".+$/\\1/g'`; done | sed -r 's/\\s+/\\t/g' | cut -f2"
   ]
  },
  {
   "cell_type": "code",
   "execution_count": 9,
   "metadata": {},
   "outputs": [
    {
     "name": "stdout",
     "output_type": "stream",
     "text": [
      "{\"id\": \"3435435.sug-prod-moab\", \"name\": \"HKWYYCCXY-1_Mapping\", \"cput\": \"204:22:08\", \"mem\": \"49355964kb\", \"wall\": \"32:02:03\"}\n"
     ]
    }
   ],
   "source": [
    "%%bash\n",
    "cat *Mapping.out.* | tail -n1"
   ]
  },
  {
   "cell_type": "code",
   "execution_count": 11,
   "metadata": {},
   "outputs": [
    {
     "name": "stdout",
     "output_type": "stream",
     "text": [
      "204:22:08\n"
     ]
    }
   ],
   "source": [
    "%%bash\n",
    "cat *Mapping.out.* | tail -n1 | sed -E 's/^.+\\\"cput\\\": \\\"([^\\\"]+)\\\".+$/\\1/g'"
   ]
  },
  {
   "cell_type": "code",
   "execution_count": 12,
   "metadata": {},
   "outputs": [
    {
     "name": "stdout",
     "output_type": "stream",
     "text": [
      "204:22:08\n"
     ]
    }
   ],
   "source": [
    "%%bash\n",
    "cat *Mapping.out.* | tail -n1 | sed -E 's/^.+\\\"cput\\\": \\\"([^\\\"]+)\\\".+$/\\1/g' | sed -E 's/\\s+/\\t/g'"
   ]
  },
  {
   "cell_type": "code",
   "execution_count": 28,
   "metadata": {},
   "outputs": [
    {
     "name": "stdout",
     "output_type": "stream",
     "text": [
      "HKWYYCCXY-1_Mapping.out.3435435.sug-prod-moab 204:22:08\n",
      "XXXXXXXXX-1_Mapping.out.9999999.sug-prod-moab 100:11:11\n"
     ]
    }
   ],
   "source": [
    "%%bash\n",
    "for file in *Mapping.out.*; do echo $file `tail -n1 $file | sed -E 's/^.+\\\"cput\\\": \\\"([^\\\"]+)\\\".+$/\\1/g'`; done"
   ]
  },
  {
   "cell_type": "code",
   "execution_count": 27,
   "metadata": {},
   "outputs": [
    {
     "name": "stdout",
     "output_type": "stream",
     "text": [
      "100:11:11\n"
     ]
    }
   ],
   "source": [
    "%%bash\n",
    "cat XXXXXXXXX-1_Mapping.out.9999999.sug-prod-moab | tail -n1 | sed -E 's/^.+\\\"cput\\\": \\\"([^\\\"]+)\\\".+$/\\1/g'"
   ]
  },
  {
   "cell_type": "code",
   "execution_count": 29,
   "metadata": {},
   "outputs": [
    {
     "name": "stdout",
     "output_type": "stream",
     "text": [
      "HKWYYCCXY-1_Mapping.out.3435435.tug-prod-moab 204:22:08\n",
      "XXXXXXXXX-1_Mapping.out.9999999.tug-prod-moab 100:11:11\n"
     ]
    }
   ],
   "source": [
    "%%bash\n",
    "for file in *Mapping.out.*; do echo $file `tail -n1 $file | sed -E 's/^.+\\\"cput\\\": \\\"([^\\\"]+)\\\".+$/\\1/g'`; done | sed -E 's/\\s+/\\t/g' "
   ]
  },
  {
   "cell_type": "code",
   "execution_count": 30,
   "metadata": {},
   "outputs": [
    {
     "name": "stdout",
     "output_type": "stream",
     "text": [
      "HKWYYCCXY-1_Mapping.out.3435435.tug-prod-moab 204:22:08\n",
      "XXXXXXXXX-1_Mapping.out.9999999.tug-prod-moab 100:11:11\n"
     ]
    }
   ],
   "source": [
    "%%bash\n",
    "for file in *Mapping.out.*; do echo $file `tail -n1 $file | sed -E 's/^.+\\\"cput\\\": \\\"([^\\\"]+)\\\".+$/\\1/g'`; done | sed -E 's/\\s+/\\t/g' | cut -f2"
   ]
  },
  {
   "cell_type": "code",
   "execution_count": 34,
   "metadata": {},
   "outputs": [
    {
     "name": "stderr",
     "output_type": "stream",
     "text": [
      "HKWYYCCXY-1_Mapping.out.3435435.sug-prod-moab 204:22:08 error\n",
      "XXXXXXXXX-1_Mapping.out.9999999.sug-prod-moab error\n"
     ]
    }
   ],
   "source": [
    "%%bash\n",
    "for file in *Mapping.out.*; do echo $file `tail -n1 $file | sed -E 's/^.+\\\"cput\\\": \\\"([^\\\"]+)\\\".+$/\\1/g'` >&2 error; done "
   ]
  },
  {
   "cell_type": "code",
   "execution_count": null,
   "metadata": {},
   "outputs": [],
   "source": []
  }
 ],
 "metadata": {
  "kernelspec": {
   "display_name": "Python 3",
   "language": "python",
   "name": "python3"
  },
  "language_info": {
   "codemirror_mode": {
    "name": "ipython",
    "version": 3
   },
   "file_extension": ".py",
   "mimetype": "text/x-python",
   "name": "python",
   "nbconvert_exporter": "python",
   "pygments_lexer": "ipython3",
   "version": "3.6.4"
  }
 },
 "nbformat": 4,
 "nbformat_minor": 2
}
