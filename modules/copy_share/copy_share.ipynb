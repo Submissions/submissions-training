{
 "cells": [
  {
   "cell_type": "markdown",
   "metadata": {},
   "source": [
    "## rsync\n",
    "-  rsync is a file transfer program <br>\n",
    "-  fast method for bringing remote files into sync <br>\n",
    "-  sends just the differences in the files across the link"
   ]
  },
  {
   "cell_type": "markdown",
   "metadata": {},
   "source": [
    "# Cryptic Hash Functions\n",
    "\n",
    "## md5sum\n",
    "-  compute and check MD5 message digest <br>\n",
    "\n",
    "#### Synopsis\n",
    "> md5sum [OPTION]... [FILE]... <br>\n",
    "\n",
    "#### Verification\n",
    "-  -c or --check <br>\n",
    "-  --quiet"
   ]
  },
  {
   "cell_type": "markdown",
   "metadata": {},
   "source": [
    "## sha1\n",
    "-  takes an input and produces a 160-bit hash value <br>\n",
    "-  typically rendered as a hexadecimal number, 40 digits long\n",
    "\n",
    "## sha2\n",
    "> consists of six hash functions with digests (hash values): <br>\n",
    "-  SHA-224: 224 bits  <br>\n",
    "-  SHA-256: 256 bits <br> \n",
    "-  SHA-384: 384 bits <br> \n",
    "-  SHA-512: 512 bits <br>\n",
    "-  SHA-512/224 <br>\n",
    "-  SHA-512/256"
   ]
  },
  {
   "cell_type": "code",
   "execution_count": null,
   "metadata": {},
   "outputs": [],
   "source": []
  }
 ],
 "metadata": {
  "kernelspec": {
   "display_name": "Python 3",
   "language": "python",
   "name": "python3"
  },
  "language_info": {
   "codemirror_mode": {
    "name": "ipython",
    "version": 3
   },
   "file_extension": ".py",
   "mimetype": "text/x-python",
   "name": "python",
   "nbconvert_exporter": "python",
   "pygments_lexer": "ipython3",
   "version": "3.6.4"
  }
 },
 "nbformat": 4,
 "nbformat_minor": 2
}
