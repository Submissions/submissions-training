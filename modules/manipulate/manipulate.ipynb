{
 "cells": [
  {
   "cell_type": "markdown",
   "metadata": {},
   "source": [
    "## SED\n",
    "\n",
    "-  is used to perform basic text transformations on an input stream <br>\n",
    "-  more efficient because it only makes one pass over the input"
   ]
  },
  {
   "cell_type": "code",
   "execution_count": null,
   "metadata": {},
   "outputs": [],
   "source": [
    "!cat input.txt"
   ]
  },
  {
   "cell_type": "code",
   "execution_count": null,
   "metadata": {},
   "outputs": [],
   "source": [
    "!sed 's/hello/world/' input.txt > output.txt"
   ]
  },
  {
   "cell_type": "code",
   "execution_count": null,
   "metadata": {},
   "outputs": [],
   "source": [
    "!cat output.txt"
   ]
  },
  {
   "cell_type": "code",
   "execution_count": null,
   "metadata": {},
   "outputs": [],
   "source": [
    "%%bash\n",
    "# can also do:\n",
    "sed 's/hello/world/' < input.txt > output.txt\n",
    "cat input.txt | sed 's/hello/world/' > output.txt"
   ]
  },
  {
   "cell_type": "code",
   "execution_count": null,
   "metadata": {},
   "outputs": [],
   "source": [
    "#print only a certain line number\n",
    "!sed -n '2p' input.txt"
   ]
  },
  {
   "cell_type": "code",
   "execution_count": null,
   "metadata": {},
   "outputs": [],
   "source": [
    "!sed -n '1p' input.txt"
   ]
  },
  {
   "cell_type": "markdown",
   "metadata": {},
   "source": [
    "#### Sed on multiple files is treated as a single stream"
   ]
  },
  {
   "cell_type": "code",
   "execution_count": null,
   "metadata": {},
   "outputs": [],
   "source": [
    "!sed -n '1p ; $p' one.txt two.txt three.txt  #first line of the first file, last line of the third file"
   ]
  },
  {
   "cell_type": "code",
   "execution_count": 22,
   "metadata": {},
   "outputs": [
    {
     "name": "stdout",
     "output_type": "stream",
     "text": [
      "* is a command\r\n",
      "\r\n",
      "** is a command\r\n",
      "\r\n",
      "* * is a command\r\n",
      "\r\n",
      "**** is a command ****\r\n",
      "\r\n"
     ]
    }
   ],
   "source": [
    "!cat sed.txt"
   ]
  },
  {
   "cell_type": "code",
   "execution_count": 23,
   "metadata": {},
   "outputs": [
    {
     "name": "stdout",
     "output_type": "stream",
     "text": [
      "sed is a command\r\n",
      "\r\n",
      "sedsed is a command\r\n",
      "\r\n",
      "sed sed is a command\r\n",
      "\r\n",
      "sedsedsedsed is a command sedsedsedsed\r\n",
      "\r\n"
     ]
    }
   ],
   "source": [
    "!sed 's/\\*/sed/g' sed.txt"
   ]
  },
  {
   "cell_type": "markdown",
   "metadata": {},
   "source": [
    "## AWK\n",
    "-  searches files for a text containing a specific pattern\n",
    "-  when a text matches the pattern, it performs an action on that text"
   ]
  },
  {
   "cell_type": "markdown",
   "metadata": {},
   "source": [
    "> **Syntax** <br>\n",
    "awk options 'selection _criteria {action }' input-file > output-file"
   ]
  },
  {
   "cell_type": "code",
   "execution_count": 14,
   "metadata": {},
   "outputs": [
    {
     "name": "stdout",
     "output_type": "stream",
     "text": [
      "AWK(1)                                                                  AWK(1)\r\n",
      "\r\n",
      "\r\n",
      "\r\n",
      "awk\r\n",
      "\r\n",
      "N\bNA\bAM\bME\bE\r\n",
      "       awk - pattern-directed scanning and processing language\r\n",
      "\r\n",
      "S\bSY\bYN\bNO\bOP\bPS\bSI\bIS\bS\r\n",
      "       a\baw\bwk\bk [ -\b-F\bF _\bf_\bs ] [ -\b-v\bv _\bv_\ba_\br_\b=_\bv_\ba_\bl_\bu_\be ] [ _\b'_\bp_\br_\bo_\bg_\b' | -\b-f\bf _\bp_\br_\bo_\bg_\bf_\bi_\bl_\be ] [ _\bf_\bi_\bl_\be _\b._\b._\b.  ]\r\n",
      "\r\n",
      "D\bDE\bES\bSC\bCR\bRI\bIP\bPT\bTI\bIO\bON\bN\r\n",
      "       _\bA_\bw_\bk scans each input _\bf_\bi_\bl_\be for lines that match any of a set of patterns\r\n",
      "       specified literally in _\bp_\br_\bo_\bg or in one or more  files  specified  as  -\b-f\bf\r\n",
      "       _\bp_\br_\bo_\bg_\bf_\bi_\bl_\be.   With  each  pattern  there can be an associated action that\r\n",
      "       will be performed when a line of a _\bf_\bi_\bl_\be matches the pattern.  Each line\r\n",
      "       is  matched  against the pattern portion of every pattern-action state-\r\n",
      "       ment; the associated action is performed for each matched pattern.  The\r\n",
      "       file  name  -\b- means the standard input.  Any _\bf_\bi_\bl_\be of the form _\bv_\ba_\br_\b=_\bv_\ba_\bl_\bu_\be\r\n",
      "       is treated as an assignment, not a filename, and  is  executed  at  the\r\n",
      "       time  it  would  have been opened if it were a filename.  The option -\b-v\bv\r\n",
      "       followed by _\bv_\ba_\br_\b=_\bv_\ba_\bl_\bu_\be is an assignment to be done before _\bp_\br_\bo_\bg  is  exe-\r\n",
      "       cuted;  any  number  of  -\b-v\bv  options  may be present.  The -\b-F\bF _\bf_\bs option\r\n",
      "       defines the input field separator to be the regular expression _\bf_\bs_\b.\r\n",
      "\r\n",
      "       An input line is normally made up of fields separated by  white  space,\r\n",
      "       or by regular expression F\bFS\bS.  The fields are denoted $\b$1\b1, $\b$2\b2, ..., while\r\n",
      "       $\b$0\b0 refers to the entire line.  If F\bFS\bS is null, the input line  is  split\r\n",
      "       into one field per character.\r\n",
      "\r\n",
      "       A pattern-action statement has the form\r\n",
      "\r\n",
      "              _\bp_\ba_\bt_\bt_\be_\br_\bn {\b{ _\ba_\bc_\bt_\bi_\bo_\bn }\b}\r\n",
      "\r\n",
      "       A  missing  {\b{  _\ba_\bc_\bt_\bi_\bo_\bn  }\b} means print the line; a missing pattern always\r\n",
      "       matches.  Pattern-action statements are separated by newlines or  semi-\r\n",
      "       colons.\r\n",
      "\r\n",
      "       An  action  is a sequence of statements.  A statement can be one of the\r\n",
      "       following:\r\n",
      "\r\n",
      "              if( _\be_\bx_\bp_\br_\be_\bs_\bs_\bi_\bo_\bn ) _\bs_\bt_\ba_\bt_\be_\bm_\be_\bn_\bt [ else _\bs_\bt_\ba_\bt_\be_\bm_\be_\bn_\bt ]\r\n",
      "              while( _\be_\bx_\bp_\br_\be_\bs_\bs_\bi_\bo_\bn ) _\bs_\bt_\ba_\bt_\be_\bm_\be_\bn_\bt\r\n",
      "              for( _\be_\bx_\bp_\br_\be_\bs_\bs_\bi_\bo_\bn ; _\be_\bx_\bp_\br_\be_\bs_\bs_\bi_\bo_\bn ; _\be_\bx_\bp_\br_\be_\bs_\bs_\bi_\bo_\bn ) _\bs_\bt_\ba_\bt_\be_\bm_\be_\bn_\bt\r\n",
      "              for( _\bv_\ba_\br in _\ba_\br_\br_\ba_\by ) _\bs_\bt_\ba_\bt_\be_\bm_\be_\bn_\bt\r\n",
      "              do _\bs_\bt_\ba_\bt_\be_\bm_\be_\bn_\bt while( _\be_\bx_\bp_\br_\be_\bs_\bs_\bi_\bo_\bn )\r\n",
      "              break\r\n",
      "              continue\r\n",
      "              { [ _\bs_\bt_\ba_\bt_\be_\bm_\be_\bn_\bt _\b._\b._\b. ] }\r\n",
      "              _\be_\bx_\bp_\br_\be_\bs_\bs_\bi_\bo_\bn              # commonly _\bv_\ba_\br _\b= _\be_\bx_\bp_\br_\be_\bs_\bs_\bi_\bo_\bn\r\n",
      "              print [ _\be_\bx_\bp_\br_\be_\bs_\bs_\bi_\bo_\bn_\b-_\bl_\bi_\bs_\bt ] [ > _\be_\bx_\bp_\br_\be_\bs_\bs_\bi_\bo_\bn ]\r\n",
      "              printf _\bf_\bo_\br_\bm_\ba_\bt [ , _\be_\bx_\bp_\br_\be_\bs_\bs_\bi_\bo_\bn_\b-_\bl_\bi_\bs_\bt ] [ > _\be_\bx_\bp_\br_\be_\bs_\bs_\bi_\bo_\bn ]\r\n",
      "              return [ _\be_\bx_\bp_\br_\be_\bs_\bs_\bi_\bo_\bn ]\r\n",
      "              next                    # skip remaining patterns on this input line\r\n",
      "              nextfile                # skip rest of this file, open next, start at top\r\n",
      "              delete _\ba_\br_\br_\ba_\by[ _\be_\bx_\bp_\br_\be_\bs_\bs_\bi_\bo_\bn ]# delete an array element\r\n",
      "              delete _\ba_\br_\br_\ba_\by            # delete all elements of array\r\n",
      "              exit [ _\be_\bx_\bp_\br_\be_\bs_\bs_\bi_\bo_\bn ]     # exit immediately; status is _\be_\bx_\bp_\br_\be_\bs_\bs_\bi_\bo_\bn\r\n",
      "\r\n",
      "       Statements are terminated by semicolons, newlines or right braces.   An\r\n",
      "       empty  _\be_\bx_\bp_\br_\be_\bs_\bs_\bi_\bo_\bn_\b-_\bl_\bi_\bs_\bt stands for $\b$0\b0.  String constants are quoted \" \",\r\n",
      "       with the usual C escapes recognized within.  Expressions take on string\r\n",
      "       or numeric values as appropriate, and are built using the operators +\b+ -\b-\r\n",
      "       *\b* /\b/ %\b% ^\b^ (exponentiation), and concatenation (indicated by white space).\r\n",
      "       The  operators  !\b!  +\b++\b+  -\b--\b- +\b+=\b= -\b-=\b= *\b*=\b= /\b/=\b= %\b%=\b= ^\b^=\b= >\b> >\b>=\b= <\b< <\b<=\b= =\b==\b= !\b!=\b= ?\b?:\b: are also\r\n",
      "       available in expressions.  Variables may  be  scalars,  array  elements\r\n",
      "       (denoted  _\bx[\b[_\bi]\b]_\b)  or  fields.   Variables  are  initialized  to the null\r\n",
      "       string.  Array subscripts may be any string, not  necessarily  numeric;\r\n",
      "       this allows for a form of associative memory.  Multiple subscripts such\r\n",
      "       as [\b[i\bi,\b,j\bj,\b,k\bk]\b] are permitted; the constituents are concatenated,  separated\r\n",
      "       by the value of S\bSU\bUB\bBS\bSE\bEP\bP.\r\n",
      "\r\n",
      "       The  p\bpr\bri\bin\bnt\bt statement prints its arguments on the standard output (or on\r\n",
      "       a file if >\b>_\bf_\bi_\bl_\be or >\b>>\b>_\bf_\bi_\bl_\be is present or on a pipe if |\b|_\bc_\bm_\bd is  present),\r\n",
      "       separated  by the current output field separator, and terminated by the\r\n",
      "       output record separator.  _\bf_\bi_\bl_\be and _\bc_\bm_\bd may be literal names  or  paren-\r\n",
      "       thesized  expressions;  identical string values in different statements\r\n",
      "       denote the same open file.  The p\bpr\bri\bin\bnt\btf\bf statement formats its expression\r\n",
      "       list  according  to  the format (see _\bp_\br_\bi_\bn_\bt_\bf(3))_\b.  The built-in function\r\n",
      "       c\bcl\blo\bos\bse\be(\b(_\be_\bx_\bp_\br)\b) closes the  file  or  pipe  _\be_\bx_\bp_\br.   The  built-in  function\r\n",
      "       f\bff\bfl\blu\bus\bsh\bh(\b(_\be_\bx_\bp_\br)\b) flushes any buffered output for the file or pipe _\be_\bx_\bp_\br.\r\n",
      "\r\n",
      "       The  mathematical  functions  e\bex\bxp\bp,  l\blo\bog\bg,  s\bsq\bqr\brt\bt, s\bsi\bin\bn, c\bco\bos\bs, and a\bat\bta\ban\bn2\b2 are\r\n",
      "       built in.  Other built-in functions:\r\n",
      "\r\n",
      "       l\ble\ben\bng\bgt\bth\bh the length of its argument taken as a string, or  of  $\b$0\b0  if  no\r\n",
      "              argument.\r\n",
      "\r\n",
      "       r\bra\ban\bnd\bd   random number on (0,1)\r\n",
      "\r\n",
      "       s\bsr\bra\ban\bnd\bd  sets seed for r\bra\ban\bnd\bd and returns the previous seed.\r\n",
      "\r\n",
      "       i\bin\bnt\bt    truncates to an integer value\r\n",
      "\r\n",
      "       s\bsu\bub\bbs\bst\btr\br(\b(_\bs,\b, _\bm,\b, _\bn)\b)\r\n",
      "              the _\bn-character substring of _\bs that begins at position _\bm counted\r\n",
      "              from 1.\r\n",
      "\r\n",
      "       i\bin\bnd\bde\bex\bx(\b(_\bs,\b, _\bt)\b)\r\n",
      "              the position in _\bs where the string _\bt occurs, or  0  if  it  does\r\n",
      "              not.\r\n",
      "\r\n",
      "       m\bma\bat\btc\bch\bh(\b(_\bs,\b, _\br)\b)\r\n",
      "              the position in _\bs where the regular expression _\br occurs, or 0 if\r\n",
      "              it does not.  The variables R\bRS\bST\bTA\bAR\bRT\bT and R\bRL\bLE\bEN\bNG\bGT\bTH\bH are  set  to  the\r\n",
      "              position and length of the matched string.\r\n",
      "\r\n",
      "       s\bsp\bpl\bli\bit\bt(\b(_\bs,\b, _\ba,\b, _\bf_\bs)\b)\r\n",
      "              splits  the  string _\bs into array elements _\ba[\b[1\b1]\b]_\b, _\ba[\b[2\b2]\b]_\b, ..., _\ba[\b[_\bn]\b]_\b,\r\n",
      "              and returns _\bn.  The separation is done with the regular  expres-\r\n",
      "              sion  _\bf_\bs  or with the field separator F\bFS\bS if _\bf_\bs is not given.  An\r\n",
      "              empty string as field separator splits the string into one array\r\n",
      "              element per character.\r\n",
      "\r\n",
      "       s\bsu\bub\bb(\b(_\br,\b, _\bt,\b, _\bs)\b)\r\n",
      "              substitutes _\bt for the first occurrence of the regular expression\r\n",
      "              _\br in the string _\bs.  If _\bs is not given, $\b$0\b0 is used.\r\n",
      "\r\n",
      "       g\bgs\bsu\bub\bb   same as s\bsu\bub\bb except that all occurrences of the  regular  expres-\r\n",
      "              sion  are  replaced;  s\bsu\bub\bb and g\bgs\bsu\bub\bb return the number of replace-\r\n",
      "              ments.\r\n",
      "\r\n",
      "       s\bsp\bpr\bri\bin\bnt\btf\bf(\b(_\bf_\bm_\bt,\b, _\be_\bx_\bp_\br,\b, _\b._\b._\b. )\b)\r\n",
      "              the string resulting from formatting _\be_\bx_\bp_\br _\b._\b._\b.  according to  the\r\n",
      "              _\bp_\br_\bi_\bn_\bt_\bf(3) format _\bf_\bm_\bt\r\n",
      "\r\n",
      "       s\bsy\bys\bst\bte\bem\bm(\b(_\bc_\bm_\bd)\b)\r\n",
      "              executes _\bc_\bm_\bd and returns its exit status\r\n",
      "\r\n",
      "       t\bto\bol\blo\bow\bwe\ber\br(\b(_\bs_\bt_\br)\b)\r\n",
      "              returns  a copy of _\bs_\bt_\br with all upper-case characters translated\r\n",
      "              to their corresponding lower-case equivalents.\r\n",
      "\r\n",
      "       t\bto\bou\bup\bpp\bpe\ber\br(\b(_\bs_\bt_\br)\b)\r\n",
      "              returns a copy of _\bs_\bt_\br with all lower-case characters  translated\r\n",
      "              to their corresponding upper-case equivalents.\r\n",
      "\r\n",
      "       The ``function'' g\bge\bet\btl\bli\bin\bne\be sets $\b$0\b0 to the next input record from the cur-\r\n",
      "       rent input file; g\bge\bet\btl\bli\bin\bne\be <\b<_\bf_\bi_\bl_\be sets $\b$0\b0 to the next  record  from  _\bf_\bi_\bl_\be.\r\n",
      "       g\bge\bet\btl\bli\bin\bne\be  _\bx  sets  variable _\bx instead.  Finally, _\bc_\bm_\bd |\b| g\bge\bet\btl\bli\bin\bne\be pipes the\r\n",
      "       output of _\bc_\bm_\bd into g\bge\bet\btl\bli\bin\bne\be; each call of g\bge\bet\btl\bli\bin\bne\be returns the next  line\r\n",
      "       of  output  from _\bc_\bm_\bd.  In all cases, g\bge\bet\btl\bli\bin\bne\be returns 1 for a successful\r\n",
      "       input, 0 for end of file, and -1 for an error.\r\n",
      "\r\n",
      "       Patterns are arbitrary Boolean combinations (with !\b! |\b||\b| &\b&&\b&)  of  regular\r\n",
      "       expressions  and  relational  expressions.   Regular expressions are as\r\n",
      "       defined in _\br_\be_\b__\bf_\bo_\br_\bm_\ba_\bt(7).  Isolated regular  expressions  in  a  pattern\r\n",
      "       apply  to the entire line.  Regular expressions may also occur in rela-\r\n",
      "       tional expressions, using the operators ~\b~ and !\b!~\b~.  /\b/_\br_\be/\b/ is  a  constant\r\n",
      "       regular  expression; any string (constant or variable) may be used as a\r\n",
      "       regular expression, except in  the  position  of  an  isolated  regular\r\n",
      "       expression in a pattern.\r\n",
      "\r\n",
      "       A  pattern  may  consist  of two patterns separated by a comma; in this\r\n",
      "       case, the action is performed for all lines from an occurrence  of  the\r\n",
      "       first pattern though an occurrence of the second.\r\n",
      "\r\n",
      "       A relational expression is one of the following:\r\n",
      "\r\n",
      "              _\be_\bx_\bp_\br_\be_\bs_\bs_\bi_\bo_\bn _\bm_\ba_\bt_\bc_\bh_\bo_\bp _\br_\be_\bg_\bu_\bl_\ba_\br_\b-_\be_\bx_\bp_\br_\be_\bs_\bs_\bi_\bo_\bn\r\n",
      "              _\be_\bx_\bp_\br_\be_\bs_\bs_\bi_\bo_\bn _\br_\be_\bl_\bo_\bp _\be_\bx_\bp_\br_\be_\bs_\bs_\bi_\bo_\bn\r\n",
      "              _\be_\bx_\bp_\br_\be_\bs_\bs_\bi_\bo_\bn i\bin\bn _\ba_\br_\br_\ba_\by_\b-_\bn_\ba_\bm_\be\r\n",
      "              (\b(_\be_\bx_\bp_\br,\b,_\be_\bx_\bp_\br_\b,_\b._\b._\b.)\b) i\bin\bn _\ba_\br_\br_\ba_\by_\b-_\bn_\ba_\bm_\be\r\n",
      "\r\n",
      "       where  a  relop  is  any  of  the  six relational operators in C, and a\r\n",
      "       matchop is either ~\b~ (matches) or !\b!~\b~ (does not match).  A conditional is\r\n",
      "       an  arithmetic expression, a relational expression, or a Boolean combi-\r\n",
      "       nation of these.\r\n",
      "\r\n",
      "       The special patterns B\bBE\bEG\bGI\bIN\bN and E\bEN\bND\bD  may  be  used  to  capture  control\r\n",
      "       before  the first input line is read and after the last.  B\bBE\bEG\bGI\bIN\bN and E\bEN\bND\bD\r\n",
      "       do not combine with other patterns.\r\n",
      "\r\n",
      "       Variable names with special meanings:\r\n",
      "\r\n",
      "       C\bCO\bON\bNV\bVF\bFM\bMT\bT\r\n",
      "              conversion format used when converting numbers (default %\b%.\b.6\b6g\bg)\r\n",
      "\r\n",
      "       F\bFS\bS     regular expression used to separate  fields;  also  settable  by\r\n",
      "              option -\b-F\bF_\bf_\bs_\b.\r\n",
      "\r\n",
      "       N\bNF\bF     number of fields in the current record\r\n",
      "\r\n",
      "       N\bNR\bR     ordinal number of the current record\r\n",
      "\r\n",
      "       F\bFN\bNR\bR    ordinal number of the current record in the current file\r\n",
      "\r\n",
      "       F\bFI\bIL\bLE\bEN\bNA\bAM\bME\bE\r\n",
      "              the name of the current input file\r\n",
      "\r\n",
      "       R\bRS\bS     input record separator (default newline)\r\n",
      "\r\n",
      "       O\bOF\bFS\bS    output field separator (default blank)\r\n",
      "\r\n",
      "       O\bOR\bRS\bS    output record separator (default newline)\r\n",
      "\r\n",
      "       O\bOF\bFM\bMT\bT   output format for numbers (default %\b%.\b.6\b6g\bg)\r\n",
      "\r\n",
      "       S\bSU\bUB\bBS\bSE\bEP\bP separates multiple subscripts (default 034)\r\n",
      "\r\n",
      "       A\bAR\bRG\bGC\bC   argument count, assignable\r\n",
      "\r\n",
      "       A\bAR\bRG\bGV\bV   argument  array, assignable; non-null members are taken as file-\r\n",
      "              names\r\n",
      "\r\n",
      "       E\bEN\bNV\bVI\bIR\bRO\bON\bN\r\n",
      "              array of environment variables; subscripts are names.\r\n",
      "\r\n",
      "       Functions may be defined (at the position of  a  pattern-action  state-\r\n",
      "       ment) thus:\r\n",
      "\r\n",
      "              f\bfu\bun\bnc\bct\bti\bio\bon\bn f\bfo\boo\bo(\b(a\ba,\b, b\bb,\b, c\bc)\b) {\b{ .\b..\b..\b.;\b; r\bre\bet\btu\bur\brn\bn x\bx }\b}\r\n",
      "\r\n",
      "       Parameters  are  passed  by  value  if scalar and by reference if array\r\n",
      "       name; functions may be called recursively.  Parameters are local to the\r\n",
      "       function;  all other variables are global.  Thus local variables may be\r\n",
      "       created by providing excess parameters in the function definition.\r\n",
      "\r\n",
      "E\bEX\bXA\bAM\bMP\bPL\bLE\bES\bS\r\n",
      "       length($0) > 72\r\n",
      "              Print lines longer than 72 characters.\r\n",
      "\r\n",
      "       { print $2, $1 }\r\n",
      "              Print first two fields in opposite order.\r\n",
      "\r\n",
      "       BEGIN { FS = \",[ \\t]*|[ \\t]+\" }\r\n",
      "             { print $2, $1 }\r\n",
      "              Same, with input fields separated by  comma  and/or  blanks  and\r\n",
      "              tabs.\r\n",
      "\r\n",
      "            { s += $1 }\r\n",
      "       END  { print \"sum is\", s, \" average is\", s/NR }\r\n",
      "              Add up first column, print sum and average.\r\n",
      "\r\n",
      "       /start/, /stop/\r\n",
      "              Print all lines between start/stop pairs.\r\n",
      "\r\n",
      "       BEGIN     {    # Simulate echo(1)\r\n",
      "            for (i = 1; i < ARGC; i++) printf \"%s \", ARGV[i]\r\n",
      "            printf \"\\n\"\r\n",
      "            exit }\r\n",
      "\r\n",
      "S\bSE\bEE\bE A\bAL\bLS\bSO\bO\r\n",
      "       _\bl_\be_\bx(1), _\bs_\be_\bd(1)\r\n",
      "       A.  V. Aho, B. W. Kernighan, P. J. Weinberger, _\bT_\bh_\be _\bA_\bW_\bK _\bP_\br_\bo_\bg_\br_\ba_\bm_\bm_\bi_\bn_\bg _\bL_\ba_\bn_\b-\r\n",
      "       _\bg_\bu_\ba_\bg_\be_\b, Addison-Wesley, 1988.  ISBN 0-201-07981-X\r\n",
      "\r\n",
      "B\bBU\bUG\bGS\bS\r\n",
      "       There are no explicit conversions  between  numbers  and  strings.   To\r\n",
      "       force  an expression to be treated as a number add 0 to it; to force it\r\n",
      "       to be treated as a string concatenate \"\" to it.\r\n",
      "       The scope rules for variables in functions are a botch; the  syntax  is\r\n",
      "       worse.\r\n",
      "\r\n",
      "\r\n",
      "\r\n",
      "                                                                        AWK(1)\r\n"
     ]
    }
   ],
   "source": [
    "!man awk"
   ]
  },
  {
   "cell_type": "code",
   "execution_count": 4,
   "metadata": {},
   "outputs": [
    {
     "name": "stdout",
     "output_type": "stream",
     "text": [
      "Cerebellum manager account 45000\n",
      "Cerebrum clerk account 25000\n",
      "Hypothalamus manager sales 50000\n",
      "Dendrites manager account 47000\n",
      "Grey clerk sales 15000\n",
      "White clerk sales 23000\n"
     ]
    }
   ],
   "source": [
    "%%bash\n",
    "awk '{print}' employees.txt"
   ]
  },
  {
   "cell_type": "code",
   "execution_count": 13,
   "metadata": {},
   "outputs": [
    {
     "name": "stdout",
     "output_type": "stream",
     "text": [
      "Cerebellum manager account 45000\n",
      "Hypothalamus manager sales 50000\n",
      "Dendrites manager account 47000\n"
     ]
    }
   ],
   "source": [
    "%%bash\n",
    "awk '/manager/ {print}' employees.txt"
   ]
  },
  {
   "cell_type": "code",
   "execution_count": 11,
   "metadata": {},
   "outputs": [
    {
     "name": "stdout",
     "output_type": "stream",
     "text": [
      "Cerebellum 45000\r\n",
      "Cerebrum 25000\r\n",
      "Hypothalamus 50000\r\n",
      "Dendrites 47000\r\n",
      "Grey 15000\r\n",
      "White 23000\r\n"
     ]
    }
   ],
   "source": [
    "!awk '{print $1,$4}' employees.txt "
   ]
  },
  {
   "cell_type": "code",
   "execution_count": 17,
   "metadata": {},
   "outputs": [
    {
     "name": "stdout",
     "output_type": "stream",
     "text": [
      "6\n"
     ]
    }
   ],
   "source": [
    "%%bash\n",
    "### print the number of lines\n",
    "awk 'END { print NR }' employees.txt"
   ]
  },
  {
   "cell_type": "markdown",
   "metadata": {},
   "source": [
    "#### More info:\n",
    "https://www.computerhope.com/unix/uawk.htm"
   ]
  },
  {
   "cell_type": "markdown",
   "metadata": {},
   "source": [
    "## CUT"
   ]
  },
  {
   "cell_type": "code",
   "execution_count": 24,
   "metadata": {},
   "outputs": [
    {
     "name": "stdout",
     "output_type": "stream",
     "text": [
      "\r\n",
      "CUT(1)                    BSD General Commands Manual                   CUT(1)\r\n",
      "\r\n",
      "N\bNA\bAM\bME\bE\r\n",
      "     c\bcu\but\bt -- cut out selected portions of each line of a file\r\n",
      "\r\n",
      "S\bSY\bYN\bNO\bOP\bPS\bSI\bIS\bS\r\n",
      "     c\bcu\but\bt -\b-b\bb _\bl_\bi_\bs_\bt [-\b-n\bn] [_\bf_\bi_\bl_\be _\b._\b._\b.]\r\n",
      "     c\bcu\but\bt -\b-c\bc _\bl_\bi_\bs_\bt [_\bf_\bi_\bl_\be _\b._\b._\b.]\r\n",
      "     c\bcu\but\bt -\b-f\bf _\bl_\bi_\bs_\bt [-\b-d\bd _\bd_\be_\bl_\bi_\bm] [-\b-s\bs] [_\bf_\bi_\bl_\be _\b._\b._\b.]\r\n",
      "\r\n",
      "D\bDE\bES\bSC\bCR\bRI\bIP\bPT\bTI\bIO\bON\bN\r\n",
      "     The c\bcu\but\bt utility cuts out selected portions of each line (as specified by\r\n",
      "     _\bl_\bi_\bs_\bt) from each _\bf_\bi_\bl_\be and writes them to the standard output.  If no _\bf_\bi_\bl_\be\r\n",
      "     arguments are specified, or a file argument is a single dash (`-\b-'), c\bcu\but\bt\r\n",
      "     reads from the standard input.  The items specified by _\bl_\bi_\bs_\bt can be in\r\n",
      "     terms of column position or in terms of fields delimited by a special\r\n",
      "     character.  Column numbering starts from 1.\r\n",
      "\r\n",
      "     The _\bl_\bi_\bs_\bt option argument is a comma or whitespace separated set of num-\r\n",
      "     bers and/or number ranges.  Number ranges consist of a number, a dash\r\n",
      "     (`-'), and a second number and select the fields or columns from the\r\n",
      "     first number to the second, inclusive.  Numbers or number ranges may be\r\n",
      "     preceded by a dash, which selects all fields or columns from 1 to the\r\n",
      "     last number.  Numbers or number ranges may be followed by a dash, which\r\n",
      "     selects all fields or columns from the last number to the end of the\r\n",
      "     line.  Numbers and number ranges may be repeated, overlapping, and in any\r\n",
      "     order.  If a field or column is specified multiple times, it will appear\r\n",
      "     only once in the output.  It is not an error to select fields or columns\r\n",
      "     not present in the input line.\r\n",
      "\r\n",
      "     The options are as follows:\r\n",
      "\r\n",
      "     -\b-b\bb _\bl_\bi_\bs_\bt\r\n",
      "             The _\bl_\bi_\bs_\bt specifies byte positions.\r\n",
      "\r\n",
      "     -\b-c\bc _\bl_\bi_\bs_\bt\r\n",
      "             The _\bl_\bi_\bs_\bt specifies character positions.\r\n",
      "\r\n",
      "     -\b-d\bd _\bd_\be_\bl_\bi_\bm\r\n",
      "             Use _\bd_\be_\bl_\bi_\bm as the field delimiter character instead of the tab\r\n",
      "             character.\r\n",
      "\r\n",
      "     -\b-f\bf _\bl_\bi_\bs_\bt\r\n",
      "             The _\bl_\bi_\bs_\bt specifies fields, separated in the input by the field\r\n",
      "             delimiter character (see the -\b-d\bd option.)  Output fields are sepa-\r\n",
      "             rated by a single occurrence of the field delimiter character.\r\n",
      "\r\n",
      "     -\b-n\bn      Do not split multi-byte characters.  Characters will only be out-\r\n",
      "             put if at least one byte is selected, and, after a prefix of zero\r\n",
      "             or more unselected bytes, the rest of the bytes that form the\r\n",
      "             character are selected.\r\n",
      "\r\n",
      "     -\b-s\bs      Suppress lines with no field delimiter characters.  Unless speci-\r\n",
      "             fied, lines with no delimiters are passed through unmodified.\r\n",
      "\r\n",
      "E\bEN\bNV\bVI\bIR\bRO\bON\bNM\bME\bEN\bNT\bT\r\n",
      "     The LANG, LC_ALL and LC_CTYPE environment variables affect the execution\r\n",
      "     of c\bcu\but\bt as described in environ(7).\r\n",
      "\r\n",
      "E\bEX\bXI\bIT\bT S\bST\bTA\bAT\bTU\bUS\bS\r\n",
      "     The c\bcu\but\bt utility exits 0 on success, and >0 if an error occurs.\r\n",
      "\r\n",
      "E\bEX\bXA\bAM\bMP\bPL\bLE\bES\bS\r\n",
      "     Extract users' login names and shells from the system passwd(5) file as\r\n",
      "     ``name:shell'' pairs:\r\n",
      "\r\n",
      "           cut -d : -f 1,7 /etc/passwd\r\n",
      "\r\n",
      "     Show the names and login times of the currently logged in users:\r\n",
      "\r\n",
      "           who | cut -c 1-16,26-38\r\n",
      "\r\n",
      "S\bSE\bEE\bE A\bAL\bLS\bSO\bO\r\n",
      "     colrm(1), paste(1)\r\n",
      "\r\n",
      "S\bST\bTA\bAN\bND\bDA\bAR\bRD\bDS\bS\r\n",
      "     The c\bcu\but\bt utility conforms to IEEE Std 1003.2-1992 (``POSIX.2'').\r\n",
      "\r\n",
      "H\bHI\bIS\bST\bTO\bOR\bRY\bY\r\n",
      "     A c\bcu\but\bt command appeared in AT&T System III UNIX.\r\n",
      "\r\n",
      "BSD                            December 21, 2006                           BSD\r\n"
     ]
    }
   ],
   "source": [
    "!man cut"
   ]
  },
  {
   "cell_type": "code",
   "execution_count": 25,
   "metadata": {},
   "outputs": [
    {
     "name": "stdout",
     "output_type": "stream",
     "text": [
      "cat command for file oriented operations.\r\n",
      "cp command for copy files or directories.\r\n",
      "ls command to list out files and directories with its attributes."
     ]
    }
   ],
   "source": [
    "!cat cut_example.txt"
   ]
  },
  {
   "cell_type": "code",
   "execution_count": 27,
   "metadata": {},
   "outputs": [
    {
     "name": "stdout",
     "output_type": "stream",
     "text": [
      "a\r\n",
      "p\r\n",
      "s\r\n"
     ]
    }
   ],
   "source": [
    "### select a column of characters\n",
    "!cut -c2 cut_example.txt"
   ]
  },
  {
   "cell_type": "code",
   "execution_count": 28,
   "metadata": {},
   "outputs": [
    {
     "name": "stdout",
     "output_type": "stream",
     "text": [
      "cat\r\n",
      "cp \r\n",
      "ls \r\n"
     ]
    }
   ],
   "source": [
    "### select a range\n",
    "!cut -c1-3 cut_example.txt"
   ]
  },
  {
   "cell_type": "code",
   "execution_count": 29,
   "metadata": {},
   "outputs": [
    {
     "name": "stdout",
     "output_type": "stream",
     "text": [
      "OM\n",
      "MM\n",
      "MM\n"
     ]
    }
   ],
   "source": [
    "%%bash\n",
    "cat cut_example.txt | cut -c6-7 | tr a-z A-Z"
   ]
  },
  {
   "cell_type": "markdown",
   "metadata": {},
   "source": [
    "## TR\n",
    "-  translate\n",
    "-  delete\n",
    "-  squeeze"
   ]
  },
  {
   "cell_type": "code",
   "execution_count": null,
   "metadata": {},
   "outputs": [],
   "source": [
    "!man tr"
   ]
  },
  {
   "cell_type": "code",
   "execution_count": null,
   "metadata": {},
   "outputs": [],
   "source": [
    "### open terminal and use:\n",
    "tr abcdefghijklmnopqrstuvwxyz ABCDEFGHIJKLMNOPQRSTUVWXYZ\n",
    "\n",
    "tr [:lower:] [:upper:]\n",
    "\n",
    "tr a-z A-Z"
   ]
  },
  {
   "cell_type": "code",
   "execution_count": null,
   "metadata": {},
   "outputs": [],
   "source": [
    "### translate white spaces to tabs\n",
    "echo \"Let's write a sentence\" | tr [:space:] '\\t'"
   ]
  },
  {
   "cell_type": "code",
   "execution_count": null,
   "metadata": {},
   "outputs": [],
   "source": [
    "### use the -s option to squeeze multiple occurences of characters\n",
    "echo \"Let's write a sentence\" | tr -s [:space:] '\\t'"
   ]
  },
  {
   "cell_type": "code",
   "execution_count": null,
   "metadata": {},
   "outputs": [],
   "source": [
    "### convert multiple spaces into a single space\n",
    "echo \"This  is  for testing\" | tr -s [:space:] ' '"
   ]
  },
  {
   "cell_type": "code",
   "execution_count": null,
   "metadata": {},
   "outputs": [],
   "source": [
    "### delete specified characters using the -d option\n",
    "echo \"toy truck\" | tr -d 't'"
   ]
  },
  {
   "cell_type": "code",
   "execution_count": null,
   "metadata": {},
   "outputs": [],
   "source": [
    "### remove all digits\n",
    "echo \"the temperature is 97 degrees farenheit\" | tr -d [:digit:]"
   ]
  },
  {
   "cell_type": "code",
   "execution_count": null,
   "metadata": {},
   "outputs": [],
   "source": [
    "### remove all characters except digits\n",
    "echo \"the temperature is 97 degrees farenheit\" | tr -cd [:digit:]"
   ]
  },
  {
   "cell_type": "code",
   "execution_count": null,
   "metadata": {},
   "outputs": [],
   "source": []
  }
 ],
 "metadata": {
  "kernelspec": {
   "display_name": "Python 3",
   "language": "python",
   "name": "python3"
  },
  "language_info": {
   "codemirror_mode": {
    "name": "ipython",
    "version": 3
   },
   "file_extension": ".py",
   "mimetype": "text/x-python",
   "name": "python",
   "nbconvert_exporter": "python",
   "pygments_lexer": "ipython3",
   "version": "3.6.4"
  }
 },
 "nbformat": 4,
 "nbformat_minor": 2
}
