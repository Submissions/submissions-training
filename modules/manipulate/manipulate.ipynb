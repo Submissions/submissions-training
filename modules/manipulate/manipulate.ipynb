{
 "cells": [
  {
   "cell_type": "markdown",
   "metadata": {},
   "source": [
    "## SED\n",
    "\n",
    "-  is used to perform basic text transformations on an input stream <br>\n",
    "-  more efficient because it only makes one pass over the input"
   ]
  },
  {
   "cell_type": "code",
   "execution_count": 2,
   "metadata": {},
   "outputs": [
    {
     "name": "stdout",
     "output_type": "stream",
     "text": [
      "\r\n",
      "SED(1)                    BSD General Commands Manual                   SED(1)\r\n",
      "\r\n",
      "N\bNA\bAM\bME\bE\r\n",
      "     s\bse\bed\bd -- stream editor\r\n",
      "\r\n",
      "S\bSY\bYN\bNO\bOP\bPS\bSI\bIS\bS\r\n",
      "     s\bse\bed\bd [-\b-E\bEa\bal\bln\bn] _\bc_\bo_\bm_\bm_\ba_\bn_\bd [_\bf_\bi_\bl_\be _\b._\b._\b.]\r\n",
      "     s\bse\bed\bd [-\b-E\bEa\bal\bln\bn] [-\b-e\be _\bc_\bo_\bm_\bm_\ba_\bn_\bd] [-\b-f\bf _\bc_\bo_\bm_\bm_\ba_\bn_\bd_\b__\bf_\bi_\bl_\be] [-\b-i\bi _\be_\bx_\bt_\be_\bn_\bs_\bi_\bo_\bn] [_\bf_\bi_\bl_\be _\b._\b._\b.]\r\n",
      "\r\n",
      "D\bDE\bES\bSC\bCR\bRI\bIP\bPT\bTI\bIO\bON\bN\r\n",
      "     The s\bse\bed\bd utility reads the specified files, or the standard input if no\r\n",
      "     files are specified, modifying the input as specified by a list of com-\r\n",
      "     mands.  The input is then written to the standard output.\r\n",
      "\r\n",
      "     A single command may be specified as the first argument to s\bse\bed\bd.  Multiple\r\n",
      "     commands may be specified by using the -\b-e\be or -\b-f\bf options.  All commands\r\n",
      "     are applied to the input in the order they are specified regardless of\r\n",
      "     their origin.\r\n",
      "\r\n",
      "     The following options are available:\r\n",
      "\r\n",
      "     -\b-E\bE      Interpret regular expressions as extended (modern) regular\r\n",
      "             expressions rather than basic regular expressions (BRE's).  The\r\n",
      "             re_format(7) manual page fully describes both formats.\r\n",
      "\r\n",
      "     -\b-a\ba      The files listed as parameters for the ``w'' functions are cre-\r\n",
      "             ated (or truncated) before any processing begins, by default.\r\n",
      "             The -\b-a\ba option causes s\bse\bed\bd to delay opening each file until a com-\r\n",
      "             mand containing the related ``w'' function is applied to a line\r\n",
      "             of input.\r\n",
      "\r\n",
      "     -\b-e\be _\bc_\bo_\bm_\bm_\ba_\bn_\bd\r\n",
      "             Append the editing commands specified by the _\bc_\bo_\bm_\bm_\ba_\bn_\bd argument to\r\n",
      "             the list of commands.\r\n",
      "\r\n",
      "     -\b-f\bf _\bc_\bo_\bm_\bm_\ba_\bn_\bd_\b__\bf_\bi_\bl_\be\r\n",
      "             Append the editing commands found in the file _\bc_\bo_\bm_\bm_\ba_\bn_\bd_\b__\bf_\bi_\bl_\be to the\r\n",
      "             list of commands.  The editing commands should each be listed on\r\n",
      "             a separate line.\r\n",
      "\r\n",
      "     -\b-i\bi _\be_\bx_\bt_\be_\bn_\bs_\bi_\bo_\bn\r\n",
      "             Edit files in-place, saving backups with the specified _\be_\bx_\bt_\be_\bn_\bs_\bi_\bo_\bn.\r\n",
      "             If a zero-length _\be_\bx_\bt_\be_\bn_\bs_\bi_\bo_\bn is given, no backup will be saved.  It\r\n",
      "             is not recommended to give a zero-length _\be_\bx_\bt_\be_\bn_\bs_\bi_\bo_\bn when in-place\r\n",
      "             editing files, as you risk corruption or partial content in situ-\r\n",
      "             ations where disk space is exhausted, etc.\r\n",
      "\r\n",
      "     -\b-l\bl      Make output line buffered.\r\n",
      "\r\n",
      "     -\b-n\bn      By default, each line of input is echoed to the standard output\r\n",
      "             after all of the commands have been applied to it.  The -\b-n\bn option\r\n",
      "             suppresses this behavior.\r\n",
      "\r\n",
      "     The form of a s\bse\bed\bd command is as follows:\r\n",
      "\r\n",
      "           [address[,address]]function[arguments]\r\n",
      "\r\n",
      "     Whitespace may be inserted before the first address and the function por-\r\n",
      "     tions of the command.\r\n",
      "\r\n",
      "     Normally, s\bse\bed\bd cyclically copies a line of input, not including its termi-\r\n",
      "     nating newline character, into a _\bp_\ba_\bt_\bt_\be_\br_\bn _\bs_\bp_\ba_\bc_\be, (unless there is some-\r\n",
      "     thing left after a ``D'' function), applies all of the commands with\r\n",
      "     addresses that select that pattern space, copies the pattern space to the\r\n",
      "     standard output, appending a newline, and deletes the pattern space.\r\n",
      "\r\n",
      "     Some of the functions use a _\bh_\bo_\bl_\bd _\bs_\bp_\ba_\bc_\be to save all or part of the pattern\r\n",
      "     space for subsequent retrieval.\r\n",
      "\r\n",
      "S\bSe\bed\bd A\bAd\bdd\bdr\bre\bes\bss\bse\bes\bs\r\n",
      "     An address is not required, but if specified must be a number (that\r\n",
      "     counts input lines cumulatively across input files), a dollar (``$'')\r\n",
      "     character that addresses the last line of input, or a context address\r\n",
      "     (which consists of a regular expression preceded and followed by a delim-\r\n",
      "     iter).\r\n",
      "\r\n",
      "     A command line with no addresses selects every pattern space.\r\n",
      "\r\n",
      "     A command line with one address selects all of the pattern spaces that\r\n",
      "     match the address.\r\n",
      "\r\n",
      "     A command line with two addresses selects an inclusive range.  This range\r\n",
      "     starts with the first pattern space that matches the first address.  The\r\n",
      "     end of the range is the next following pattern space that matches the\r\n",
      "     second address.  If the second address is a number less than or equal to\r\n",
      "     the line number first selected, only that line is selected.  In the case\r\n",
      "     when the second address is a context address, s\bse\bed\bd does not re-match the\r\n",
      "     second address against the pattern space that matched the first address.\r\n",
      "     Starting at the first line following the selected range, s\bse\bed\bd starts look-\r\n",
      "     ing again for the first address.\r\n",
      "\r\n",
      "     Editing commands can be applied to non-selected pattern spaces by use of\r\n",
      "     the exclamation character (``!'') function.\r\n",
      "\r\n",
      "S\bSe\bed\bd R\bRe\beg\bgu\bul\bla\bar\br E\bEx\bxp\bpr\bre\bes\bss\bsi\bio\bon\bns\bs\r\n",
      "     The regular expressions used in s\bse\bed\bd, by default, are basic regular\r\n",
      "     expressions (BREs, see re_format(7) for more information), but extended\r\n",
      "     (modern) regular expressions can be used instead if the -\b-E\bE flag is given.\r\n",
      "     In addition, s\bse\bed\bd has the following two additions to regular expressions:\r\n",
      "\r\n",
      "     1.   In a context address, any character other than a backslash (``\\'')\r\n",
      "          or newline character may be used to delimit the regular expression.\r\n",
      "          Also, putting a backslash character before the delimiting character\r\n",
      "          causes the character to be treated literally.  For example, in the\r\n",
      "          context address \\xabc\\xdefx, the RE delimiter is an ``x'' and the\r\n",
      "          second ``x'' stands for itself, so that the regular expression is\r\n",
      "          ``abcxdef''.\r\n",
      "\r\n",
      "     2.   The escape sequence \\n matches a newline character embedded in the\r\n",
      "          pattern space.  You cannot, however, use a literal newline character\r\n",
      "          in an address or in the substitute command.\r\n",
      "\r\n",
      "     One special feature of s\bse\bed\bd regular expressions is that they can default\r\n",
      "     to the last regular expression used.  If a regular expression is empty,\r\n",
      "     i.e., just the delimiter characters are specified, the last regular\r\n",
      "     expression encountered is used instead.  The last regular expression is\r\n",
      "     defined as the last regular expression used as part of an address or sub-\r\n",
      "     stitute command, and at run-time, not compile-time.  For example, the\r\n",
      "     command ``/abc/s//XXX/'' will substitute ``XXX'' for the pattern ``abc''.\r\n",
      "\r\n",
      "S\bSe\bed\bd F\bFu\bun\bnc\bct\bti\bio\bon\bns\bs\r\n",
      "     In the following list of commands, the maximum number of permissible\r\n",
      "     addresses for each command is indicated by [0addr], [1addr], or [2addr],\r\n",
      "     representing zero, one, or two addresses.\r\n",
      "\r\n",
      "     The argument _\bt_\be_\bx_\bt consists of one or more lines.  To embed a newline in\r\n",
      "     the text, precede it with a backslash.  Other backslashes in text are\r\n",
      "     deleted and the following character taken literally.\r\n",
      "\r\n",
      "     The ``r'' and ``w'' functions take an optional file parameter, which\r\n",
      "     should be separated from the function letter by white space.  Each file\r\n",
      "     given as an argument to s\bse\bed\bd is created (or its contents truncated) before\r\n",
      "     any input processing begins.\r\n",
      "\r\n",
      "     The ``b'', ``r'', ``s'', ``t'', ``w'', ``y'', ``!'', and ``:'' functions\r\n",
      "     all accept additional arguments.  The following synopses indicate which\r\n",
      "     arguments have to be separated from the function letters by white space\r\n",
      "     characters.\r\n",
      "\r\n",
      "     Two of the functions take a function-list.  This is a list of s\bse\bed\bd func-\r\n",
      "     tions separated by newlines, as follows:\r\n",
      "\r\n",
      "           { function\r\n",
      "             function\r\n",
      "             ...\r\n",
      "             function\r\n",
      "           }\r\n",
      "\r\n",
      "     The ``{'' can be preceded by white space and can be followed by white\r\n",
      "     space.  The function can be preceded by white space.  The terminating\r\n",
      "     ``}'' must be preceded by a newline or optional white space.\r\n",
      "\r\n",
      "     [2addr] function-list\r\n",
      "             Execute function-list only when the pattern space is selected.\r\n",
      "\r\n",
      "     [1addr]a\\\r\n",
      "     text    Write _\bt_\be_\bx_\bt to standard output immediately before each attempt to\r\n",
      "             read a line of input, whether by executing the ``N'' function or\r\n",
      "             by beginning a new cycle.\r\n",
      "\r\n",
      "     [2addr]b[label]\r\n",
      "             Branch to the ``:'' function with the specified label.  If the\r\n",
      "             label is not specified, branch to the end of the script.\r\n",
      "\r\n",
      "     [2addr]c\\\r\n",
      "     text    Delete the pattern space.  With 0 or 1 address or at the end of a\r\n",
      "             2-address range, _\bt_\be_\bx_\bt is written to the standard output.\r\n",
      "\r\n",
      "     [2addr]d\r\n",
      "             Delete the pattern space and start the next cycle.\r\n",
      "\r\n",
      "     [2addr]D\r\n",
      "             Delete the initial segment of the pattern space through the first\r\n",
      "             newline character and start the next cycle.\r\n",
      "\r\n",
      "     [2addr]g\r\n",
      "             Replace the contents of the pattern space with the contents of\r\n",
      "             the hold space.\r\n",
      "\r\n",
      "     [2addr]G\r\n",
      "             Append a newline character followed by the contents of the hold\r\n",
      "             space to the pattern space.\r\n",
      "\r\n",
      "     [2addr]h\r\n",
      "             Replace the contents of the hold space with the contents of the\r\n",
      "             pattern space.\r\n",
      "\r\n",
      "     [2addr]H\r\n",
      "             Append a newline character followed by the contents of the pat-\r\n",
      "             tern space to the hold space.\r\n",
      "\r\n",
      "     [1addr]i\\\r\n",
      "     text    Write _\bt_\be_\bx_\bt to the standard output.\r\n",
      "\r\n",
      "     [2addr]l\r\n",
      "             (The letter ell.)  Write the pattern space to the standard output\r\n",
      "             in a visually unambiguous form.  This form is as follows:\r\n",
      "\r\n",
      "                   backslash          \\\\\r\n",
      "                   alert              \\a\r\n",
      "                   form-feed          \\f\r\n",
      "                   carriage-return    \\r\r\n",
      "                   tab                \\t\r\n",
      "                   vertical tab       \\v\r\n",
      "\r\n",
      "             Nonprintable characters are written as three-digit octal numbers\r\n",
      "             (with a preceding backslash) for each byte in the character (most\r\n",
      "             significant byte first).  Long lines are folded, with the point\r\n",
      "             of folding indicated by displaying a backslash followed by a new-\r\n",
      "             line.  The end of each line is marked with a ``$''.\r\n",
      "\r\n",
      "     [2addr]n\r\n",
      "             Write the pattern space to the standard output if the default\r\n",
      "             output has not been suppressed, and replace the pattern space\r\n",
      "             with the next line of input.\r\n",
      "\r\n",
      "     [2addr]N\r\n",
      "             Append the next line of input to the pattern space, using an\r\n",
      "             embedded newline character to separate the appended material from\r\n",
      "             the original contents.  Note that the current line number\r\n",
      "             changes.\r\n",
      "\r\n",
      "     [2addr]p\r\n",
      "             Write the pattern space to standard output.\r\n",
      "\r\n",
      "     [2addr]P\r\n",
      "             Write the pattern space, up to the first newline character to the\r\n",
      "             standard output.\r\n",
      "\r\n",
      "     [1addr]q\r\n",
      "             Branch to the end of the script and quit without starting a new\r\n",
      "             cycle.\r\n",
      "\r\n",
      "     [1addr]r file\r\n",
      "             Copy the contents of _\bf_\bi_\bl_\be to the standard output immediately\r\n",
      "             before the next attempt to read a line of input.  If _\bf_\bi_\bl_\be cannot\r\n",
      "             be read for any reason, it is silently ignored and no error con-\r\n",
      "             dition is set.\r\n",
      "\r\n",
      "     [2addr]s/regular expression/replacement/flags\r\n",
      "             Substitute the replacement string for the first instance of the\r\n",
      "             regular expression in the pattern space.  Any character other\r\n",
      "             than backslash or newline can be used instead of a slash to\r\n",
      "             delimit the RE and the replacement.  Within the RE and the\r\n",
      "             replacement, the RE delimiter itself can be used as a literal\r\n",
      "             character if it is preceded by a backslash.\r\n",
      "\r\n",
      "             An ampersand (``&'') appearing in the replacement is replaced by\r\n",
      "             the string matching the RE.  The special meaning of ``&'' in this\r\n",
      "             context can be suppressed by preceding it by a backslash.  The\r\n",
      "             string ``\\#'', where ``#'' is a digit, is replaced by the text\r\n",
      "             matched by the corresponding backreference expression (see\r\n",
      "             re_format(7)).\r\n",
      "\r\n",
      "             A line can be split by substituting a newline character into it.\r\n",
      "             To specify a newline character in the replacement string, precede\r\n",
      "             it with a backslash.\r\n",
      "\r\n",
      "             The value of _\bf_\bl_\ba_\bg_\bs in the substitute function is zero or more of\r\n",
      "             the following:\r\n",
      "\r\n",
      "                   _\bN       Make the substitution only for the _\bN'th occurrence\r\n",
      "                           of the regular expression in the pattern space.\r\n",
      "\r\n",
      "                   g       Make the substitution for all non-overlapping\r\n",
      "                           matches of the regular expression, not just the\r\n",
      "                           first one.\r\n",
      "\r\n",
      "                   p       Write the pattern space to standard output if a\r\n",
      "                           replacement was made.  If the replacement string is\r\n",
      "                           identical to that which it replaces, it is still\r\n",
      "                           considered to have been a replacement.\r\n",
      "\r\n",
      "                   w _\bf_\bi_\bl_\be  Append the pattern space to _\bf_\bi_\bl_\be if a replacement\r\n",
      "                           was made.  If the replacement string is identical\r\n",
      "                           to that which it replaces, it is still considered\r\n",
      "                           to have been a replacement.\r\n",
      "\r\n",
      "     [2addr]t [label]\r\n",
      "             Branch to the ``:'' function bearing the label if any substitu-\r\n",
      "             tions have been made since the most recent reading of an input\r\n",
      "             line or execution of a ``t'' function.  If no label is specified,\r\n",
      "             branch to the end of the script.\r\n",
      "\r\n",
      "     [2addr]w _\bf_\bi_\bl_\be\r\n",
      "             Append the pattern space to the _\bf_\bi_\bl_\be.\r\n",
      "\r\n",
      "     [2addr]x\r\n",
      "             Swap the contents of the pattern and hold spaces.\r\n",
      "\r\n",
      "     [2addr]y/string1/string2/\r\n",
      "             Replace all occurrences of characters in _\bs_\bt_\br_\bi_\bn_\bg_\b1 in the pattern\r\n",
      "             space with the corresponding characters from _\bs_\bt_\br_\bi_\bn_\bg_\b2.  Any char-\r\n",
      "             acter other than a backslash or newline can be used instead of a\r\n",
      "             slash to delimit the strings.  Within _\bs_\bt_\br_\bi_\bn_\bg_\b1 and _\bs_\bt_\br_\bi_\bn_\bg_\b2, a\r\n",
      "             backslash followed by an ``n'' is replaced by a newline charac-\r\n",
      "             ter.  A pair of backslashes is replaced by a literal backslash.\r\n",
      "             Finally, a backslash followed by any other character (except a\r\n",
      "             newline) is that literal character.\r\n",
      "\r\n",
      "     [2addr]!function\r\n",
      "     [2addr]!function-list\r\n",
      "             Apply the function or function-list only to the lines that are\r\n",
      "             _\bn_\bo_\bt selected by the address(es).\r\n",
      "\r\n",
      "     [0addr]:label\r\n",
      "             This function does nothing; it bears a label to which the ``b''\r\n",
      "             and ``t'' commands may branch.\r\n",
      "\r\n",
      "     [1addr]=\r\n",
      "             Write the line number to the standard output followed by a new-\r\n",
      "             line character.\r\n",
      "\r\n",
      "     [0addr]\r\n",
      "             Empty lines are ignored.\r\n",
      "\r\n",
      "     [0addr]#\r\n",
      "             The ``#'' and the remainder of the line are ignored (treated as a\r\n",
      "             comment), with the single exception that if the first two charac-\r\n",
      "             ters in the file are ``#n'', the default output is suppressed.\r\n",
      "             This is the same as specifying the -\b-n\bn option on the command line.\r\n",
      "\r\n",
      "E\bEN\bNV\bVI\bIR\bRO\bON\bNM\bME\bEN\bNT\bT\r\n",
      "     The COLUMNS, LANG, LC_ALL, LC_CTYPE and LC_COLLATE environment variables\r\n",
      "     affect the execution of s\bse\bed\bd as described in environ(7).\r\n",
      "\r\n",
      "E\bEX\bXI\bIT\bT S\bST\bTA\bAT\bTU\bUS\bS\r\n",
      "     The s\bse\bed\bd utility exits 0 on success, and >0 if an error occurs.\r\n",
      "\r\n",
      "L\bLE\bEG\bGA\bAC\bCY\bY D\bDE\bES\bSC\bCR\bRI\bIP\bPT\bTI\bIO\bON\bN\r\n",
      "     Warnings are not generated for unused labels.  In legacy mode, they are.\r\n",
      "\r\n",
      "     In the -\b-y\by function, doubled backslashes are not converted to single ones.\r\n",
      "     In legacy mode, they are.\r\n",
      "\r\n",
      "     For more information about legacy mode, see compat(5).\r\n",
      "\r\n",
      "S\bSE\bEE\bE A\bAL\bLS\bSO\bO\r\n",
      "     awk(1), ed(1), grep(1), regex(3), compat(5), re_format(7)\r\n",
      "\r\n",
      "S\bST\bTA\bAN\bND\bDA\bAR\bRD\bDS\bS\r\n",
      "     The s\bse\bed\bd utility is expected to be a superset of the IEEE Std 1003.2\r",
      "\r\n",
      "     (``POSIX.2'') specification.\r\n",
      "\r\n",
      "     The -\b-E\bE, -\b-a\ba and -\b-i\bi options are non-standard FreeBSD extensions and may not\r\n",
      "     be available on other operating systems.\r\n",
      "\r\n",
      "H\bHI\bIS\bST\bTO\bOR\bRY\bY\r\n",
      "     A s\bse\bed\bd command, written by L. E. McMahon, appeared in Version 7 AT&T UNIX.\r\n",
      "\r\n",
      "A\bAU\bUT\bTH\bHO\bOR\bRS\bS\r\n",
      "     Diomidis D. Spinellis <dds@FreeBSD.org>\r\n",
      "\r\n",
      "B\bBU\bUG\bGS\bS\r\n",
      "     Multibyte characters containing a byte with value 0x5C (ASCII `\\') may be\r\n",
      "     incorrectly treated as line continuation characters in arguments to the\r\n",
      "     ``a'', ``c'' and ``i'' commands.  Multibyte characters cannot be used as\r\n",
      "     delimiters with the ``s'' and ``y'' commands.\r\n",
      "\r\n",
      "BSD                              May 10, 2005                              BSD\r\n"
     ]
    }
   ],
   "source": [
    "!man sed"
   ]
  },
  {
   "cell_type": "code",
   "execution_count": 1,
   "metadata": {},
   "outputs": [
    {
     "name": "stdout",
     "output_type": "stream",
     "text": [
      "hello world\r\n",
      "world world\r\n",
      "\r\n",
      "world"
     ]
    }
   ],
   "source": [
    "!cat input.txt"
   ]
  },
  {
   "cell_type": "code",
   "execution_count": 11,
   "metadata": {},
   "outputs": [],
   "source": [
    "!sed 's/ world/ hello/' input.txt > output.txt"
   ]
  },
  {
   "cell_type": "code",
   "execution_count": 12,
   "metadata": {},
   "outputs": [],
   "source": [
    "!sed 's/ world/hello/' input.txt > output.txt"
   ]
  },
  {
   "cell_type": "code",
   "execution_count": 14,
   "metadata": {},
   "outputs": [],
   "source": [
    "!sed 's/ world//' input.txt > output.txt"
   ]
  },
  {
   "cell_type": "code",
   "execution_count": 15,
   "metadata": {},
   "outputs": [
    {
     "name": "stdout",
     "output_type": "stream",
     "text": [
      "hello\r\n",
      "world\r\n",
      "\r\n",
      "world\r\n"
     ]
    }
   ],
   "source": [
    "!cat output.txt"
   ]
  },
  {
   "cell_type": "code",
   "execution_count": null,
   "metadata": {},
   "outputs": [],
   "source": [
    "%%bash\n",
    "# can also do:\n",
    "sed 's/hello/world/' < input.txt > output.txt\n",
    "cat input.txt | sed 's/hello/world/' > output.txt"
   ]
  },
  {
   "cell_type": "code",
   "execution_count": 16,
   "metadata": {},
   "outputs": [
    {
     "name": "stdout",
     "output_type": "stream",
     "text": [
      "world world\r\n"
     ]
    }
   ],
   "source": [
    "#print only a certain line number\n",
    "!sed -n '2p' input.txt"
   ]
  },
  {
   "cell_type": "code",
   "execution_count": 17,
   "metadata": {},
   "outputs": [
    {
     "name": "stdout",
     "output_type": "stream",
     "text": [
      "hello world\r\n"
     ]
    }
   ],
   "source": [
    "!sed -n '1p' input.txt"
   ]
  },
  {
   "cell_type": "markdown",
   "metadata": {},
   "source": [
    "#### Sed on multiple files is treated as a single stream"
   ]
  },
  {
   "cell_type": "code",
   "execution_count": 18,
   "metadata": {},
   "outputs": [
    {
     "name": "stdout",
     "output_type": "stream",
     "text": [
      "one is one"
     ]
    }
   ],
   "source": [
    "!cat one.txt"
   ]
  },
  {
   "cell_type": "code",
   "execution_count": 19,
   "metadata": {},
   "outputs": [
    {
     "name": "stdout",
     "output_type": "stream",
     "text": [
      "one is one\r\n",
      "two is two"
     ]
    }
   ],
   "source": [
    "!cat two.txt"
   ]
  },
  {
   "cell_type": "code",
   "execution_count": 20,
   "metadata": {},
   "outputs": [
    {
     "name": "stdout",
     "output_type": "stream",
     "text": [
      "one is one\r\n",
      "two is two\r\n",
      "three is three"
     ]
    }
   ],
   "source": [
    "!cat three.txt"
   ]
  },
  {
   "cell_type": "code",
   "execution_count": 21,
   "metadata": {},
   "outputs": [
    {
     "name": "stdout",
     "output_type": "stream",
     "text": [
      "one is one\r\n",
      "three is three\r\n"
     ]
    }
   ],
   "source": [
    "!sed -n '1p ; $p' one.txt two.txt three.txt  #first line of the first file, last line of the third file"
   ]
  },
  {
   "cell_type": "code",
   "execution_count": 22,
   "metadata": {},
   "outputs": [
    {
     "name": "stdout",
     "output_type": "stream",
     "text": [
      "* is a command\r\n",
      "\r\n",
      "** is a command\r\n",
      "\r\n",
      "* * is a command\r\n",
      "\r\n",
      "**** is a command ****\r\n",
      "\r\n"
     ]
    }
   ],
   "source": [
    "!cat sed.txt"
   ]
  },
  {
   "cell_type": "code",
   "execution_count": 23,
   "metadata": {},
   "outputs": [
    {
     "name": "stdout",
     "output_type": "stream",
     "text": [
      "sed is a command\r\n",
      "\r\n",
      "sedsed is a command\r\n",
      "\r\n",
      "sed sed is a command\r\n",
      "\r\n",
      "sedsedsedsed is a command sedsedsedsed\r\n",
      "\r\n"
     ]
    }
   ],
   "source": [
    "!sed 's/\\*/sed/g' sed.txt"
   ]
  },
  {
   "cell_type": "code",
   "execution_count": 25,
   "metadata": {},
   "outputs": [
    {
     "name": "stdout",
     "output_type": "stream",
     "text": [
      "sed is a command\r\n",
      "\r\n",
      "sed* is a command\r\n",
      "\r\n",
      "sed * is a command\r\n",
      "\r\n",
      "sed*** is a command ****\r\n",
      "\r\n"
     ]
    }
   ],
   "source": [
    "!sed 's/*/sed/' sed.txt"
   ]
  },
  {
   "cell_type": "markdown",
   "metadata": {},
   "source": [
    "## AWK\n",
    "-  searches files for a text containing a specific pattern\n",
    "-  when a text matches the pattern, it performs an action on that text"
   ]
  },
  {
   "cell_type": "markdown",
   "metadata": {},
   "source": [
    "> **Syntax** <br>\n",
    "awk options 'selection _criteria {action }' input-file > output-file"
   ]
  },
  {
   "cell_type": "code",
   "execution_count": 26,
   "metadata": {},
   "outputs": [
    {
     "name": "stdout",
     "output_type": "stream",
     "text": [
      "AWK(1)                                                                  AWK(1)\r\n",
      "\r\n",
      "\r\n",
      "\r\n",
      "awk\r\n",
      "\r\n",
      "N\bNA\bAM\bME\bE\r\n",
      "       awk - pattern-directed scanning and processing language\r\n",
      "\r\n",
      "S\bSY\bYN\bNO\bOP\bPS\bSI\bIS\bS\r\n",
      "       a\baw\bwk\bk [ -\b-F\bF _\bf_\bs ] [ -\b-v\bv _\bv_\ba_\br_\b=_\bv_\ba_\bl_\bu_\be ] [ _\b'_\bp_\br_\bo_\bg_\b' | -\b-f\bf _\bp_\br_\bo_\bg_\bf_\bi_\bl_\be ] [ _\bf_\bi_\bl_\be _\b._\b._\b.  ]\r\n",
      "\r\n",
      "D\bDE\bES\bSC\bCR\bRI\bIP\bPT\bTI\bIO\bON\bN\r\n",
      "       _\bA_\bw_\bk scans each input _\bf_\bi_\bl_\be for lines that match any of a set of patterns\r\n",
      "       specified literally in _\bp_\br_\bo_\bg or in one or more  files  specified  as  -\b-f\bf\r\n",
      "       _\bp_\br_\bo_\bg_\bf_\bi_\bl_\be.   With  each  pattern  there can be an associated action that\r\n",
      "       will be performed when a line of a _\bf_\bi_\bl_\be matches the pattern.  Each line\r\n",
      "       is  matched  against the pattern portion of every pattern-action state-\r\n",
      "       ment; the associated action is performed for each matched pattern.  The\r\n",
      "       file  name  -\b- means the standard input.  Any _\bf_\bi_\bl_\be of the form _\bv_\ba_\br_\b=_\bv_\ba_\bl_\bu_\be\r\n",
      "       is treated as an assignment, not a filename, and  is  executed  at  the\r\n",
      "       time  it  would  have been opened if it were a filename.  The option -\b-v\bv\r\n",
      "       followed by _\bv_\ba_\br_\b=_\bv_\ba_\bl_\bu_\be is an assignment to be done before _\bp_\br_\bo_\bg  is  exe-\r\n",
      "       cuted;  any  number  of  -\b-v\bv  options  may be present.  The -\b-F\bF _\bf_\bs option\r\n",
      "       defines the input field separator to be the regular expression _\bf_\bs_\b.\r\n",
      "\r\n",
      "       An input line is normally made up of fields separated by  white  space,\r\n",
      "       or by regular expression F\bFS\bS.  The fields are denoted $\b$1\b1, $\b$2\b2, ..., while\r\n",
      "       $\b$0\b0 refers to the entire line.  If F\bFS\bS is null, the input line  is  split\r\n",
      "       into one field per character.\r\n",
      "\r\n",
      "       A pattern-action statement has the form\r\n",
      "\r\n",
      "              _\bp_\ba_\bt_\bt_\be_\br_\bn {\b{ _\ba_\bc_\bt_\bi_\bo_\bn }\b}\r\n",
      "\r\n",
      "       A  missing  {\b{  _\ba_\bc_\bt_\bi_\bo_\bn  }\b} means print the line; a missing pattern always\r\n",
      "       matches.  Pattern-action statements are separated by newlines or  semi-\r\n",
      "       colons.\r\n",
      "\r\n",
      "       An  action  is a sequence of statements.  A statement can be one of the\r\n",
      "       following:\r\n",
      "\r\n",
      "              if( _\be_\bx_\bp_\br_\be_\bs_\bs_\bi_\bo_\bn ) _\bs_\bt_\ba_\bt_\be_\bm_\be_\bn_\bt [ else _\bs_\bt_\ba_\bt_\be_\bm_\be_\bn_\bt ]\r\n",
      "              while( _\be_\bx_\bp_\br_\be_\bs_\bs_\bi_\bo_\bn ) _\bs_\bt_\ba_\bt_\be_\bm_\be_\bn_\bt\r\n",
      "              for( _\be_\bx_\bp_\br_\be_\bs_\bs_\bi_\bo_\bn ; _\be_\bx_\bp_\br_\be_\bs_\bs_\bi_\bo_\bn ; _\be_\bx_\bp_\br_\be_\bs_\bs_\bi_\bo_\bn ) _\bs_\bt_\ba_\bt_\be_\bm_\be_\bn_\bt\r\n",
      "              for( _\bv_\ba_\br in _\ba_\br_\br_\ba_\by ) _\bs_\bt_\ba_\bt_\be_\bm_\be_\bn_\bt\r\n",
      "              do _\bs_\bt_\ba_\bt_\be_\bm_\be_\bn_\bt while( _\be_\bx_\bp_\br_\be_\bs_\bs_\bi_\bo_\bn )\r\n",
      "              break\r\n",
      "              continue\r\n",
      "              { [ _\bs_\bt_\ba_\bt_\be_\bm_\be_\bn_\bt _\b._\b._\b. ] }\r\n",
      "              _\be_\bx_\bp_\br_\be_\bs_\bs_\bi_\bo_\bn              # commonly _\bv_\ba_\br _\b= _\be_\bx_\bp_\br_\be_\bs_\bs_\bi_\bo_\bn\r\n",
      "              print [ _\be_\bx_\bp_\br_\be_\bs_\bs_\bi_\bo_\bn_\b-_\bl_\bi_\bs_\bt ] [ > _\be_\bx_\bp_\br_\be_\bs_\bs_\bi_\bo_\bn ]\r\n",
      "              printf _\bf_\bo_\br_\bm_\ba_\bt [ , _\be_\bx_\bp_\br_\be_\bs_\bs_\bi_\bo_\bn_\b-_\bl_\bi_\bs_\bt ] [ > _\be_\bx_\bp_\br_\be_\bs_\bs_\bi_\bo_\bn ]\r\n",
      "              return [ _\be_\bx_\bp_\br_\be_\bs_\bs_\bi_\bo_\bn ]\r\n",
      "              next                    # skip remaining patterns on this input line\r\n",
      "              nextfile                # skip rest of this file, open next, start at top\r\n",
      "              delete _\ba_\br_\br_\ba_\by[ _\be_\bx_\bp_\br_\be_\bs_\bs_\bi_\bo_\bn ]# delete an array element\r\n",
      "              delete _\ba_\br_\br_\ba_\by            # delete all elements of array\r\n",
      "              exit [ _\be_\bx_\bp_\br_\be_\bs_\bs_\bi_\bo_\bn ]     # exit immediately; status is _\be_\bx_\bp_\br_\be_\bs_\bs_\bi_\bo_\bn\r\n",
      "\r\n",
      "       Statements are terminated by semicolons, newlines or right braces.   An\r\n",
      "       empty  _\be_\bx_\bp_\br_\be_\bs_\bs_\bi_\bo_\bn_\b-_\bl_\bi_\bs_\bt stands for $\b$0\b0.  String constants are quoted \" \",\r\n",
      "       with the usual C escapes recognized within.  Expressions take on string\r\n",
      "       or numeric values as appropriate, and are built using the operators +\b+ -\b-\r\n",
      "       *\b* /\b/ %\b% ^\b^ (exponentiation), and concatenation (indicated by white space).\r\n",
      "       The  operators  !\b!  +\b++\b+  -\b--\b- +\b+=\b= -\b-=\b= *\b*=\b= /\b/=\b= %\b%=\b= ^\b^=\b= >\b> >\b>=\b= <\b< <\b<=\b= =\b==\b= !\b!=\b= ?\b?:\b: are also\r\n",
      "       available in expressions.  Variables may  be  scalars,  array  elements\r\n",
      "       (denoted  _\bx[\b[_\bi]\b]_\b)  or  fields.   Variables  are  initialized  to the null\r\n",
      "       string.  Array subscripts may be any string, not  necessarily  numeric;\r\n",
      "       this allows for a form of associative memory.  Multiple subscripts such\r\n",
      "       as [\b[i\bi,\b,j\bj,\b,k\bk]\b] are permitted; the constituents are concatenated,  separated\r\n",
      "       by the value of S\bSU\bUB\bBS\bSE\bEP\bP.\r\n",
      "\r\n",
      "       The  p\bpr\bri\bin\bnt\bt statement prints its arguments on the standard output (or on\r\n",
      "       a file if >\b>_\bf_\bi_\bl_\be or >\b>>\b>_\bf_\bi_\bl_\be is present or on a pipe if |\b|_\bc_\bm_\bd is  present),\r\n",
      "       separated  by the current output field separator, and terminated by the\r\n",
      "       output record separator.  _\bf_\bi_\bl_\be and _\bc_\bm_\bd may be literal names  or  paren-\r\n",
      "       thesized  expressions;  identical string values in different statements\r\n",
      "       denote the same open file.  The p\bpr\bri\bin\bnt\btf\bf statement formats its expression\r\n",
      "       list  according  to  the format (see _\bp_\br_\bi_\bn_\bt_\bf(3))_\b.  The built-in function\r\n",
      "       c\bcl\blo\bos\bse\be(\b(_\be_\bx_\bp_\br)\b) closes the  file  or  pipe  _\be_\bx_\bp_\br.   The  built-in  function\r\n",
      "       f\bff\bfl\blu\bus\bsh\bh(\b(_\be_\bx_\bp_\br)\b) flushes any buffered output for the file or pipe _\be_\bx_\bp_\br.\r\n",
      "\r\n",
      "       The  mathematical  functions  e\bex\bxp\bp,  l\blo\bog\bg,  s\bsq\bqr\brt\bt, s\bsi\bin\bn, c\bco\bos\bs, and a\bat\bta\ban\bn2\b2 are\r\n",
      "       built in.  Other built-in functions:\r\n",
      "\r\n",
      "       l\ble\ben\bng\bgt\bth\bh the length of its argument taken as a string, or  of  $\b$0\b0  if  no\r\n",
      "              argument.\r\n",
      "\r\n",
      "       r\bra\ban\bnd\bd   random number on (0,1)\r\n",
      "\r\n",
      "       s\bsr\bra\ban\bnd\bd  sets seed for r\bra\ban\bnd\bd and returns the previous seed.\r\n",
      "\r\n",
      "       i\bin\bnt\bt    truncates to an integer value\r\n",
      "\r\n",
      "       s\bsu\bub\bbs\bst\btr\br(\b(_\bs,\b, _\bm,\b, _\bn)\b)\r\n",
      "              the _\bn-character substring of _\bs that begins at position _\bm counted\r\n",
      "              from 1.\r\n",
      "\r\n",
      "       i\bin\bnd\bde\bex\bx(\b(_\bs,\b, _\bt)\b)\r\n",
      "              the position in _\bs where the string _\bt occurs, or  0  if  it  does\r\n",
      "              not.\r\n",
      "\r\n",
      "       m\bma\bat\btc\bch\bh(\b(_\bs,\b, _\br)\b)\r\n",
      "              the position in _\bs where the regular expression _\br occurs, or 0 if\r\n",
      "              it does not.  The variables R\bRS\bST\bTA\bAR\bRT\bT and R\bRL\bLE\bEN\bNG\bGT\bTH\bH are  set  to  the\r\n",
      "              position and length of the matched string.\r\n",
      "\r\n",
      "       s\bsp\bpl\bli\bit\bt(\b(_\bs,\b, _\ba,\b, _\bf_\bs)\b)\r\n",
      "              splits  the  string _\bs into array elements _\ba[\b[1\b1]\b]_\b, _\ba[\b[2\b2]\b]_\b, ..., _\ba[\b[_\bn]\b]_\b,\r\n",
      "              and returns _\bn.  The separation is done with the regular  expres-\r\n",
      "              sion  _\bf_\bs  or with the field separator F\bFS\bS if _\bf_\bs is not given.  An\r\n",
      "              empty string as field separator splits the string into one array\r\n",
      "              element per character.\r\n",
      "\r\n",
      "       s\bsu\bub\bb(\b(_\br,\b, _\bt,\b, _\bs)\b)\r\n",
      "              substitutes _\bt for the first occurrence of the regular expression\r\n",
      "              _\br in the string _\bs.  If _\bs is not given, $\b$0\b0 is used.\r\n",
      "\r\n",
      "       g\bgs\bsu\bub\bb   same as s\bsu\bub\bb except that all occurrences of the  regular  expres-\r\n",
      "              sion  are  replaced;  s\bsu\bub\bb and g\bgs\bsu\bub\bb return the number of replace-\r\n",
      "              ments.\r\n",
      "\r\n",
      "       s\bsp\bpr\bri\bin\bnt\btf\bf(\b(_\bf_\bm_\bt,\b, _\be_\bx_\bp_\br,\b, _\b._\b._\b. )\b)\r\n",
      "              the string resulting from formatting _\be_\bx_\bp_\br _\b._\b._\b.  according to  the\r\n",
      "              _\bp_\br_\bi_\bn_\bt_\bf(3) format _\bf_\bm_\bt\r\n",
      "\r\n",
      "       s\bsy\bys\bst\bte\bem\bm(\b(_\bc_\bm_\bd)\b)\r\n",
      "              executes _\bc_\bm_\bd and returns its exit status\r\n",
      "\r\n",
      "       t\bto\bol\blo\bow\bwe\ber\br(\b(_\bs_\bt_\br)\b)\r\n",
      "              returns  a copy of _\bs_\bt_\br with all upper-case characters translated\r\n",
      "              to their corresponding lower-case equivalents.\r\n",
      "\r\n",
      "       t\bto\bou\bup\bpp\bpe\ber\br(\b(_\bs_\bt_\br)\b)\r\n",
      "              returns a copy of _\bs_\bt_\br with all lower-case characters  translated\r\n",
      "              to their corresponding upper-case equivalents.\r\n",
      "\r\n",
      "       The ``function'' g\bge\bet\btl\bli\bin\bne\be sets $\b$0\b0 to the next input record from the cur-\r\n",
      "       rent input file; g\bge\bet\btl\bli\bin\bne\be <\b<_\bf_\bi_\bl_\be sets $\b$0\b0 to the next  record  from  _\bf_\bi_\bl_\be.\r\n",
      "       g\bge\bet\btl\bli\bin\bne\be  _\bx  sets  variable _\bx instead.  Finally, _\bc_\bm_\bd |\b| g\bge\bet\btl\bli\bin\bne\be pipes the\r\n",
      "       output of _\bc_\bm_\bd into g\bge\bet\btl\bli\bin\bne\be; each call of g\bge\bet\btl\bli\bin\bne\be returns the next  line\r\n",
      "       of  output  from _\bc_\bm_\bd.  In all cases, g\bge\bet\btl\bli\bin\bne\be returns 1 for a successful\r\n",
      "       input, 0 for end of file, and -1 for an error.\r\n",
      "\r\n",
      "       Patterns are arbitrary Boolean combinations (with !\b! |\b||\b| &\b&&\b&)  of  regular\r\n",
      "       expressions  and  relational  expressions.   Regular expressions are as\r\n",
      "       defined in _\br_\be_\b__\bf_\bo_\br_\bm_\ba_\bt(7).  Isolated regular  expressions  in  a  pattern\r\n",
      "       apply  to the entire line.  Regular expressions may also occur in rela-\r\n",
      "       tional expressions, using the operators ~\b~ and !\b!~\b~.  /\b/_\br_\be/\b/ is  a  constant\r\n",
      "       regular  expression; any string (constant or variable) may be used as a\r\n",
      "       regular expression, except in  the  position  of  an  isolated  regular\r\n",
      "       expression in a pattern.\r\n",
      "\r\n",
      "       A  pattern  may  consist  of two patterns separated by a comma; in this\r\n",
      "       case, the action is performed for all lines from an occurrence  of  the\r\n",
      "       first pattern though an occurrence of the second.\r\n",
      "\r\n",
      "       A relational expression is one of the following:\r\n",
      "\r\n",
      "              _\be_\bx_\bp_\br_\be_\bs_\bs_\bi_\bo_\bn _\bm_\ba_\bt_\bc_\bh_\bo_\bp _\br_\be_\bg_\bu_\bl_\ba_\br_\b-_\be_\bx_\bp_\br_\be_\bs_\bs_\bi_\bo_\bn\r\n",
      "              _\be_\bx_\bp_\br_\be_\bs_\bs_\bi_\bo_\bn _\br_\be_\bl_\bo_\bp _\be_\bx_\bp_\br_\be_\bs_\bs_\bi_\bo_\bn\r\n",
      "              _\be_\bx_\bp_\br_\be_\bs_\bs_\bi_\bo_\bn i\bin\bn _\ba_\br_\br_\ba_\by_\b-_\bn_\ba_\bm_\be\r\n",
      "              (\b(_\be_\bx_\bp_\br,\b,_\be_\bx_\bp_\br_\b,_\b._\b._\b.)\b) i\bin\bn _\ba_\br_\br_\ba_\by_\b-_\bn_\ba_\bm_\be\r\n",
      "\r\n"
     ]
    },
    {
     "name": "stdout",
     "output_type": "stream",
     "text": [
      "       where  a  relop  is  any  of  the  six relational operators in C, and a\r\n",
      "       matchop is either ~\b~ (matches) or !\b!~\b~ (does not match).  A conditional is\r\n",
      "       an  arithmetic expression, a relational expression, or a Boolean combi-\r\n",
      "       nation of these.\r\n",
      "\r\n",
      "       The special patterns B\bBE\bEG\bGI\bIN\bN and E\bEN\bND\bD  may  be  used  to  capture  control\r\n",
      "       before  the first input line is read and after the last.  B\bBE\bEG\bGI\bIN\bN and E\bEN\bND\bD\r\n",
      "       do not combine with other patterns.\r\n",
      "\r\n",
      "       Variable names with special meanings:\r\n",
      "\r\n",
      "       C\bCO\bON\bNV\bVF\bFM\bMT\bT\r\n",
      "              conversion format used when converting numbers (default %\b%.\b.6\b6g\bg)\r\n",
      "\r\n",
      "       F\bFS\bS     regular expression used to separate  fields;  also  settable  by\r\n",
      "              option -\b-F\bF_\bf_\bs_\b.\r\n",
      "\r\n",
      "       N\bNF\bF     number of fields in the current record\r\n",
      "\r\n",
      "       N\bNR\bR     ordinal number of the current record\r\n",
      "\r\n",
      "       F\bFN\bNR\bR    ordinal number of the current record in the current file\r\n",
      "\r\n",
      "       F\bFI\bIL\bLE\bEN\bNA\bAM\bME\bE\r\n",
      "              the name of the current input file\r\n",
      "\r\n",
      "       R\bRS\bS     input record separator (default newline)\r\n",
      "\r\n",
      "       O\bOF\bFS\bS    output field separator (default blank)\r\n",
      "\r\n",
      "       O\bOR\bRS\bS    output record separator (default newline)\r\n",
      "\r\n",
      "       O\bOF\bFM\bMT\bT   output format for numbers (default %\b%.\b.6\b6g\bg)\r\n",
      "\r\n",
      "       S\bSU\bUB\bBS\bSE\bEP\bP separates multiple subscripts (default 034)\r\n",
      "\r\n",
      "       A\bAR\bRG\bGC\bC   argument count, assignable\r\n",
      "\r\n",
      "       A\bAR\bRG\bGV\bV   argument  array, assignable; non-null members are taken as file-\r\n",
      "              names\r\n",
      "\r\n",
      "       E\bEN\bNV\bVI\bIR\bRO\bON\bN\r\n",
      "              array of environment variables; subscripts are names.\r\n",
      "\r\n",
      "       Functions may be defined (at the position of  a  pattern-action  state-\r\n",
      "       ment) thus:\r\n",
      "\r\n",
      "              f\bfu\bun\bnc\bct\bti\bio\bon\bn f\bfo\boo\bo(\b(a\ba,\b, b\bb,\b, c\bc)\b) {\b{ .\b..\b..\b.;\b; r\bre\bet\btu\bur\brn\bn x\bx }\b}\r\n",
      "\r\n",
      "       Parameters  are  passed  by  value  if scalar and by reference if array\r\n",
      "       name; functions may be called recursively.  Parameters are local to the\r\n",
      "       function;  all other variables are global.  Thus local variables may be\r\n",
      "       created by providing excess parameters in the function definition.\r\n",
      "\r\n",
      "E\bEX\bXA\bAM\bMP\bPL\bLE\bES\bS\r\n",
      "       length($0) > 72\r\n",
      "              Print lines longer than 72 characters.\r\n",
      "\r\n",
      "       { print $2, $1 }\r\n",
      "              Print first two fields in opposite order.\r\n",
      "\r\n",
      "       BEGIN { FS = \",[ \\t]*|[ \\t]+\" }\r\n",
      "             { print $2, $1 }\r\n",
      "              Same, with input fields separated by  comma  and/or  blanks  and\r\n",
      "              tabs.\r\n",
      "\r\n",
      "            { s += $1 }\r\n",
      "       END  { print \"sum is\", s, \" average is\", s/NR }\r\n",
      "              Add up first column, print sum and average.\r\n",
      "\r\n",
      "       /start/, /stop/\r\n",
      "              Print all lines between start/stop pairs.\r\n",
      "\r\n",
      "       BEGIN     {    # Simulate echo(1)\r\n",
      "            for (i = 1; i < ARGC; i++) printf \"%s \", ARGV[i]\r\n",
      "            printf \"\\n\"\r\n",
      "            exit }\r\n",
      "\r\n",
      "S\bSE\bEE\bE A\bAL\bLS\bSO\bO\r\n",
      "       _\bl_\be_\bx(1), _\bs_\be_\bd(1)\r\n",
      "       A.  V. Aho, B. W. Kernighan, P. J. Weinberger, _\bT_\bh_\be _\bA_\bW_\bK _\bP_\br_\bo_\bg_\br_\ba_\bm_\bm_\bi_\bn_\bg _\bL_\ba_\bn_\b-\r\n",
      "       _\bg_\bu_\ba_\bg_\be_\b, Addison-Wesley, 1988.  ISBN 0-201-07981-X\r\n",
      "\r\n",
      "B\bBU\bUG\bGS\bS\r\n",
      "       There are no explicit conversions  between  numbers  and  strings.   To\r\n",
      "       force  an expression to be treated as a number add 0 to it; to force it\r\n",
      "       to be treated as a string concatenate \"\" to it.\r\n",
      "       The scope rules for variables in functions are a botch; the  syntax  is\r\n",
      "       worse.\r\n",
      "\r\n",
      "\r\n",
      "\r\n",
      "                                                                        AWK(1)\r\n"
     ]
    }
   ],
   "source": [
    "!man awk"
   ]
  },
  {
   "cell_type": "code",
   "execution_count": 27,
   "metadata": {},
   "outputs": [
    {
     "name": "stdout",
     "output_type": "stream",
     "text": [
      "Cerebellum manager account 45000\r\n",
      "Cerebrum clerk account 25000\r\n",
      "Hypothalamus manager sales 50000\r\n",
      "Dendrites manager account 47000\r\n",
      "Grey clerk sales 15000\r\n",
      "White clerk sales 23000\r\n"
     ]
    }
   ],
   "source": [
    "!cat employees.txt"
   ]
  },
  {
   "cell_type": "code",
   "execution_count": 28,
   "metadata": {},
   "outputs": [
    {
     "name": "stdout",
     "output_type": "stream",
     "text": [
      "Cerebellum manager account 45000\n",
      "Cerebrum clerk account 25000\n",
      "Hypothalamus manager sales 50000\n",
      "Dendrites manager account 47000\n",
      "Grey clerk sales 15000\n",
      "White clerk sales 23000\n"
     ]
    }
   ],
   "source": [
    "%%bash\n",
    "awk '{print}' employees.txt"
   ]
  },
  {
   "cell_type": "code",
   "execution_count": 29,
   "metadata": {},
   "outputs": [
    {
     "name": "stdout",
     "output_type": "stream",
     "text": [
      "Cerebellum manager account 45000\n",
      "Hypothalamus manager sales 50000\n",
      "Dendrites manager account 47000\n"
     ]
    }
   ],
   "source": [
    "%%bash\n",
    "awk '/manager/ {print}' employees.txt"
   ]
  },
  {
   "cell_type": "code",
   "execution_count": 30,
   "metadata": {},
   "outputs": [
    {
     "name": "stdout",
     "output_type": "stream",
     "text": [
      "Cerebellum 45000\r\n",
      "Cerebrum 25000\r\n",
      "Hypothalamus 50000\r\n",
      "Dendrites 47000\r\n",
      "Grey 15000\r\n",
      "White 23000\r\n"
     ]
    }
   ],
   "source": [
    "!awk '{print $1,$4}' employees.txt "
   ]
  },
  {
   "cell_type": "code",
   "execution_count": 31,
   "metadata": {},
   "outputs": [
    {
     "name": "stdout",
     "output_type": "stream",
     "text": [
      "6\n"
     ]
    }
   ],
   "source": [
    "%%bash\n",
    "### print the number of lines\n",
    "awk 'END { print NR }' employees.txt"
   ]
  },
  {
   "cell_type": "code",
   "execution_count": 32,
   "metadata": {},
   "outputs": [
    {
     "name": "stdout",
     "output_type": "stream",
     "text": [
      "4\n"
     ]
    }
   ],
   "source": [
    "%%bash\n",
    "awk 'END { print NF }' employees.txt"
   ]
  },
  {
   "cell_type": "markdown",
   "metadata": {},
   "source": [
    "#### More info:\n",
    "https://www.computerhope.com/unix/uawk.htm"
   ]
  },
  {
   "cell_type": "markdown",
   "metadata": {},
   "source": [
    "## CUT"
   ]
  },
  {
   "cell_type": "code",
   "execution_count": 35,
   "metadata": {},
   "outputs": [
    {
     "name": "stdout",
     "output_type": "stream",
     "text": [
      "\n",
      "CUT(1)                    BSD General Commands Manual                   CUT(1)\n",
      "\n",
      "NAME\n",
      "     cut -- cut out selected portions of each line of a file\n",
      "\n",
      "SYNOPSIS\n",
      "     cut -b list [-n] [file ...]\n",
      "     cut -c list [file ...]\n",
      "     cut -f list [-d delim] [-s] [file ...]\n",
      "\n",
      "DESCRIPTION\n",
      "     The cut utility cuts out selected portions of each line (as specified by\n",
      "     list) from each file and writes them to the standard output.  If no file\n",
      "     arguments are specified, or a file argument is a single dash (`-'), cut\n",
      "     reads from the standard input.  The items specified by list can be in\n",
      "     terms of column position or in terms of fields delimited by a special\n",
      "     character.  Column numbering starts from 1.\n",
      "\n",
      "     The list option argument is a comma or whitespace separated set of num-\n",
      "     bers and/or number ranges.  Number ranges consist of a number, a dash\n",
      "     (`-'), and a second number and select the fields or columns from the\n",
      "     first number to the second, inclusive.  Numbers or number ranges may be\n",
      "     preceded by a dash, which selects all fields or columns from 1 to the\n",
      "     last number.  Numbers or number ranges may be followed by a dash, which\n",
      "     selects all fields or columns from the last number to the end of the\n",
      "     line.  Numbers and number ranges may be repeated, overlapping, and in any\n",
      "     order.  If a field or column is specified multiple times, it will appear\n",
      "     only once in the output.  It is not an error to select fields or columns\n",
      "     not present in the input line.\n",
      "\n",
      "     The options are as follows:\n",
      "\n",
      "     -b list\n",
      "             The list specifies byte positions.\n",
      "\n",
      "     -c list\n",
      "             The list specifies character positions.\n",
      "\n",
      "     -d delim\n",
      "             Use delim as the field delimiter character instead of the tab\n",
      "             character.\n",
      "\n",
      "     -f list\n",
      "             The list specifies fields, separated in the input by the field\n",
      "             delimiter character (see the -d option.)  Output fields are sepa-\n",
      "             rated by a single occurrence of the field delimiter character.\n",
      "\n",
      "     -n      Do not split multi-byte characters.  Characters will only be out-\n",
      "             put if at least one byte is selected, and, after a prefix of zero\n",
      "             or more unselected bytes, the rest of the bytes that form the\n",
      "             character are selected.\n",
      "\n",
      "     -s      Suppress lines with no field delimiter characters.  Unless speci-\n",
      "             fied, lines with no delimiters are passed through unmodified.\n",
      "\n",
      "ENVIRONMENT\n",
      "     The LANG, LC_ALL and LC_CTYPE environment variables affect the execution\n",
      "     of cut as described in environ(7).\n",
      "\n",
      "EXIT STATUS\n",
      "     The cut utility exits 0 on success, and >0 if an error occurs.\n",
      "\n",
      "EXAMPLES\n",
      "     Extract users' login names and shells from the system passwd(5) file as\n",
      "     ``name:shell'' pairs:\n",
      "\n",
      "           cut -d : -f 1,7 /etc/passwd\n",
      "\n",
      "     Show the names and login times of the currently logged in users:\n",
      "\n",
      "           who | cut -c 1-16,26-38\n",
      "\n",
      "SEE ALSO\n",
      "     colrm(1), paste(1)\n",
      "\n",
      "STANDARDS\n",
      "     The cut utility conforms to IEEE Std 1003.2-1992 (``POSIX.2'').\n",
      "\n",
      "HISTORY\n",
      "     A cut command appeared in AT&T System III UNIX.\n",
      "\n",
      "BSD                            December 21, 2006                           BSD\n"
     ]
    }
   ],
   "source": [
    "!man cut"
   ]
  },
  {
   "cell_type": "code",
   "execution_count": 36,
   "metadata": {},
   "outputs": [
    {
     "name": "stdout",
     "output_type": "stream",
     "text": [
      "cat command for file oriented operations.\r\n",
      "cp command for copy files or directories.\r\n",
      "ls command to list out files and directories with its attributes."
     ]
    }
   ],
   "source": [
    "!cat cut_example.txt"
   ]
  },
  {
   "cell_type": "code",
   "execution_count": 37,
   "metadata": {},
   "outputs": [
    {
     "name": "stdout",
     "output_type": "stream",
     "text": [
      "a\r\n",
      "p\r\n",
      "s\r\n"
     ]
    }
   ],
   "source": [
    "### select a column of characters\n",
    "!cut -c2 cut_example.txt"
   ]
  },
  {
   "cell_type": "code",
   "execution_count": 41,
   "metadata": {},
   "outputs": [
    {
     "name": "stdout",
     "output_type": "stream",
     "text": [
      "world\r\n",
      "are\r\n",
      "is\r\n"
     ]
    }
   ],
   "source": [
    "!cut -f2 cut_demo ## file has to be in columns (tab in text file)"
   ]
  },
  {
   "cell_type": "code",
   "execution_count": 44,
   "metadata": {},
   "outputs": [
    {
     "name": "stdout",
     "output_type": "stream",
     "text": [
      "command\r\n",
      "command\r\n",
      "command\r\n"
     ]
    }
   ],
   "source": [
    "!cat cut_example.txt | tr \\\\\" \" \\\\t | cut -f2 ## use tr to convert the spaces in the text file to tabs and then use cut"
   ]
  },
  {
   "cell_type": "code",
   "execution_count": 45,
   "metadata": {},
   "outputs": [
    {
     "name": "stdout",
     "output_type": "stream",
     "text": [
      "cat\r\n",
      "cp \r\n",
      "ls \r\n"
     ]
    }
   ],
   "source": [
    "### select a range\n",
    "!cut -c1-3 cut_example.txt"
   ]
  },
  {
   "cell_type": "code",
   "execution_count": 50,
   "metadata": {},
   "outputs": [
    {
     "name": "stdout",
     "output_type": "stream",
     "text": [
      "cat\tcommand\tfor\n",
      "cp\tcommand\tfor\n",
      "ls\tcommand\tto\n"
     ]
    }
   ],
   "source": [
    "%%bash\n",
    "cat cut_example.txt | tr \\\\\" \" \\\\t | cut -f1-3"
   ]
  },
  {
   "cell_type": "code",
   "execution_count": 51,
   "metadata": {},
   "outputs": [
    {
     "name": "stdout",
     "output_type": "stream",
     "text": [
      "OM\n",
      "MM\n",
      "MM\n"
     ]
    }
   ],
   "source": [
    "%%bash\n",
    "cat cut_example.txt | cut -c6-7 | tr a-z A-Z"
   ]
  },
  {
   "cell_type": "markdown",
   "metadata": {},
   "source": [
    "## TR\n",
    "-  translate\n",
    "-  delete\n",
    "-  squeeze"
   ]
  },
  {
   "cell_type": "code",
   "execution_count": 33,
   "metadata": {},
   "outputs": [
    {
     "name": "stdout",
     "output_type": "stream",
     "text": [
      "\r\n",
      "TR(1)                     BSD General Commands Manual                    TR(1)\r\n",
      "\r\n",
      "N\bNA\bAM\bME\bE\r\n",
      "     t\btr\br -- translate characters\r\n",
      "\r\n",
      "S\bSY\bYN\bNO\bOP\bPS\bSI\bIS\bS\r\n",
      "     t\btr\br [-\b-C\bCc\bcs\bsu\bu] _\bs_\bt_\br_\bi_\bn_\bg_\b1 _\bs_\bt_\br_\bi_\bn_\bg_\b2\r\n",
      "     t\btr\br [-\b-C\bCc\bcu\bu] -\b-d\bd _\bs_\bt_\br_\bi_\bn_\bg_\b1\r\n",
      "     t\btr\br [-\b-C\bCc\bcu\bu] -\b-s\bs _\bs_\bt_\br_\bi_\bn_\bg_\b1\r\n",
      "     t\btr\br [-\b-C\bCc\bcu\bu] -\b-d\bds\bs _\bs_\bt_\br_\bi_\bn_\bg_\b1 _\bs_\bt_\br_\bi_\bn_\bg_\b2\r\n",
      "\r\n",
      "D\bDE\bES\bSC\bCR\bRI\bIP\bPT\bTI\bIO\bON\bN\r\n",
      "     The t\btr\br utility copies the standard input to the standard output with sub-\r\n",
      "     stitution or deletion of selected characters.\r\n",
      "\r\n",
      "     The following options are available:\r\n",
      "\r\n",
      "     -\b-C\bC      Complement the set of characters in _\bs_\bt_\br_\bi_\bn_\bg_\b1, that is ``-\b-C\bC ab''\r\n",
      "             includes every character except for `a' and `b'.\r\n",
      "\r\n",
      "     -\b-c\bc      Same as -\b-C\bC but complement the set of values in _\bs_\bt_\br_\bi_\bn_\bg_\b1.\r\n",
      "\r\n",
      "     -\b-d\bd      Delete characters in _\bs_\bt_\br_\bi_\bn_\bg_\b1 from the input.\r\n",
      "\r\n",
      "     -\b-s\bs      Squeeze multiple occurrences of the characters listed in the last\r\n",
      "             operand (either _\bs_\bt_\br_\bi_\bn_\bg_\b1 or _\bs_\bt_\br_\bi_\bn_\bg_\b2) in the input into a single\r\n",
      "             instance of the character.  This occurs after all deletion and\r\n",
      "             translation is completed.\r\n",
      "\r\n",
      "     -\b-u\bu      Guarantee that any output is unbuffered.\r\n",
      "\r\n",
      "     In the first synopsis form, the characters in _\bs_\bt_\br_\bi_\bn_\bg_\b1 are translated into\r\n",
      "     the characters in _\bs_\bt_\br_\bi_\bn_\bg_\b2 where the first character in _\bs_\bt_\br_\bi_\bn_\bg_\b1 is trans-\r\n",
      "     lated into the first character in _\bs_\bt_\br_\bi_\bn_\bg_\b2 and so on.  If _\bs_\bt_\br_\bi_\bn_\bg_\b1 is\r\n",
      "     longer than _\bs_\bt_\br_\bi_\bn_\bg_\b2, the last character found in _\bs_\bt_\br_\bi_\bn_\bg_\b2 is duplicated\r\n",
      "     until _\bs_\bt_\br_\bi_\bn_\bg_\b1 is exhausted.\r\n",
      "\r\n",
      "     In the second synopsis form, the characters in _\bs_\bt_\br_\bi_\bn_\bg_\b1 are deleted from\r\n",
      "     the input.\r\n",
      "\r\n",
      "     In the third synopsis form, the characters in _\bs_\bt_\br_\bi_\bn_\bg_\b1 are compressed as\r\n",
      "     described for the -\b-s\bs option.\r\n",
      "\r\n",
      "     In the fourth synopsis form, the characters in _\bs_\bt_\br_\bi_\bn_\bg_\b1 are deleted from\r\n",
      "     the input, and the characters in _\bs_\bt_\br_\bi_\bn_\bg_\b2 are compressed as described for\r\n",
      "     the -\b-s\bs option.\r\n",
      "\r\n",
      "     The following conventions can be used in _\bs_\bt_\br_\bi_\bn_\bg_\b1 and _\bs_\bt_\br_\bi_\bn_\bg_\b2 to specify\r\n",
      "     sets of characters:\r\n",
      "\r\n",
      "     character  Any character not described by one of the following conven-\r\n",
      "                tions represents itself.\r\n",
      "\r\n",
      "     \\octal     A backslash followed by 1, 2 or 3 octal digits represents a\r\n",
      "                character with that encoded value.  To follow an octal\r\n",
      "                sequence with a digit as a character, left zero-pad the octal\r\n",
      "                sequence to the full 3 octal digits.\r\n",
      "\r\n",
      "     \\character\r\n",
      "                A backslash followed by certain special characters maps to\r\n",
      "                special values.\r\n",
      "\r\n",
      "                \\a    <alert character>\r\n",
      "                \\b    <backspace>\r\n",
      "                \\f    <form-feed>\r\n",
      "                \\n    <newline>\r\n",
      "                \\r    <carriage return>\r\n",
      "                \\t    <tab>\r\n",
      "                \\v    <vertical tab>\r\n",
      "\r\n",
      "                A backslash followed by any other character maps to that char-\r\n",
      "                acter.\r\n",
      "\r\n",
      "     c-c        For non-octal range endpoints represents the range of charac-\r\n",
      "                ters between the range endpoints, inclusive, in ascending\r\n",
      "                order, as defined by the collation sequence.  If either or\r\n",
      "                both of the range endpoints are octal sequences, it represents\r\n",
      "                the range of specific coded values between the range end-\r\n",
      "                points, inclusive.\r\n",
      "\r\n",
      "                _\bS_\be_\be _\bt_\bh_\be _\bC_\bO_\bM_\bP_\bA_\bT_\bI_\bB_\bI_\bL_\bI_\bT_\bY _\bs_\be_\bc_\bt_\bi_\bo_\bn _\bb_\be_\bl_\bo_\bw _\bf_\bo_\br _\ba_\bn _\bi_\bm_\bp_\bo_\br_\bt_\ba_\bn_\bt _\bn_\bo_\bt_\be\r\n",
      "                _\br_\be_\bg_\ba_\br_\bd_\bi_\bn_\bg _\bd_\bi_\bf_\bf_\be_\br_\be_\bn_\bc_\be_\bs _\bi_\bn _\bt_\bh_\be _\bw_\ba_\by _\bt_\bh_\be _\bc_\bu_\br_\br_\be_\bn_\bt _\bi_\bm_\bp_\bl_\be_\bm_\be_\bn_\bt_\ba_\bt_\bi_\bo_\bn\r\n",
      "                _\bi_\bn_\bt_\be_\br_\bp_\br_\be_\bt_\bs _\br_\ba_\bn_\bg_\be _\be_\bx_\bp_\br_\be_\bs_\bs_\bi_\bo_\bn_\bs _\bd_\bi_\bf_\bf_\be_\br_\be_\bn_\bt_\bl_\by _\bf_\br_\bo_\bm _\bp_\br_\be_\bv_\bi_\bo_\bu_\bs _\bi_\bm_\bp_\bl_\be_\b-\r\n",
      "                _\bm_\be_\bn_\bt_\ba_\bt_\bi_\bo_\bn_\bs_\b.\r\n",
      "\r\n",
      "     [:class:]  Represents all characters belonging to the defined character\r\n",
      "                class.  Class names are:\r\n",
      "\r\n",
      "                alnum        <alphanumeric characters>\r\n",
      "                alpha        <alphabetic characters>\r\n",
      "                blank        <whitespace characters>\r\n",
      "                cntrl        <control characters>\r\n",
      "                digit        <numeric characters>\r\n",
      "                graph        <graphic characters>\r\n",
      "                ideogram     <ideographic characters>\r\n",
      "                lower        <lower-case alphabetic characters>\r\n",
      "                phonogram    <phonographic characters>\r\n",
      "                print        <printable characters>\r\n",
      "                punct        <punctuation characters>\r\n",
      "                rune         <valid characters>\r\n",
      "                space        <space characters>\r\n",
      "                special      <special characters>\r\n",
      "                upper        <upper-case characters>\r\n",
      "                xdigit       <hexadecimal characters>\r\n",
      "\r\n",
      "                When ``[:lower:]'' appears in _\bs_\bt_\br_\bi_\bn_\bg_\b1 and ``[:upper:]''\r\n",
      "                appears in the same relative position in _\bs_\bt_\br_\bi_\bn_\bg_\b2, it repre-\r\n",
      "                sents the characters pairs from the toupper mapping in the\r\n",
      "                LC_CTYPE category of the current locale.  When ``[:upper:]''\r\n",
      "                appears in _\bs_\bt_\br_\bi_\bn_\bg_\b1 and ``[:lower:]'' appears in the same rela-\r\n",
      "                tive position in _\bs_\bt_\br_\bi_\bn_\bg_\b2, it represents the characters pairs\r\n",
      "                from the tolower mapping in the LC_CTYPE category of the cur-\r\n",
      "                rent locale.\r\n",
      "\r\n",
      "                With the exception of case conversion, characters in the\r\n",
      "                classes are in unspecified order.\r\n",
      "\r\n",
      "                For specific information as to which ASCII characters are\r\n",
      "                included in these classes, see ctype(3) and related manual\r\n",
      "                pages.\r\n",
      "\r\n",
      "     [=equiv=]  Represents all characters belonging to the same equivalence\r\n",
      "                class as _\be_\bq_\bu_\bi_\bv, ordered by their encoded values.\r\n",
      "\r\n",
      "     [#*n]      Represents _\bn repeated occurrences of the character represented\r\n",
      "                by _\b#.  This expression is only valid when it occurs in\r\n",
      "                _\bs_\bt_\br_\bi_\bn_\bg_\b2.  If _\bn is omitted or is zero, it is be interpreted as\r\n",
      "                large enough to extend _\bs_\bt_\br_\bi_\bn_\bg_\b2 sequence to the length of\r\n",
      "                _\bs_\bt_\br_\bi_\bn_\bg_\b1.  If _\bn has a leading zero, it is interpreted as an\r\n",
      "                octal value, otherwise, it is interpreted as a decimal value.\r\n",
      "\r\n",
      "E\bEN\bNV\bVI\bIR\bRO\bON\bNM\bME\bEN\bNT\bT\r\n",
      "     The LANG, LC_ALL, LC_CTYPE and LC_COLLATE environment variables affect\r\n",
      "     the execution of t\btr\br as described in environ(7).\r\n",
      "\r\n",
      "E\bEX\bXI\bIT\bT S\bST\bTA\bAT\bTU\bUS\bS\r\n",
      "     The t\btr\br utility exits 0 on success, and >0 if an error occurs.\r\n",
      "\r\n",
      "E\bEX\bXA\bAM\bMP\bPL\bLE\bES\bS\r\n",
      "     The following examples are shown as given to the shell:\r\n",
      "\r\n",
      "     Create a list of the words in file1, one per line, where a word is taken\r\n",
      "     to be a maximal string of letters.\r\n",
      "\r\n",
      "           tr -cs \"[:alpha:]\" \"\\n\" < file1\r\n",
      "\r\n",
      "     Translate the contents of file1 to upper-case.\r\n",
      "\r\n",
      "           tr \"[:lower:]\" \"[:upper:]\" < file1\r\n",
      "\r\n",
      "     (This should be preferred over the traditional UNIX idiom of ``tr a-z A-\r\n",
      "     Z'', since it works correctly in all locales.)\r\n",
      "\r\n",
      "     Strip out non-printable characters from file1.\r\n",
      "\r\n",
      "           tr -cd \"[:print:]\" < file1\r\n",
      "\r\n",
      "     Remove diacritical marks from all accented variants of the letter `e':\r\n",
      "\r\n",
      "           tr \"[=e=]\" \"e\"\r\n",
      "\r\n",
      "C\bCO\bOM\bMP\bPA\bAT\bTI\bIB\bBI\bIL\bLI\bIT\bTY\bY\r\n",
      "     Previous FreeBSD implementations of t\btr\br did not order characters in range\r\n",
      "     expressions according to the current locale's collation order, making it\r\n",
      "     possible to convert unaccented Latin characters (esp. as found in English\r\n",
      "     text) from upper to lower case using the traditional UNIX idiom of ``tr\r\n",
      "     A-Z a-z''.  Since t\btr\br now obeys the locale's collation order, this idiom\r\n",
      "     may not produce correct results when there is not a 1:1 mapping between\r\n",
      "     lower and upper case, or when the order of characters within the two\r\n",
      "     cases differs.  As noted in the _\bE_\bX_\bA_\bM_\bP_\bL_\bE_\bS section above, the character\r\n",
      "     class expressions ``[:lower:]'' and ``[:upper:]'' should be used instead\r\n",
      "     of explicit character ranges like ``a-z'' and ``A-Z''.\r\n",
      "\r\n",
      "     System V has historically implemented character ranges using the syntax\r\n",
      "     ``[c-c]'' instead of the ``c-c'' used by historic BSD implementations and\r\n",
      "     standardized by POSIX.  System V shell scripts should work under this\r\n",
      "     implementation as long as the range is intended to map in another range,\r\n",
      "     i.e., the command ``tr [a-z] [A-Z]'' will work as it will map the `['\r\n",
      "     character in _\bs_\bt_\br_\bi_\bn_\bg_\b1 to the `[' character in _\bs_\bt_\br_\bi_\bn_\bg_\b2.  However, if the\r\n",
      "     shell script is deleting or squeezing characters as in the command ``tr\r\n",
      "     -d [a-z]'', the characters `[' and `]' will be included in the deletion\r\n",
      "     or compression list which would not have happened under a historic System\r\n",
      "     V implementation.  Additionally, any scripts that depended on the\r\n",
      "     sequence ``a-z'' to represent the three characters `a', `-' and `z' will\r\n",
      "     have to be rewritten as ``a\\-z''.\r\n",
      "\r\n",
      "     The t\btr\br utility has historically not permitted the manipulation of NUL\r\n",
      "     bytes in its input and, additionally, stripped NUL's from its input\r\n",
      "     stream.  This implementation has removed this behavior as a bug.\r\n",
      "\r\n",
      "     The t\btr\br utility has historically been extremely forgiving of syntax\r\n",
      "     errors, for example, the -\b-c\bc and -\b-s\bs options were ignored unless two\r\n",
      "     strings were specified.  This implementation will not permit illegal syn-\r\n",
      "     tax.\r\n",
      "\r\n",
      "S\bST\bTA\bAN\bND\bDA\bAR\bRD\bDS\bS\r\n",
      "     The t\btr\br utility conforms to IEEE Std 1003.1-2001 (``POSIX.1'').\r\n",
      "\r\n",
      "     It should be noted that the feature wherein the last character of _\bs_\bt_\br_\bi_\bn_\bg_\b2\r\n",
      "     is duplicated if _\bs_\bt_\br_\bi_\bn_\bg_\b2 has less characters than _\bs_\bt_\br_\bi_\bn_\bg_\b1 is permitted by\r\n",
      "     POSIX but is not required.  Shell scripts attempting to be portable to\r\n",
      "     other POSIX systems should use the ``[#*]'' convention instead of relying\r\n",
      "     on this behavior.  The -\b-u\bu option is an extension to the IEEE Std\r\n",
      "     1003.1-2001 (``POSIX.1'') standard.\r\n",
      "\r\n",
      "BSD                              July 23, 2004                             BSD\r\n"
     ]
    }
   ],
   "source": [
    "!man tr"
   ]
  },
  {
   "cell_type": "code",
   "execution_count": 34,
   "metadata": {},
   "outputs": [
    {
     "name": "stdout",
     "output_type": "stream",
     "text": [
      "\n",
      "TR [:LOWER:] [:UPPER:]\n",
      "\n",
      "TR A-Z A-Z\n"
     ]
    }
   ],
   "source": [
    "%%bash\n",
    "### open terminal and use:\n",
    "tr abcdefghijklmnopqrstuvwxyz ABCDEFGHIJKLMNOPQRSTUVWXYZ\n",
    "\n",
    "tr [:lower:] [:upper:]\n",
    "\n",
    "tr a-z A-Z"
   ]
  },
  {
   "cell_type": "code",
   "execution_count": null,
   "metadata": {},
   "outputs": [],
   "source": [
    "### translate white spaces to tabs\n",
    "echo \"Let's write a sentence\" | tr [:space:] '\\t'"
   ]
  },
  {
   "cell_type": "code",
   "execution_count": null,
   "metadata": {},
   "outputs": [],
   "source": [
    "### use the -s option to squeeze multiple occurences of characters\n",
    "echo \"Let's write a sentence\" | tr -s [:space:] '\\t'"
   ]
  },
  {
   "cell_type": "code",
   "execution_count": null,
   "metadata": {},
   "outputs": [],
   "source": [
    "### convert multiple spaces into a single space\n",
    "echo \"This  is  for testing\" | tr -s [:space:] ' '"
   ]
  },
  {
   "cell_type": "code",
   "execution_count": null,
   "metadata": {},
   "outputs": [],
   "source": [
    "### delete specified characters using the -d option\n",
    "echo \"toy truck\" | tr -d 't'"
   ]
  },
  {
   "cell_type": "code",
   "execution_count": null,
   "metadata": {},
   "outputs": [],
   "source": [
    "### remove all digits\n",
    "echo \"the temperature is 97 degrees farenheit\" | tr -d [:digit:]"
   ]
  },
  {
   "cell_type": "code",
   "execution_count": null,
   "metadata": {},
   "outputs": [],
   "source": [
    "### remove all characters except digits\n",
    "echo \"the temperature is 97 degrees farenheit\" | tr -cd [:digit:]"
   ]
  },
  {
   "cell_type": "code",
   "execution_count": null,
   "metadata": {},
   "outputs": [],
   "source": []
  }
 ],
 "metadata": {
  "kernelspec": {
   "display_name": "Python 3",
   "language": "python",
   "name": "python3"
  },
  "language_info": {
   "codemirror_mode": {
    "name": "ipython",
    "version": 3
   },
   "file_extension": ".py",
   "mimetype": "text/x-python",
   "name": "python",
   "nbconvert_exporter": "python",
   "pygments_lexer": "ipython3",
   "version": "3.6.4"
  }
 },
 "nbformat": 4,
 "nbformat_minor": 2
}
