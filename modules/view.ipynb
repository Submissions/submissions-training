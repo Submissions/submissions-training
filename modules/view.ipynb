{
 "cells": [
  {
   "cell_type": "markdown",
   "metadata": {},
   "source": [
    "### VIEW\n",
    "\n",
    "* head\n",
    "* tail\n",
    "* echo\n",
    "* history\n",
    "* date\n",
    "* which\n",
    "* type"
   ]
  },
  {
   "cell_type": "code",
   "execution_count": 1,
   "metadata": {},
   "outputs": [
    {
     "name": "stdout",
     "output_type": "stream",
     "text": [
      "Overwriting input_a.txt\n"
     ]
    }
   ],
   "source": [
    "%%writefile input_a.txt\n",
    "sample file\n",
    "hello world"
   ]
  },
  {
   "cell_type": "code",
   "execution_count": 2,
   "metadata": {},
   "outputs": [
    {
     "name": "stdout",
     "output_type": "stream",
     "text": [
      "total 8\r\n",
      "drwxr-xr-x 4 hale  128 May 22 16:10 dir_a/\r\n",
      "drwxr-xr-x 3 hale   96 May 22 16:10 dir_b/\r\n",
      "-rw-r--r-- 1 hale   23 May 22 16:45 input_a.txt\r\n",
      "-rw-r--r-- 1 hale 3540 May 22 16:12 module_view.ipynb\r\n"
     ]
    }
   ],
   "source": [
    "ll"
   ]
  },
  {
   "cell_type": "code",
   "execution_count": 3,
   "metadata": {},
   "outputs": [
    {
     "name": "stdout",
     "output_type": "stream",
     "text": [
      ".\n",
      "├── dir_a\n",
      "│   ├── sub_a1\n",
      "│   │   ├── f1\n",
      "│   │   └── f2\n",
      "│   └── sub_a2\n",
      "│       └── f3\n",
      "├── dir_b\n",
      "│   └── sub_b1\n",
      "│       └── f4\n",
      "├── input_a.txt\n",
      "└── module_view.ipynb\n",
      "\n",
      "5 directories, 6 files\n"
     ]
    }
   ],
   "source": [
    "%%bash\n",
    "mkdir -p dir_a/sub_a1 dir_a/sub_a2 dir_b/sub_b1\n",
    "touch dir_a/sub_a1/f1 dir_a/sub_a1/f2 dir_a/sub_a2/f3 dir_b/sub_b1/f4\n",
    "tree"
   ]
  },
  {
   "cell_type": "code",
   "execution_count": 4,
   "metadata": {},
   "outputs": [
    {
     "name": "stdout",
     "output_type": "stream",
     "text": [
      "ls is /anaconda3/bin/ls\r\n"
     ]
    }
   ],
   "source": [
    "!type ls"
   ]
  },
  {
   "cell_type": "code",
   "execution_count": 5,
   "metadata": {},
   "outputs": [
    {
     "name": "stdout",
     "output_type": "stream",
     "text": [
      "cd is a shell builtin\r\n"
     ]
    }
   ],
   "source": [
    "!type cd"
   ]
  },
  {
   "cell_type": "code",
   "execution_count": 6,
   "metadata": {},
   "outputs": [
    {
     "name": "stdout",
     "output_type": "stream",
     "text": [
      "pwd is a shell builtin\r\n"
     ]
    }
   ],
   "source": [
    "!type pwd"
   ]
  },
  {
   "cell_type": "code",
   "execution_count": 7,
   "metadata": {},
   "outputs": [
    {
     "name": "stdout",
     "output_type": "stream",
     "text": [
      "env is /anaconda3/bin/env\r\n"
     ]
    }
   ],
   "source": [
    "!type env"
   ]
  },
  {
   "cell_type": "code",
   "execution_count": 8,
   "metadata": {},
   "outputs": [
    {
     "name": "stdout",
     "output_type": "stream",
     "text": [
      "set is a shell builtin\r\n"
     ]
    }
   ],
   "source": [
    "!type set"
   ]
  },
  {
   "cell_type": "code",
   "execution_count": null,
   "metadata": {},
   "outputs": [],
   "source": []
  }
 ],
 "metadata": {
  "kernelspec": {
   "display_name": "Python 3",
   "language": "python",
   "name": "python3"
  },
  "language_info": {
   "codemirror_mode": {
    "name": "ipython",
    "version": 3
   },
   "file_extension": ".py",
   "mimetype": "text/x-python",
   "name": "python",
   "nbconvert_exporter": "python",
   "pygments_lexer": "ipython3",
   "version": "3.6.4"
  }
 },
 "nbformat": 4,
 "nbformat_minor": 2
}
