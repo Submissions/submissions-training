{
 "cells": [
  {
   "cell_type": "markdown",
   "metadata": {},
   "source": [
    "# View\n",
    "\n",
    "* head\n",
    "* tail\n",
    "* echo\n",
    "* history\n",
    "* date\n",
    "* which\n",
    "* type"
   ]
  },
  {
   "cell_type": "markdown",
   "metadata": {},
   "source": [
    "## Setup"
   ]
  },
  {
   "cell_type": "code",
   "execution_count": 1,
   "metadata": {},
   "outputs": [],
   "source": [
    "%%bash\n",
    "rm -rf dir_a dir_b input_a.txt log my.log\n",
    "mkdir -p bin dir_a/sub_a1 dir_a/sub_a2 dir_b/sub_b1\n",
    "touch dir_a/sub_a1/f1 dir_a/sub_a1/f2 dir_a/sub_a2/f3 dir_b/sub_b1/f4"
   ]
  },
  {
   "cell_type": "code",
   "execution_count": 2,
   "metadata": {},
   "outputs": [
    {
     "name": "stdout",
     "output_type": "stream",
     "text": [
      "Writing input_a.txt\n"
     ]
    }
   ],
   "source": [
    "%%writefile input_a.txt\n",
    "sample file\n",
    "hello world"
   ]
  },
  {
   "cell_type": "code",
   "execution_count": 3,
   "metadata": {},
   "outputs": [
    {
     "name": "stdout",
     "output_type": "stream",
     "text": [
      ".\r\n",
      "├── bin\r\n",
      "│   └── ts\r\n",
      "├── dir_a\r\n",
      "│   ├── sub_a1\r\n",
      "│   │   ├── f1\r\n",
      "│   │   └── f2\r\n",
      "│   └── sub_a2\r\n",
      "│       └── f3\r\n",
      "├── dir_b\r\n",
      "│   └── sub_b1\r\n",
      "│       └── f4\r\n",
      "├── input_a.txt\r\n",
      "└── view.ipynb\r\n",
      "\r\n",
      "6 directories, 7 files\r\n"
     ]
    }
   ],
   "source": [
    "!tree"
   ]
  },
  {
   "cell_type": "code",
   "execution_count": 4,
   "metadata": {},
   "outputs": [
    {
     "name": "stdout",
     "output_type": "stream",
     "text": [
      "total 24\r\n",
      "drwxr-xr-x 3 hale    96 May 30 08:52 bin/\r\n",
      "drwxr-xr-x 4 hale   128 May 30 09:24 dir_a/\r\n",
      "drwxr-xr-x 3 hale    96 May 30 09:24 dir_b/\r\n",
      "-rw-r--r-- 1 hale    23 May 30 09:24 input_a.txt\r\n",
      "-rw-r--r-- 1 hale 18782 May 30 09:23 view.ipynb\r\n"
     ]
    }
   ],
   "source": [
    "ll"
   ]
  },
  {
   "cell_type": "markdown",
   "metadata": {},
   "source": [
    "## `which` vs `type`\n",
    "\n",
    "`which` can report the location of the corresponding executable file.\n",
    "\n",
    "`type` can report:\n",
    "\n",
    "* executable files\n",
    "* shell builtins\n",
    "* aliases\n",
    "* shell functions"
   ]
  },
  {
   "cell_type": "code",
   "execution_count": 5,
   "metadata": {},
   "outputs": [
    {
     "name": "stdout",
     "output_type": "stream",
     "text": [
      "/anaconda3/bin/ls\r\n"
     ]
    }
   ],
   "source": [
    "!which ls"
   ]
  },
  {
   "cell_type": "code",
   "execution_count": 6,
   "metadata": {},
   "outputs": [
    {
     "name": "stdout",
     "output_type": "stream",
     "text": [
      "ls is /anaconda3/bin/ls\r\n"
     ]
    }
   ],
   "source": [
    "!type ls"
   ]
  },
  {
   "cell_type": "code",
   "execution_count": 7,
   "metadata": {},
   "outputs": [
    {
     "name": "stdout",
     "output_type": "stream",
     "text": [
      "cd is a shell builtin\r\n"
     ]
    }
   ],
   "source": [
    "!type cd"
   ]
  },
  {
   "cell_type": "code",
   "execution_count": 8,
   "metadata": {},
   "outputs": [
    {
     "name": "stdout",
     "output_type": "stream",
     "text": [
      "pwd is a shell builtin\r\n"
     ]
    }
   ],
   "source": [
    "!type pwd"
   ]
  },
  {
   "cell_type": "code",
   "execution_count": 9,
   "metadata": {},
   "outputs": [
    {
     "name": "stdout",
     "output_type": "stream",
     "text": [
      "/anaconda3/bin/pwd\r\n"
     ]
    }
   ],
   "source": [
    "!which pwd\n",
    "# Both a shell builtin and an executable"
   ]
  },
  {
   "cell_type": "code",
   "execution_count": 10,
   "metadata": {},
   "outputs": [
    {
     "name": "stdout",
     "output_type": "stream",
     "text": [
      "env is /anaconda3/bin/env\r\n"
     ]
    }
   ],
   "source": [
    "!type env"
   ]
  },
  {
   "cell_type": "code",
   "execution_count": 11,
   "metadata": {},
   "outputs": [
    {
     "name": "stdout",
     "output_type": "stream",
     "text": [
      "set is a shell builtin\r\n"
     ]
    }
   ],
   "source": [
    "!type set"
   ]
  },
  {
   "cell_type": "markdown",
   "metadata": {},
   "source": [
    "## `date`"
   ]
  },
  {
   "cell_type": "code",
   "execution_count": 12,
   "metadata": {},
   "outputs": [
    {
     "name": "stdout",
     "output_type": "stream",
     "text": [
      "Wed May 30 09:24:50 CDT 2018\r\n"
     ]
    }
   ],
   "source": [
    "!date"
   ]
  },
  {
   "cell_type": "code",
   "execution_count": 13,
   "metadata": {},
   "outputs": [
    {
     "name": "stdout",
     "output_type": "stream",
     "text": [
      "2018\r\n"
     ]
    }
   ],
   "source": [
    "!date +%Y"
   ]
  },
  {
   "cell_type": "code",
   "execution_count": 14,
   "metadata": {},
   "outputs": [
    {
     "name": "stdout",
     "output_type": "stream",
     "text": [
      "hello world\r\n"
     ]
    }
   ],
   "source": [
    "!date +'hello world'"
   ]
  },
  {
   "cell_type": "code",
   "execution_count": 15,
   "metadata": {},
   "outputs": [
    {
     "name": "stdout",
     "output_type": "stream",
     "text": [
      "2018-05-30T09:24:51 arbitrary logging of some step in your script\r\n"
     ]
    }
   ],
   "source": [
    "!date +\"%Y-%m-%dT%H:%M:%S arbitrary logging of some step in your script\""
   ]
  },
  {
   "cell_type": "code",
   "execution_count": 16,
   "metadata": {},
   "outputs": [
    {
     "name": "stdout",
     "output_type": "stream",
     "text": [
      "2018-05-30T09:24:51 arbitrary logging of some step in your script\r\n"
     ]
    }
   ],
   "source": [
    "!date +\"%FT%T arbitrary logging of some step in your script\""
   ]
  },
  {
   "cell_type": "code",
   "execution_count": 17,
   "metadata": {},
   "outputs": [
    {
     "name": "stdout",
     "output_type": "stream",
     "text": [
      "Overwriting bin/ts\n"
     ]
    }
   ],
   "source": [
    "%%writefile bin/ts\n",
    "#!/usr/bin/env bash\n",
    "\n",
    "date +\"%FT%T $*\""
   ]
  },
  {
   "cell_type": "code",
   "execution_count": 18,
   "metadata": {},
   "outputs": [],
   "source": [
    "!chmod +x bin/ts"
   ]
  },
  {
   "cell_type": "code",
   "execution_count": 19,
   "metadata": {
    "scrolled": true
   },
   "outputs": [
    {
     "name": "stdout",
     "output_type": "stream",
     "text": [
      "2018-05-30T09:24:51 \r\n"
     ]
    }
   ],
   "source": [
    "!bin/ts"
   ]
  },
  {
   "cell_type": "code",
   "execution_count": 20,
   "metadata": {},
   "outputs": [
    {
     "name": "stdout",
     "output_type": "stream",
     "text": [
      "00000000: 3230 3138 2d30 352d 3330 5430 393a 3234  2018-05-30T09:24\r\n",
      "00000010: 3a35 3120 0a                             :51 .\r\n"
     ]
    }
   ],
   "source": [
    "!ts | xxd"
   ]
  },
  {
   "cell_type": "code",
   "execution_count": 21,
   "metadata": {
    "scrolled": true
   },
   "outputs": [
    {
     "name": "stdout",
     "output_type": "stream",
     "text": [
      "2018-05-30T09:24:51 foo bar\r\n"
     ]
    }
   ],
   "source": [
    "!bin/ts foo    bar"
   ]
  },
  {
   "cell_type": "code",
   "execution_count": 22,
   "metadata": {
    "scrolled": true
   },
   "outputs": [
    {
     "name": "stdout",
     "output_type": "stream",
     "text": [
      "2018-05-30T09:24:51 arbitrary logging of some step in your script\r\n"
     ]
    }
   ],
   "source": [
    "!bin/ts \"arbitrary logging of some step in your script\""
   ]
  },
  {
   "cell_type": "code",
   "execution_count": 23,
   "metadata": {},
   "outputs": [
    {
     "name": "stdout",
     "output_type": "stream",
     "text": [
      "2018-05-30T09:24:52 starting my_script\n",
      "2018-05-30T09:24:52 config: foo=42\n",
      "2018-05-30T09:24:52 processing file=/tmp/hale/file1\n",
      "2018-05-30T09:24:52 processing file=/tmp/hale/file2\n",
      "2018-05-30T09:24:52 finished\n"
     ]
    }
   ],
   "source": [
    "%%bash\n",
    "ts starting     my_script\n",
    "ts config: foo=42\n",
    "ts processing file='/tmp/hale/file1'\n",
    "ts processing file='/tmp/hale/file2'\n",
    "ts finished"
   ]
  },
  {
   "cell_type": "code",
   "execution_count": 24,
   "metadata": {},
   "outputs": [
    {
     "name": "stdout",
     "output_type": "stream",
     "text": [
      "2018-05-30T09:24:52 starting my_script\n",
      "2018-05-30T09:24:52 finished\n"
     ]
    },
    {
     "name": "stderr",
     "output_type": "stream",
     "text": [
      "2018-05-30T09:24:52 config: foo=42\n",
      "2018-05-30T09:24:52 processing file=/tmp/hale/file1\n",
      "2018-05-30T09:24:52 processing file=/tmp/hale/file2\n"
     ]
    }
   ],
   "source": [
    "%%bash\n",
    "ts starting     my_script | tee -a log\n",
    "ts config: foo=42 | tee -a log >&2\n",
    "ts processing file='/tmp/hale/file1' | tee -a log >&2\n",
    "ts processing file='/tmp/hale/file2' | tee -a log >&2\n",
    "ts finished | tee -a log"
   ]
  },
  {
   "cell_type": "code",
   "execution_count": 25,
   "metadata": {},
   "outputs": [
    {
     "name": "stdout",
     "output_type": "stream",
     "text": [
      "2018-05-30T09:24:52 starting my_script\r\n",
      "2018-05-30T09:24:52 config: foo=42\r\n",
      "2018-05-30T09:24:52 processing file=/tmp/hale/file1\r\n",
      "2018-05-30T09:24:52 processing file=/tmp/hale/file2\r\n",
      "2018-05-30T09:24:52 finished\r\n"
     ]
    }
   ],
   "source": [
    "!cat log"
   ]
  },
  {
   "cell_type": "code",
   "execution_count": 26,
   "metadata": {},
   "outputs": [
    {
     "name": "stderr",
     "output_type": "stream",
     "text": [
      "2018-05-30T09:24:52 starting my_script\n",
      "2018-05-30T09:24:52 config: foo=42\n",
      "2018-05-30T09:24:52 processing file=/tmp/hale/file1\n",
      "2018-05-30T09:24:52 processing file=/tmp/hale/file2\n",
      "2018-05-30T09:24:52 finished\n"
     ]
    }
   ],
   "source": [
    "%%bash\n",
    "log() { ts $* | tee -a my.log >&2; }\n",
    "log starting     my_script\n",
    "log config: foo=42\n",
    "log processing file='/tmp/hale/file1'\n",
    "log processing file='/tmp/hale/file2'\n",
    "log finished"
   ]
  },
  {
   "cell_type": "code",
   "execution_count": 27,
   "metadata": {},
   "outputs": [
    {
     "name": "stdout",
     "output_type": "stream",
     "text": [
      "cat: walker.log: No such file or directory\r\n"
     ]
    }
   ],
   "source": [
    "!cat walker.log"
   ]
  },
  {
   "cell_type": "code",
   "execution_count": 28,
   "metadata": {},
   "outputs": [
    {
     "name": "stderr",
     "output_type": "stream",
     "text": [
      "2018-05-30T09:24:52 starting my_script\n",
      "2018-05-30T09:24:52 config: foo=42\n",
      "2018-05-30T09:24:52 processing file=/tmp/hale/file1\n",
      "2018-05-30T09:24:52 processing file=/tmp/hale/file2\n",
      "2018-05-30T09:24:52 finished\n"
     ]
    }
   ],
   "source": [
    "%%bash\n",
    "log() { date +\"%FT%T $*\" | tee -a my.log >&2; }\n",
    "log starting     my_script\n",
    "log config: foo=42\n",
    "log processing file='/tmp/hale/file1'\n",
    "log processing file='/tmp/hale/file2'\n",
    "log finished"
   ]
  },
  {
   "cell_type": "code",
   "execution_count": 29,
   "metadata": {},
   "outputs": [
    {
     "name": "stdout",
     "output_type": "stream",
     "text": [
      "20180530092452.dat\n"
     ]
    }
   ],
   "source": [
    "%%bash\n",
    "fn=$(date +%Y%m%d%H%M%S.dat)\n",
    "echo $fn"
   ]
  },
  {
   "cell_type": "markdown",
   "metadata": {},
   "source": [
    "## `head` and `tail`\n",
    "\n",
    "These can be combined to select regions of a file. Piping the output of `head` into `tail` selects a region that is anchored to the start of a file. Piping the output of `tail` into `head` selects a region that is anchored to the end of a file."
   ]
  },
  {
   "cell_type": "code",
   "execution_count": 30,
   "metadata": {
    "scrolled": false
   },
   "outputs": [
    {
     "name": "stdout",
     "output_type": "stream",
     "text": [
      "     1\t2018-05-30T09:24:52 starting my_script\r\n",
      "     2\t2018-05-30T09:24:52 config: foo=42\r\n",
      "     3\t2018-05-30T09:24:52 processing file=/tmp/hale/file1\r\n",
      "     4\t2018-05-30T09:24:52 processing file=/tmp/hale/file2\r\n",
      "     5\t2018-05-30T09:24:52 finished\r\n",
      "     6\t2018-05-30T09:24:52 starting my_script\r\n",
      "     7\t2018-05-30T09:24:52 config: foo=42\r\n",
      "     8\t2018-05-30T09:24:52 processing file=/tmp/hale/file1\r\n",
      "     9\t2018-05-30T09:24:52 processing file=/tmp/hale/file2\r\n",
      "    10\t2018-05-30T09:24:52 finished\r\n"
     ]
    }
   ],
   "source": [
    "!cat -n my.log"
   ]
  },
  {
   "cell_type": "code",
   "execution_count": 31,
   "metadata": {},
   "outputs": [
    {
     "name": "stdout",
     "output_type": "stream",
     "text": [
      "2018-05-30T09:24:52 starting my_script\r\n"
     ]
    }
   ],
   "source": [
    "!head -n1 my.log"
   ]
  },
  {
   "cell_type": "code",
   "execution_count": 32,
   "metadata": {},
   "outputs": [
    {
     "name": "stdout",
     "output_type": "stream",
     "text": [
      "2018-05-30T09:24:52 finished\r\n"
     ]
    }
   ],
   "source": [
    "!tail -n1 my.log"
   ]
  },
  {
   "cell_type": "code",
   "execution_count": 33,
   "metadata": {},
   "outputs": [
    {
     "name": "stdout",
     "output_type": "stream",
     "text": [
      "2018-05-30T09:24:52 finished\r\n",
      "2018-05-30T09:24:52 starting my_script\r\n",
      "2018-05-30T09:24:52 config: foo=42\r\n",
      "2018-05-30T09:24:52 processing file=/tmp/hale/file1\r\n",
      "2018-05-30T09:24:52 processing file=/tmp/hale/file2\r\n",
      "2018-05-30T09:24:52 finished\r\n"
     ]
    }
   ],
   "source": [
    "!tail -n +5 my.log"
   ]
  },
  {
   "cell_type": "code",
   "execution_count": 34,
   "metadata": {},
   "outputs": [
    {
     "name": "stdout",
     "output_type": "stream",
     "text": [
      "2018-05-30T09:24:52 processing file=/tmp/hale/file1\r\n"
     ]
    }
   ],
   "source": [
    "!head -n 3 my.log | tail -n 1"
   ]
  },
  {
   "cell_type": "code",
   "execution_count": 35,
   "metadata": {},
   "outputs": [
    {
     "name": "stdout",
     "output_type": "stream",
     "text": [
      "2018-05-30T09:24:52 processing file=/tmp/hale/file1\r\n",
      "2018-05-30T09:24:52 processing file=/tmp/hale/file2\r\n"
     ]
    }
   ],
   "source": [
    "!head -n4 my.log | tail -n2"
   ]
  },
  {
   "cell_type": "code",
   "execution_count": 36,
   "metadata": {},
   "outputs": [
    {
     "name": "stdout",
     "output_type": "stream",
     "text": [
      "3\r\n",
      "4\r\n"
     ]
    }
   ],
   "source": [
    "!seq 500 | head -n4 | tail -n2"
   ]
  },
  {
   "cell_type": "code",
   "execution_count": 37,
   "metadata": {},
   "outputs": [
    {
     "name": "stdout",
     "output_type": "stream",
     "text": [
      "1\r\n",
      "2\r\n",
      "3\r\n",
      "4\r\n"
     ]
    }
   ],
   "source": [
    "!seq 500 | head -n4"
   ]
  },
  {
   "cell_type": "code",
   "execution_count": 38,
   "metadata": {},
   "outputs": [
    {
     "name": "stdout",
     "output_type": "stream",
     "text": [
      "497\r\n",
      "498\r\n",
      "499\r\n",
      "500\r\n"
     ]
    }
   ],
   "source": [
    "!seq 500 | tail -n4"
   ]
  },
  {
   "cell_type": "code",
   "execution_count": 39,
   "metadata": {},
   "outputs": [
    {
     "name": "stdout",
     "output_type": "stream",
     "text": [
      "499\r\n"
     ]
    }
   ],
   "source": [
    "!seq 500 | tail -n2 | head -n1"
   ]
  },
  {
   "cell_type": "code",
   "execution_count": 40,
   "metadata": {},
   "outputs": [
    {
     "name": "stdout",
     "output_type": "stream",
     "text": [
      "494\r\n",
      "495\r\n",
      "496\r\n"
     ]
    }
   ],
   "source": [
    "!seq 500 | tail -n7 | head -n3"
   ]
  },
  {
   "cell_type": "markdown",
   "metadata": {},
   "source": [
    "## `echo`"
   ]
  },
  {
   "cell_type": "code",
   "execution_count": 41,
   "metadata": {},
   "outputs": [
    {
     "name": "stdout",
     "output_type": "stream",
     "text": [
      "hello\n",
      "world\n",
      "\n",
      "foobar\n"
     ]
    }
   ],
   "source": [
    "%%bash\n",
    "echo -e hello\\\\nworld\n",
    "echo\n",
    "echo -n foo\n",
    "echo bar"
   ]
  }
 ],
 "metadata": {
  "kernelspec": {
   "display_name": "Python 3",
   "language": "python",
   "name": "python3"
  },
  "language_info": {
   "codemirror_mode": {
    "name": "ipython",
    "version": 3
   },
   "file_extension": ".py",
   "mimetype": "text/x-python",
   "name": "python",
   "nbconvert_exporter": "python",
   "pygments_lexer": "ipython3",
   "version": "3.6.4"
  }
 },
 "nbformat": 4,
 "nbformat_minor": 2
}
