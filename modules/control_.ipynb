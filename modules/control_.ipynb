{
 "cells": [
  {
   "cell_type": "markdown",
   "metadata": {
    "deletable": true,
    "editable": true
   },
   "source": [
    "# Pushd/popd"
   ]
  },
  {
   "cell_type": "markdown",
   "metadata": {
    "deletable": true,
    "editable": true
   },
   "source": [
    "## Think of a bucket"
   ]
  },
  {
   "cell_type": "code",
   "execution_count": 6,
   "metadata": {
    "collapsed": true,
    "deletable": true,
    "editable": true
   },
   "outputs": [],
   "source": [
    "%%bash\n",
    "cd test"
   ]
  },
  {
   "cell_type": "code",
   "execution_count": 8,
   "metadata": {
    "collapsed": false,
    "deletable": true,
    "editable": true
   },
   "outputs": [
    {
     "name": "stdout",
     "output_type": "stream",
     "text": [
      "/Users/christis/Desktop/test\n"
     ]
    }
   ],
   "source": [
    "cd test"
   ]
  },
  {
   "cell_type": "code",
   "execution_count": 9,
   "metadata": {
    "collapsed": false,
    "deletable": true,
    "editable": true
   },
   "outputs": [
    {
     "name": "stdout",
     "output_type": "stream",
     "text": [
      "\u001b[34ma\u001b[m\u001b[m/         \u001b[34md\u001b[m\u001b[m/         \u001b[30m\u001b[43measy\u001b[m\u001b[m/      hello      long_text  nothing\r\n"
     ]
    }
   ],
   "source": [
    "ls"
   ]
  },
  {
   "cell_type": "code",
   "execution_count": 10,
   "metadata": {
    "collapsed": true,
    "deletable": true,
    "editable": true
   },
   "outputs": [],
   "source": [
    "mkdir -p a/b/c/d/"
   ]
  },
  {
   "cell_type": "code",
   "execution_count": 12,
   "metadata": {
    "collapsed": false,
    "deletable": true,
    "editable": true
   },
   "outputs": [
    {
     "name": "stdout",
     "output_type": "stream",
     "text": [
      "\u001b[34ma\u001b[m\u001b[m/         \u001b[34md\u001b[m\u001b[m/         \u001b[30m\u001b[43measy\u001b[m\u001b[m/      hello      long_text  nothing\r\n"
     ]
    }
   ],
   "source": [
    "ls"
   ]
  },
  {
   "cell_type": "code",
   "execution_count": 19,
   "metadata": {
    "collapsed": false,
    "deletable": true,
    "editable": true
   },
   "outputs": [
    {
     "name": "stdout",
     "output_type": "stream",
     "text": [
      "d\n"
     ]
    }
   ],
   "source": [
    "%%bash\n",
    "ls"
   ]
  },
  {
   "cell_type": "code",
   "execution_count": 23,
   "metadata": {
    "collapsed": false,
    "deletable": true,
    "editable": true
   },
   "outputs": [
    {
     "data": {
      "text/plain": [
       "'/Users/christis/Desktop/test'"
      ]
     },
     "execution_count": 23,
     "metadata": {},
     "output_type": "execute_result"
    }
   ],
   "source": [
    "pwd"
   ]
  },
  {
   "cell_type": "code",
   "execution_count": 26,
   "metadata": {
    "collapsed": false,
    "deletable": true,
    "editable": true
   },
   "outputs": [
    {
     "name": "stdout",
     "output_type": "stream",
     "text": [
      "/Users/christis/Desktop/test/a\n"
     ]
    },
    {
     "data": {
      "text/plain": [
       "['~/Desktop/test/a', '~/Desktop/test/a', '~/Desktop/test', '~/Desktop/test']"
      ]
     },
     "execution_count": 26,
     "metadata": {},
     "output_type": "execute_result"
    }
   ],
   "source": [
    "pushd ~/Desktop/test/a\n"
   ]
  },
  {
   "cell_type": "code",
   "execution_count": 27,
   "metadata": {
    "collapsed": false,
    "deletable": true,
    "editable": true
   },
   "outputs": [
    {
     "name": "stdout",
     "output_type": "stream",
     "text": [
      "/Users/christis/Desktop/test/a\n",
      "popd -> ~/Desktop/test/a\n"
     ]
    }
   ],
   "source": [
    "popd"
   ]
  },
  {
   "cell_type": "markdown",
   "metadata": {
    "deletable": true,
    "editable": true
   },
   "source": [
    "# Deleting files \n"
   ]
  },
  {
   "cell_type": "code",
   "execution_count": 1,
   "metadata": {
    "collapsed": false,
    "deletable": true,
    "editable": true
   },
   "outputs": [
    {
     "name": "stdout",
     "output_type": "stream",
     "text": [
      "2018_youth_group_finances.xlsx\n",
      "32424185consent.pdf\n",
      "6ZD0CC44 (1).pdf\n",
      "Christian_Sanchez_UHD_final_a.docx\n",
      "Christian_Sanchez_UH_final_a .docx\n",
      "Christian_Sanchez_UH_final_b.docx\n",
      "Christian_Sanchezcompleted-transcript-14430206.pdf\n",
      "ChronicITP.5.10.18.xlsx\n",
      "Control (1).ipynb\n",
      "Control.ipynb\n",
      "MSDA_Reference_Form.pdf\n",
      "Make.ipynb\n",
      "Results_05-16-2018.xls\n",
      "Screen Shot 2018-05-16 at 10.07.16 AM.png\n",
      "Screen Shot 2018-05-18 at 1.55.27 PM.png\n",
      "Screen Shot 2018-05-21 at 12.07.25 PM.png\n",
      "Screen Shot 2018-05-22 at 1.51.37 PM.png\n",
      "Screen Shot 2018-05-22 at 11.14.50 AM.png\n",
      "Screen Shot 2018-05-29 at 12.50.46 PM.png\n",
      "Sym_link_report.xlsx\n",
      "UDN_code.txt\n",
      "Untitled.ipynb\n",
      "Untitled1.ipynb\n",
      "Untitled2.ipynb\n",
      "afib_test\n",
      "biospecimen.project-TCGA-OV.2018-05-07.tar.gz\n",
      "cS_personal.docx\n",
      "cS_personal_final_d.docx\n",
      "christian_sanchez_update.pdf\n",
      "code_practice\n",
      "dice.py\n",
      "exceptional\n",
      "illuminaBreakdownV2.xls\n",
      "mfts\n",
      "namedtuple.html\n",
      "namedtuple.ipynb\n",
      "old_pptc\n",
      "ovarian\n",
      "pandasexcercise\n",
      "personal\n",
      "pointed\n",
      "pptc_working\n",
      "py36-test-a.html\n",
      "py36-test-a.ipynb\n",
      "python_type_annotations.ipynb\n",
      "python_type_annotations.py\n",
      "random.ipynb\n",
      "resume_sanchez_2018_final_a.docx\n",
      "resume_sanchez_2018_final_b.docx\n",
      "resume_sanchez_2018_final_b.pdf\n",
      "scanned\n",
      "school_2018spring\n",
      "string_fromatting.ipynb\n",
      "tcga_ova_.tsv.xlsx\n",
      "tcga_ova_a.xlsx\n",
      "temp_holding\n",
      "test\n",
      "test_1.py\n",
      "training\n",
      "~$tcga_ova_.tsv.xlsx\n"
     ]
    }
   ],
   "source": [
    "%%bash\n",
    "ls"
   ]
  },
  {
   "cell_type": "code",
   "execution_count": 2,
   "metadata": {
    "collapsed": false
   },
   "outputs": [
    {
     "name": "stdout",
     "output_type": "stream",
     "text": [
      "rm pointed\n"
     ]
    }
   ],
   "source": [
    "%%bash\n",
    "echo rm pointed "
   ]
  },
  {
   "cell_type": "code",
   "execution_count": 4,
   "metadata": {
    "collapsed": false
   },
   "outputs": [
    {
     "name": "stdout",
     "output_type": "stream",
     "text": [
      "rm -f pointed\n"
     ]
    }
   ],
   "source": [
    "%%bash\n",
    "echo rm -f pointed"
   ]
  },
  {
   "cell_type": "markdown",
   "metadata": {},
   "source": [
    "## Multiple ways to remove a directory"
   ]
  },
  {
   "cell_type": "code",
   "execution_count": 5,
   "metadata": {
    "collapsed": true
   },
   "outputs": [],
   "source": [
    "%%bash \n",
    "mkdir fake_dir\n",
    "cd fake_dir\n",
    "touch fake_file"
   ]
  },
  {
   "cell_type": "code",
   "execution_count": 8,
   "metadata": {
    "collapsed": false
   },
   "outputs": [
    {
     "name": "stdout",
     "output_type": "stream",
     "text": [
      "fake_file\n"
     ]
    }
   ],
   "source": [
    "%%bash\n",
    "ls fake_dir/"
   ]
  },
  {
   "cell_type": "code",
   "execution_count": 9,
   "metadata": {
    "collapsed": false
   },
   "outputs": [
    {
     "name": "stdout",
     "output_type": "stream",
     "text": [
      "rmdir: fake_dir/: Directory not empty\r\n"
     ]
    }
   ],
   "source": [
    "rmdir fake_dir/\n"
   ]
  },
  {
   "cell_type": "markdown",
   "metadata": {},
   "source": [
    "### rmdir has \"safety feature\" that prevents folders from being deleted if are not empty"
   ]
  },
  {
   "cell_type": "markdown",
   "metadata": {},
   "source": [
    "#### use this only if positive and double check"
   ]
  },
  {
   "cell_type": "code",
   "execution_count": 10,
   "metadata": {
    "collapsed": false
   },
   "outputs": [
    {
     "ename": "SyntaxError",
     "evalue": "invalid syntax (<ipython-input-10-59a38fc09e43>, line 1)",
     "output_type": "error",
     "traceback": [
      "\u001b[0;36m  File \u001b[0;32m\"<ipython-input-10-59a38fc09e43>\"\u001b[0;36m, line \u001b[0;32m1\u001b[0m\n\u001b[0;31m    echo rm -rf fake_dir\u001b[0m\n\u001b[0m          ^\u001b[0m\n\u001b[0;31mSyntaxError\u001b[0m\u001b[0;31m:\u001b[0m invalid syntax\n"
     ]
    }
   ],
   "source": [
    "echo rm -rf fake_dir"
   ]
  },
  {
   "cell_type": "markdown",
   "metadata": {},
   "source": [
    "# Permissions for a file (chmod)\n"
   ]
  },
  {
   "cell_type": "markdown",
   "metadata": {},
   "source": [
    "## There are thre different types of permissions\n",
    "### readable (r)\n",
    "### executable (x)\n",
    "### writeable (w)\n",
    "## Permissions can be applied to different people \n",
    "### just the user\n",
    "### group\n",
    "### and \"o\" everyone\n"
   ]
  },
  {
   "cell_type": "code",
   "execution_count": 11,
   "metadata": {
    "collapsed": false
   },
   "outputs": [
    {
     "name": "stdout",
     "output_type": "stream",
     "text": [
      "-rw-r--r--  1 christis  staff     0B Jun  5 12:25 example_file\n"
     ]
    }
   ],
   "source": [
    "%%bash \n",
    "touch example_file\n",
    "ls -lh example_file"
   ]
  },
  {
   "cell_type": "markdown",
   "metadata": {},
   "source": [
    "## Can use octals to explain\n",
    "### read = 4\n",
    "### write = 2\n",
    "### execute =1\n",
    "### First number is for user, second for group, and third for others"
   ]
  },
  {
   "cell_type": "code",
   "execution_count": 14,
   "metadata": {
    "collapsed": false
   },
   "outputs": [
    {
     "name": "stdout",
     "output_type": "stream",
     "text": [
      "-rw-r--r--  1 christis  staff     0B Jun  5 12:25 example_file\n"
     ]
    }
   ],
   "source": [
    "%%bash\n",
    "chmod 644 example_file\n",
    "ls -lh example_file"
   ]
  },
  {
   "cell_type": "code",
   "execution_count": 16,
   "metadata": {
    "collapsed": false
   },
   "outputs": [
    {
     "name": "stdout",
     "output_type": "stream",
     "text": [
      "-rw----r--  1 christis  staff     0B Jun  5 12:25 example_file\n"
     ]
    }
   ],
   "source": [
    "%%bash\n",
    "chmod 604 example_file\n",
    "ls -lh example_file"
   ]
  },
  {
   "cell_type": "code",
   "execution_count": 18,
   "metadata": {
    "collapsed": false
   },
   "outputs": [
    {
     "name": "stdout",
     "output_type": "stream",
     "text": [
      "-rwxrwxrwx  1 christis  staff     0B Jun  5 12:25 example_file\n"
     ]
    }
   ],
   "source": [
    "%%bash \n",
    "chmod 777 example_file\n",
    "ls -lh example_file"
   ]
  },
  {
   "cell_type": "code",
   "execution_count": 23,
   "metadata": {
    "collapsed": false
   },
   "outputs": [
    {
     "name": "stdout",
     "output_type": "stream",
     "text": [
      "-rw-r--r--  1 christis  staff     0B Jun  5 12:36 paranoid\n"
     ]
    }
   ],
   "source": [
    "%%bash\n",
    "touch paranoid\n",
    "umask 0077 paranoid #only the creator can modify and use the file\n",
    "ls -lh paranoid"
   ]
  },
  {
   "cell_type": "code",
   "execution_count": 26,
   "metadata": {
    "collapsed": false
   },
   "outputs": [
    {
     "name": "stdout",
     "output_type": "stream",
     "text": [
      "-rwxr--r--  1 christis  staff     0B Jun  5 12:42 single_perm\n",
      "-rwxrwxrwx  1 christis  staff     0B Jun  5 12:42 loose\n"
     ]
    }
   ],
   "source": [
    "%%bash \n",
    "touch single_perm\n",
    "chmod u+x single_perm\n",
    "ls -lh single_perm\n",
    "\n",
    "touch loose\n",
    "chmod a+rwx loose \n",
    "ls -lh loose"
   ]
  },
  {
   "cell_type": "code",
   "execution_count": 28,
   "metadata": {
    "collapsed": false
   },
   "outputs": [
    {
     "name": "stdout",
     "output_type": "stream",
     "text": [
      "----------  1 christis  staff     0B Jun  5 12:42 loose\n"
     ]
    }
   ],
   "source": [
    "%%bash\n",
    "chmod a-rwx loose\n",
    "ls -lh loose"
   ]
  },
  {
   "cell_type": "code",
   "execution_count": 29,
   "metadata": {
    "collapsed": true
   },
   "outputs": [],
   "source": [
    "%%bash\n",
    "mkdir tesssst\n",
    "chmod -R a+rwx tesssst"
   ]
  },
  {
   "cell_type": "code",
   "execution_count": null,
   "metadata": {
    "collapsed": true
   },
   "outputs": [],
   "source": []
  }
 ],
 "metadata": {
  "kernelspec": {
   "display_name": "Python 3",
   "language": "python",
   "name": "python3"
  },
  "language_info": {
   "codemirror_mode": {
    "name": "ipython",
    "version": 3
   },
   "file_extension": ".py",
   "mimetype": "text/x-python",
   "name": "python",
   "nbconvert_exporter": "python",
   "pygments_lexer": "ipython3",
   "version": "3.5.3"
  }
 },
 "nbformat": 4,
 "nbformat_minor": 2
}
