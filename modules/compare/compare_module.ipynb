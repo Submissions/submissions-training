{
 "cells": [
  {
   "cell_type": "markdown",
   "metadata": {},
   "source": [
    "## What is sort?\n",
    "> command to sort the contents of a file, line by line <br>\n",
    "> rearranges the lines, numerically and alphabetically\n",
    "\n",
    "### Default Rules:\n",
    "-  number before alphabet <br>\n",
    "-  UPPERCASE before lowercase"
   ]
  },
  {
   "cell_type": "code",
   "execution_count": 1,
   "metadata": {},
   "outputs": [
    {
     "name": "stdout",
     "output_type": "stream",
     "text": [
      "SORT(1)                          User Commands                         SORT(1)\r\n",
      "\r\n",
      "\r\n",
      "\r\n",
      "N\bNA\bAM\bME\bE\r\n",
      "       sort - sort lines of text files\r\n",
      "\r\n",
      "S\bSY\bYN\bNO\bOP\bPS\bSI\bIS\bS\r\n",
      "       s\bso\bor\brt\bt [_\bO_\bP_\bT_\bI_\bO_\bN]... [_\bF_\bI_\bL_\bE]...\r\n",
      "\r\n",
      "D\bDE\bES\bSC\bCR\bRI\bIP\bPT\bTI\bIO\bON\bN\r\n",
      "       Write sorted concatenation of all FILE(s) to standard output.\r\n",
      "\r\n",
      "       Mandatory  arguments  to  long  options are mandatory for short options\r\n",
      "       too.  Ordering options:\r\n",
      "\r\n",
      "       -\b-b\bb, -\b--\b-i\big\bgn\bno\bor\bre\be-\b-l\ble\bea\bad\bdi\bin\bng\bg-\b-b\bbl\bla\ban\bnk\bks\bs\r\n",
      "              ignore leading blanks\r\n",
      "\r\n",
      "       -\b-d\bd, -\b--\b-d\bdi\bic\bct\bti\bio\bon\bna\bar\bry\by-\b-o\bor\brd\bde\ber\br\r\n",
      "              consider only blanks and alphanumeric characters\r\n",
      "\r\n",
      "       -\b-f\bf, -\b--\b-i\big\bgn\bno\bor\bre\be-\b-c\bca\bas\bse\be\r\n",
      "              fold lower case to upper case characters\r\n",
      "\r\n",
      "       -\b-g\bg, -\b--\b-g\bge\ben\bne\ber\bra\bal\bl-\b-n\bnu\bum\bme\ber\bri\bic\bc-\b-s\bso\bor\brt\bt\r\n",
      "              compare according to general numerical value\r\n",
      "\r\n",
      "       -\b-i\bi, -\b--\b-i\big\bgn\bno\bor\bre\be-\b-n\bno\bon\bnp\bpr\bri\bin\bnt\bti\bin\bng\bg\r\n",
      "              consider only printable characters\r\n",
      "\r\n",
      "       -\b-M\bM, -\b--\b-m\bmo\bon\bnt\bth\bh-\b-s\bso\bor\brt\bt\r\n",
      "              compare (unknown) < `JAN' < ... < `DEC'\r\n",
      "\r\n",
      "       -\b-n\bn, -\b--\b-n\bnu\bum\bme\ber\bri\bic\bc-\b-s\bso\bor\brt\bt\r\n",
      "              compare according to string numerical value\r\n",
      "\r\n",
      "       -\b-r\br, -\b--\b-r\bre\bev\bve\ber\brs\bse\be\r\n",
      "              reverse the result of comparisons\r\n",
      "\r\n",
      "       Other options:\r\n",
      "\r\n",
      "       -\b-c\bc, -\b--\b-c\bch\bhe\bec\bck\bk\r\n",
      "              check whether input is sorted; do not sort\r\n",
      "\r\n",
      "       -\b-k\bk, -\b--\b-k\bke\bey\by=_\bP_\bO_\bS_\b1_\b[,POS2]\r\n",
      "              start a key at POS1, end it at POS2 (origin 1)\r\n",
      "\r\n",
      "       -\b-m\bm, -\b--\b-m\bme\ber\brg\bge\be\r\n",
      "              merge already sorted files; do not sort\r\n",
      "\r\n",
      "       -\b-o\bo, -\b--\b-o\bou\but\btp\bpu\but\bt=_\bF_\bI_\bL_\bE\r\n",
      "              write result to FILE instead of standard output\r\n",
      "\r\n",
      "       -\b-s\bs, -\b--\b-s\bst\bta\bab\bbl\ble\be\r\n",
      "              stabilize sort by disabling last-resort comparison\r\n",
      "\r\n",
      "       -\b-S\bS, -\b--\b-b\bbu\buf\bff\bfe\ber\br-\b-s\bsi\biz\bze\be=_\bS_\bI_\bZ_\bE\r\n",
      "              use SIZE for main memory buffer\r\n",
      "\r\n",
      "       -\b-t\bt, -\b--\b-f\bfi\bie\bel\bld\bd-\b-s\bse\bep\bpa\bar\bra\bat\bto\bor\br=_\bS_\bE_\bP\r\n",
      "              use SEP instead of non-blank to blank transition\r\n",
      "\r\n",
      "       -\b-T\bT, -\b--\b-t\bte\bem\bmp\bpo\bor\bra\bar\bry\by-\b-d\bdi\bir\bre\bec\bct\bto\bor\bry\by=_\bD_\bI_\bR\r\n",
      "              use DIR for temporaries, not $TMPDIR or /tmp;  multiple  options\r\n",
      "              specify multiple directories\r\n",
      "\r\n",
      "       -\b-u\bu, -\b--\b-u\bun\bni\biq\bqu\bue\be\r\n",
      "              with  -\b-c\bc, check for strict ordering; without -\b-c\bc, output only the\r\n",
      "              first of an equal run\r\n",
      "\r\n",
      "       -\b-z\bz, -\b--\b-z\bze\ber\bro\bo-\b-t\bte\ber\brm\bmi\bin\bna\bat\bte\bed\bd\r\n",
      "              end lines with 0 byte, not newline\r\n",
      "\r\n",
      "       -\b--\b-h\bhe\bel\blp\bp display this help and exit\r\n",
      "\r\n",
      "       -\b--\b-v\bve\ber\brs\bsi\bio\bon\bn\r\n",
      "              output version information and exit\r\n",
      "\r\n",
      "       POS is F[.C][OPTS], where F is the field number  and  C  the  character\r\n",
      "       position  in  the  field.   OPTS  is one or more single-letter ordering\r\n",
      "       options, which override global ordering options for that  key.   If  no\r\n",
      "       key is given, use the entire line as the key.\r\n",
      "\r\n",
      "       SIZE  may be followed by the following multiplicative suffixes: % 1% of\r\n",
      "       memory, b 1, K 1024 (default), and so on for M, G, T, P, E, Z, Y.\r\n",
      "\r\n",
      "       With no FILE, or when FILE is -, read standard input.\r\n",
      "\r\n",
      "       *** WARNING *** The locale specified by the  environment  affects  sort\r\n",
      "       order.  Set LC_ALL=C to get the traditional sort order that uses native\r\n",
      "       byte values.\r\n",
      "\r\n",
      "A\bAU\bUT\bTH\bHO\bOR\bR\r\n",
      "       Written by Mike Haertel and Paul Eggert.\r\n",
      "\r\n",
      "R\bRE\bEP\bPO\bOR\bRT\bTI\bIN\bNG\bG B\bBU\bUG\bGS\bS\r\n",
      "       Report bugs to <bug-coreutils@gnu.org>.\r\n",
      "\r\n",
      "C\bCO\bOP\bPY\bYR\bRI\bIG\bGH\bHT\bT\r\n",
      "       Copyright (C) 2005 Free Software Foundation, Inc.\r\n",
      "       This is free software.  You may redistribute copies  of  it  under  the\r\n",
      "       terms       of       the      GNU      General      Public      License\r\n",
      "       <http://www.gnu.org/licenses/gpl.html>.  There is NO WARRANTY,  to  the\r\n",
      "       extent permitted by law.\r\n",
      "\r\n",
      "S\bSE\bEE\bE A\bAL\bLS\bSO\bO\r\n",
      "       The  full documentation for s\bso\bor\brt\bt is maintained as a Texinfo manual.  If\r\n",
      "       the i\bin\bnf\bfo\bo and s\bso\bor\brt\bt programs are properly installed  at  your  site,  the\r\n",
      "       command\r\n",
      "\r\n",
      "              i\bin\bnf\bfo\bo s\bso\bor\brt\bt\r\n",
      "\r\n",
      "       should give you access to the complete manual.\r\n",
      "\r\n",
      "\r\n",
      "\r\n",
      "sort 5.93                        November 2005                         SORT(1)\r\n"
     ]
    }
   ],
   "source": [
    "!man sort"
   ]
  },
  {
   "cell_type": "code",
   "execution_count": 2,
   "metadata": {},
   "outputs": [
    {
     "name": "stdout",
     "output_type": "stream",
     "text": [
      "this is a cat.\r\n",
      "This is a cat.\r\n",
      "2 puppies jumped."
     ]
    }
   ],
   "source": [
    "!cat pets"
   ]
  },
  {
   "cell_type": "code",
   "execution_count": 3,
   "metadata": {},
   "outputs": [
    {
     "name": "stdout",
     "output_type": "stream",
     "text": [
      "2 puppies jumped.\r\n",
      "This is a cat.\r\n",
      "this is a cat.\r\n"
     ]
    }
   ],
   "source": [
    "!sort pets"
   ]
  },
  {
   "cell_type": "markdown",
   "metadata": {},
   "source": [
    "## What is comm?\n",
    "> Unix/Linux command to select or reject **lines** common to two files"
   ]
  },
  {
   "cell_type": "markdown",
   "metadata": {},
   "source": [
    "## Method\n",
    "-  Reads **file1** and **file2** <br>\n",
    "-  Generates an output\n",
    "\n",
    "> ### Output \n",
    "-  3 text columns\n",
    "    -  1: Lines *only* in **file1** <br>\n",
    "    -  2: Lines *only* in **file2** <br>\n",
    "    -  3: Lines in *both files* <br>\n",
    "-  Can be supressed with options\n",
    "\n",
    "> ### Options\n",
    "-  -1 Suppress printing of column 1\n",
    "-  -2 Suppress printing of column 2\n",
    "-  -3 Suppress printing of column 3\n",
    "-  -i Case *insensitive* comparison of lines "
   ]
  },
  {
   "cell_type": "code",
   "execution_count": 4,
   "metadata": {},
   "outputs": [
    {
     "name": "stdout",
     "output_type": "stream",
     "text": [
      "\r\n",
      "COMM(1)                   BSD General Commands Manual                  COMM(1)\r\n",
      "\r\n",
      "N\bNA\bAM\bME\bE\r\n",
      "     c\bco\bom\bmm\bm -- select or reject lines common to two files\r\n",
      "\r\n",
      "S\bSY\bYN\bNO\bOP\bPS\bSI\bIS\bS\r\n",
      "     c\bco\bom\bmm\bm [-\b-1\b12\b23\b3i\bi] _\bf_\bi_\bl_\be_\b1 _\bf_\bi_\bl_\be_\b2\r\n",
      "\r\n",
      "D\bDE\bES\bSC\bCR\bRI\bIP\bPT\bTI\bIO\bON\bN\r\n",
      "     The c\bco\bom\bmm\bm utility reads _\bf_\bi_\bl_\be_\b1 and _\bf_\bi_\bl_\be_\b2, which should be sorted lexically,\r\n",
      "     and produces three text columns as output: lines only in _\bf_\bi_\bl_\be_\b1; lines\r\n",
      "     only in _\bf_\bi_\bl_\be_\b2; and lines in both files.\r\n",
      "\r\n",
      "     The filename ``-'' means the standard input.\r\n",
      "\r\n",
      "     The following options are available:\r\n",
      "\r\n",
      "     -\b-1\b1      Suppress printing of column 1.\r\n",
      "\r\n",
      "     -\b-2\b2      Suppress printing of column 2.\r\n",
      "\r\n",
      "     -\b-3\b3      Suppress printing of column 3.\r\n",
      "\r\n",
      "     -\b-i\bi      Case insensitive comparison of lines.\r\n",
      "\r\n",
      "     Each column will have a number of tab characters prepended to it equal to\r\n",
      "     the number of lower numbered columns that are being printed.  For exam-\r\n",
      "     ple, if column number two is being suppressed, lines printed in column\r\n",
      "     number one will not have any tabs preceding them, and lines printed in\r\n",
      "     column number three will have one.\r\n",
      "\r\n",
      "     The c\bco\bom\bmm\bm utility assumes that the files are lexically sorted; all charac-\r\n",
      "     ters participate in line comparisons.\r\n",
      "\r\n",
      "E\bEN\bNV\bVI\bIR\bRO\bON\bNM\bME\bEN\bNT\bT\r\n",
      "     The LANG, LC_ALL, LC_COLLATE, and LC_CTYPE environment variables affect\r\n",
      "     the execution of c\bco\bom\bmm\bm as described in environ(7).\r\n",
      "\r\n",
      "E\bEX\bXI\bIT\bT S\bST\bTA\bAT\bTU\bUS\bS\r\n",
      "     The c\bco\bom\bmm\bm utility exits 0 on success, and >0 if an error occurs.\r\n",
      "\r\n",
      "S\bSE\bEE\bE A\bAL\bLS\bSO\bO\r\n",
      "     cmp(1), diff(1), sort(1), uniq(1)\r\n",
      "\r\n",
      "S\bST\bTA\bAN\bND\bDA\bAR\bRD\bDS\bS\r\n",
      "     The c\bco\bom\bmm\bm utility conforms to IEEE Std 1003.2-1992 (``POSIX.2'').\r\n",
      "\r\n",
      "     The -\b-i\bi option is an extension to the POSIX standard.\r\n",
      "\r\n",
      "H\bHI\bIS\bST\bTO\bOR\bRY\bY\r\n",
      "     A c\bco\bom\bmm\bm command appeared in Version 4 AT&T UNIX.\r\n",
      "\r\n",
      "B\bBU\bUG\bGS\bS\r\n",
      "     Input lines are limited to LINE_MAX (2048) characters in length.\r\n",
      "\r\n",
      "BSD                            January 26, 2005                            BSD\r\n"
     ]
    }
   ],
   "source": [
    "!man comm"
   ]
  },
  {
   "cell_type": "code",
   "execution_count": 5,
   "metadata": {},
   "outputs": [
    {
     "name": "stdout",
     "output_type": "stream",
     "text": [
      "A\r\n",
      "B\r\n",
      "C\r\n",
      "D\r\n",
      "E\r\n",
      "F\r\n",
      "G\r\n"
     ]
    }
   ],
   "source": [
    "!cat one_list"
   ]
  },
  {
   "cell_type": "code",
   "execution_count": 6,
   "metadata": {},
   "outputs": [
    {
     "name": "stdout",
     "output_type": "stream",
     "text": [
      "A\r\n",
      "A\r\n",
      "B\r\n",
      "D\r\n",
      "C\r\n",
      "E\r\n",
      "F\r\n"
     ]
    }
   ],
   "source": [
    "!cat two_list # A is repeated twice, C is not in order, no G"
   ]
  },
  {
   "cell_type": "code",
   "execution_count": 7,
   "metadata": {},
   "outputs": [
    {
     "name": "stdout",
     "output_type": "stream",
     "text": [
      "\t\tA\r\n",
      "\tA\r\n",
      "\t\tB\r\n",
      "C\r\n",
      "\t\tD\r\n",
      "\tC\r\n",
      "\t\tE\r\n",
      "\t\tF\r\n",
      "G\r\n"
     ]
    }
   ],
   "source": [
    "!comm one_list two_list"
   ]
  },
  {
   "cell_type": "code",
   "execution_count": 8,
   "metadata": {},
   "outputs": [
    {
     "name": "stdout",
     "output_type": "stream",
     "text": [
      "\tA\r\n",
      "A\r\n",
      "\tB\r\n",
      "\tD\r\n",
      "C\r\n",
      "\tE\r\n",
      "\tF\r\n"
     ]
    }
   ],
   "source": [
    "!comm -1 one_list two_list"
   ]
  },
  {
   "cell_type": "code",
   "execution_count": 9,
   "metadata": {},
   "outputs": [
    {
     "name": "stdout",
     "output_type": "stream",
     "text": [
      "\tA\r\n",
      "\tB\r\n",
      "C\r\n",
      "\tD\r\n",
      "\tE\r\n",
      "\tF\r\n",
      "G\r\n"
     ]
    }
   ],
   "source": [
    "!comm -2 one_list two_list"
   ]
  },
  {
   "cell_type": "code",
   "execution_count": 10,
   "metadata": {},
   "outputs": [
    {
     "name": "stdout",
     "output_type": "stream",
     "text": [
      "\tA\r\n",
      "C\r\n",
      "\tC\r\n",
      "G\r\n"
     ]
    }
   ],
   "source": [
    "!comm -3 one_list two_list"
   ]
  },
  {
   "cell_type": "code",
   "execution_count": 11,
   "metadata": {},
   "outputs": [
    {
     "name": "stdout",
     "output_type": "stream",
     "text": [
      "A\r\n",
      "B\r\n",
      "D\r\n",
      "E\r\n",
      "F\r\n"
     ]
    }
   ],
   "source": [
    "!comm -12 one_list two_list ### where is the 'C'?"
   ]
  },
  {
   "cell_type": "code",
   "execution_count": 12,
   "metadata": {},
   "outputs": [],
   "source": [
    "!sort one_list > one_list_sorted\n",
    "!sort two_list > two_list_sorted"
   ]
  },
  {
   "cell_type": "code",
   "execution_count": 13,
   "metadata": {},
   "outputs": [
    {
     "name": "stdout",
     "output_type": "stream",
     "text": [
      "A\r\n",
      "B\r\n",
      "C\r\n",
      "D\r\n",
      "E\r\n",
      "F\r\n"
     ]
    }
   ],
   "source": [
    "!comm -12 one_list_sorted two_list_sorted"
   ]
  },
  {
   "cell_type": "markdown",
   "metadata": {},
   "source": [
    "## What is diff?\n",
    "> command to **compare** two files line by line\n",
    "\n",
    "### Output\n",
    "-  line numbers corresponding to the first file <br>\n",
    "-  a letter (**a for add, c for change, or d for delete**) <br>\n",
    "-  line numbers corresponding to the second file <br>"
   ]
  },
  {
   "cell_type": "code",
   "execution_count": 14,
   "metadata": {},
   "outputs": [
    {
     "name": "stdout",
     "output_type": "stream",
     "text": [
      "DIFF(1)                          User Commands                         DIFF(1)\r\n",
      "\r\n",
      "\r\n",
      "\r\n",
      "N\bNA\bAM\bME\bE\r\n",
      "       diff - compare files line by line\r\n",
      "\r\n",
      "S\bSY\bYN\bNO\bOP\bPS\bSI\bIS\bS\r\n",
      "       d\bdi\bif\bff\bf [_\bO_\bP_\bT_\bI_\bO_\bN]... _\bF_\bI_\bL_\bE_\bS\r\n",
      "\r\n",
      "D\bDE\bES\bSC\bCR\bRI\bIP\bPT\bTI\bIO\bON\bN\r\n",
      "       Compare files line by line.\r\n",
      "\r\n",
      "       -\b-i\bi  -\b--\b-i\big\bgn\bno\bor\bre\be-\b-c\bca\bas\bse\be\r\n",
      "              Ignore case differences in file contents.\r\n",
      "\r\n",
      "       -\b--\b-i\big\bgn\bno\bor\bre\be-\b-f\bfi\bil\ble\be-\b-n\bna\bam\bme\be-\b-c\bca\bas\bse\be\r\n",
      "              Ignore case when comparing file names.\r\n",
      "\r\n",
      "       -\b--\b-n\bno\bo-\b-i\big\bgn\bno\bor\bre\be-\b-f\bfi\bil\ble\be-\b-n\bna\bam\bme\be-\b-c\bca\bas\bse\be\r\n",
      "              Consider case when comparing file names.\r\n",
      "\r\n",
      "       -\b-E\bE  -\b--\b-i\big\bgn\bno\bor\bre\be-\b-t\bta\bab\bb-\b-e\bex\bxp\bpa\ban\bns\bsi\bio\bon\bn\r\n",
      "              Ignore changes due to tab expansion.\r\n",
      "\r\n",
      "       -\b-b\bb  -\b--\b-i\big\bgn\bno\bor\bre\be-\b-s\bsp\bpa\bac\bce\be-\b-c\bch\bha\ban\bng\bge\be\r\n",
      "              Ignore changes in the amount of white space.\r\n",
      "\r\n",
      "       -\b-w\bw  -\b--\b-i\big\bgn\bno\bor\bre\be-\b-a\bal\bll\bl-\b-s\bsp\bpa\bac\bce\be\r\n",
      "              Ignore all white space.\r\n",
      "\r\n",
      "       -\b-B\bB  -\b--\b-i\big\bgn\bno\bor\bre\be-\b-b\bbl\bla\ban\bnk\bk-\b-l\bli\bin\bne\bes\bs\r\n",
      "              Ignore changes whose lines are all blank.\r\n",
      "\r\n",
      "       -\b-I\bI RE  -\b--\b-i\big\bgn\bno\bor\bre\be-\b-m\bma\bat\btc\bch\bhi\bin\bng\bg-\b-l\bli\bin\bne\bes\bs=_\bR_\bE\r\n",
      "              Ignore changes whose lines all match RE.\r\n",
      "\r\n",
      "       -\b--\b-s\bst\btr\bri\bip\bp-\b-t\btr\bra\bai\bil\bli\bin\bng\bg-\b-c\bcr\br\r\n",
      "              Strip trailing carriage return on input.\r\n",
      "\r\n",
      "       -\b-a\ba  -\b--\b-t\bte\bex\bxt\bt\r\n",
      "              Treat all files as text.\r\n",
      "\r\n",
      "       -\b-c\bc  -\b-C\bC NUM  -\b--\b-c\bco\bon\bnt\bte\bex\bxt\bt[=_\bN_\bU_\bM]\r\n",
      "              Output NUM (default 3) lines of copied context.\r\n",
      "\r\n",
      "       -\b-u\bu  -\b-U\bU NUM  -\b--\b-u\bun\bni\bif\bfi\bie\bed\bd[=_\bN_\bU_\bM]\r\n",
      "              Output NUM (default 3) lines of unified context.\r\n",
      "\r\n",
      "       -\b--\b-l\bla\bab\bbe\bel\bl LABEL\r\n",
      "              Use LABEL instead of file name.\r\n",
      "\r\n",
      "       -\b-p\bp  -\b--\b-s\bsh\bho\bow\bw-\b-c\bc-\b-f\bfu\bun\bnc\bct\bti\bio\bon\bn\r\n",
      "              Show which C function each change is in.\r\n",
      "\r\n",
      "       -\b-F\bF RE  -\b--\b-s\bsh\bho\bow\bw-\b-f\bfu\bun\bnc\bct\bti\bio\bon\bn-\b-l\bli\bin\bne\be=_\bR_\bE\r\n",
      "              Show the most recent line matching RE.\r\n",
      "\r\n",
      "       -\b-q\bq  -\b--\b-b\bbr\bri\bie\bef\bf\r\n",
      "              Output only whether files differ.\r\n",
      "\r\n",
      "       -\b-e\be  -\b--\b-e\bed\bd\r\n",
      "              Output an ed script.\r\n",
      "\r\n",
      "       -\b--\b-n\bno\bor\brm\bma\bal\bl\r\n",
      "              Output a normal diff.\r\n",
      "\r\n",
      "       -\b-n\bn  -\b--\b-r\brc\bcs\bs\r\n",
      "              Output an RCS format diff.\r\n",
      "\r\n",
      "       -\b-y\by  -\b--\b-s\bsi\bid\bde\be-\b-b\bby\by-\b-s\bsi\bid\bde\be\r\n",
      "              Output in two columns.\r\n",
      "\r\n",
      "       -\b-W\bW NUM  -\b--\b-w\bwi\bid\bdt\bth\bh=_\bN_\bU_\bM\r\n",
      "              Output at most NUM (default 130) print columns.\r\n",
      "\r\n",
      "       -\b--\b-l\ble\bef\bft\bt-\b-c\bco\bol\blu\bum\bmn\bn\r\n",
      "              Output only the left column of common lines.\r\n",
      "\r\n",
      "       -\b--\b-s\bsu\bup\bpp\bpr\bre\bes\bss\bs-\b-c\bco\bom\bmm\bmo\bon\bn-\b-l\bli\bin\bne\bes\bs\r\n",
      "              Do not output common lines.\r\n",
      "\r\n",
      "       -\b-D\bD NAME  -\b--\b-i\bif\bfd\bde\bef\bf=_\bN_\bA_\bM_\bE\r\n",
      "              Output merged file to show `#ifdef NAME' diffs.\r\n",
      "\r\n",
      "       -\b--\b-G\bGT\bTY\bYP\bPE\bE-\b-g\bgr\bro\bou\bup\bp-\b-f\bfo\bor\brm\bma\bat\bt=_\bG_\bF_\bM_\bT\r\n",
      "              Similar, but format GTYPE input groups with GFMT.\r\n",
      "\r\n",
      "       -\b--\b-l\bli\bin\bne\be-\b-f\bfo\bor\brm\bma\bat\bt=_\bL_\bF_\bM_\bT\r\n",
      "              Similar, but format all input lines with LFMT.\r\n",
      "\r\n",
      "       -\b--\b-L\bLT\bTY\bYP\bPE\bE-\b-l\bli\bin\bne\be-\b-f\bfo\bor\brm\bma\bat\bt=_\bL_\bF_\bM_\bT\r\n",
      "              Similar, but format LTYPE input lines with LFMT.\r\n",
      "\r\n",
      "       LTYPE is `old', `new', or `unchanged'.\r\n",
      "              GTYPE is LTYPE or `changed'.\r\n",
      "\r\n",
      "              GFMT may contain:\r\n",
      "\r\n",
      "       %<     lines from FILE1\r\n",
      "\r\n",
      "       %>     lines from FILE2\r\n",
      "\r\n",
      "       %=     lines common to FILE1 and FILE2\r\n",
      "\r\n",
      "       %[-][WIDTH][.[PREC]]{doxX}LETTER\r\n",
      "              printf-style spec for LETTER\r\n",
      "\r\n",
      "              LETTERs are as follows for new group, lower case for old group:\r\n",
      "\r\n",
      "       F      first line number\r\n",
      "\r\n",
      "       L      last line number\r\n",
      "\r\n",
      "       N      number of lines = L-F+1\r\n",
      "\r\n",
      "       E      F-1\r\n",
      "\r\n",
      "       M      L+1\r\n",
      "\r\n",
      "              LFMT may contain:\r\n",
      "\r\n",
      "       %L     contents of line\r\n",
      "\r\n",
      "       %l     contents of line, excluding any trailing newline\r\n",
      "\r\n",
      "       %[-][WIDTH][.[PREC]]{doxX}n\r\n",
      "              printf-style spec for input line number\r\n",
      "\r\n",
      "              Either GFMT or LFMT may contain:\r\n",
      "\r\n",
      "       %%     %\r\n",
      "\r\n",
      "       %c'C'  the single character C\r\n",
      "\r\n",
      "       %c'\\OOO'\r\n",
      "              the character with octal code OOO\r\n",
      "\r\n",
      "       -\b-l\bl  -\b--\b-p\bpa\bag\bgi\bin\bna\bat\bte\be\r\n",
      "              Pass the output through `pr' to paginate it.\r\n",
      "\r\n",
      "       -\b-t\bt  -\b--\b-e\bex\bxp\bpa\ban\bnd\bd-\b-t\bta\bab\bbs\bs\r\n",
      "              Expand tabs to spaces in output.\r\n",
      "\r\n",
      "       -\b-T\bT  -\b--\b-i\bin\bni\bit\bti\bia\bal\bl-\b-t\bta\bab\bb\r\n",
      "              Make tabs line up by prepending a tab.\r\n",
      "\r\n",
      "       -\b-r\br  -\b--\b-r\bre\bec\bcu\bur\brs\bsi\biv\bve\be\r\n",
      "              Recursively compare any subdirectories found.\r\n",
      "\r\n",
      "       -\b-N\bN  -\b--\b-n\bne\bew\bw-\b-f\bfi\bil\ble\be\r\n",
      "              Treat absent files as empty.\r\n",
      "\r\n",
      "       -\b--\b-u\bun\bni\bid\bdi\bir\bre\bec\bct\bti\bio\bon\bna\bal\bl-\b-n\bne\bew\bw-\b-f\bfi\bil\ble\be\r\n",
      "              Treat absent first files as empty.\r\n",
      "\r\n",
      "       -\b-s\bs  -\b--\b-r\bre\bep\bpo\bor\brt\bt-\b-i\bid\bde\ben\bnt\bti\bic\bca\bal\bl-\b-f\bfi\bil\ble\bes\bs\r\n",
      "              Report when two files are the same.\r\n",
      "\r\n",
      "       -\b-x\bx PAT  -\b--\b-e\bex\bxc\bcl\blu\bud\bde\be=_\bP_\bA_\bT\r\n",
      "              Exclude files that match PAT.\r\n",
      "\r\n",
      "       -\b-X\bX FILE  -\b--\b-e\bex\bxc\bcl\blu\bud\bde\be-\b-f\bfr\bro\bom\bm=_\bF_\bI_\bL_\bE\r\n",
      "              Exclude files that match any pattern in FILE.\r\n",
      "\r\n",
      "       -\b-S\bS FILE  -\b--\b-s\bst\bta\bar\brt\bti\bin\bng\bg-\b-f\bfi\bil\ble\be=_\bF_\bI_\bL_\bE\r\n",
      "              Start with FILE when comparing directories.\r\n",
      "\r\n",
      "       -\b--\b-f\bfr\bro\bom\bm-\b-f\bfi\bil\ble\be=_\bF_\bI_\bL_\bE_\b1\r\n",
      "              Compare FILE1 to all operands.  FILE1 can be a directory.\r\n",
      "\r\n",
      "       -\b--\b-t\bto\bo-\b-f\bfi\bil\ble\be=_\bF_\bI_\bL_\bE_\b2\r\n",
      "              Compare all operands to FILE2.  FILE2 can be a directory.\r\n",
      "\r\n",
      "       -\b--\b-h\bho\bor\bri\biz\bzo\bon\bn-\b-l\bli\bin\bne\bes\bs=_\bN_\bU_\bM\r\n",
      "              Keep NUM lines of the common prefix and suffix.\r\n",
      "\r\n",
      "       -\b-d\bd  -\b--\b-m\bmi\bin\bni\bim\bma\bal\bl\r\n",
      "              Try hard to find a smaller set of changes.\r\n",
      "\r\n",
      "       -\b--\b-s\bsp\bpe\bee\bed\bd-\b-l\bla\bar\brg\bge\be-\b-f\bfi\bil\ble\bes\bs\r\n",
      "              Assume large files and many scattered small changes.\r\n",
      "\r\n",
      "       -\b-v\bv  -\b--\b-v\bve\ber\brs\bsi\bio\bon\bn\r\n",
      "              Output version info.\r\n",
      "\r\n",
      "       -\b--\b-h\bhe\bel\blp\bp Output this help.\r\n",
      "\r\n",
      "       FILES  are  `FILE1  FILE2'  or `DIR1 DIR2' or `DIR FILE...' or `FILE...\r\n",
      "       DIR'.  If -\b--\b-f\bfr\bro\bom\bm-\b-f\bfi\bil\ble\be or -\b--\b-t\bto\bo-\b-f\bfi\bil\ble\be is given, there are no  restrictions\r\n",
      "       on FILES.  If a FILE is `-', read standard input.\r\n",
      "\r\n",
      "A\bAU\bUT\bTH\bHO\bOR\bR\r\n",
      "       Written  by  Paul  Eggert, Mike Haertel, David Hayes, Richard Stallman,\r\n",
      "       and Len Tower.\r\n",
      "\r\n",
      "R\bRE\bEP\bPO\bOR\bRT\bTI\bIN\bNG\bG B\bBU\bUG\bGS\bS\r\n",
      "       Report bugs to <bug-gnu-utils@gnu.org>.\r\n",
      "\r\n",
      "C\bCO\bOP\bPY\bYR\bRI\bIG\bGH\bHT\bT\r\n",
      "       Copyright (C) 2002 Free Software Foundation, Inc.\r\n",
      "\r\n",
      "       This program comes with NO WARRANTY, to the extent  permitted  by  law.\r\n",
      "       You  may redistribute copies of this program under the terms of the GNU\r\n",
      "       General Public License.  For more information about these matters,  see\r\n",
      "       the file named COPYING.\r\n",
      "\r\n",
      "S\bSE\bEE\bE A\bAL\bLS\bSO\bO\r\n",
      "       The  full documentation for d\bdi\bif\bff\bf is maintained as a Texinfo manual.  If\r\n",
      "       the i\bin\bnf\bfo\bo and d\bdi\bif\bff\bf programs are properly installed  at  your  site,  the\r\n",
      "       command\r\n",
      "\r\n",
      "              i\bin\bnf\bfo\bo d\bdi\bif\bff\bf\r\n",
      "\r\n",
      "       should give you access to the complete manual.\r\n",
      "\r\n",
      "\r\n",
      "\r\n",
      "diffutils 2.8.1                   April 2002                           DIFF(1)\r\n"
     ]
    }
   ],
   "source": [
    "!man diff"
   ]
  },
  {
   "cell_type": "code",
   "execution_count": 15,
   "metadata": {},
   "outputs": [
    {
     "name": "stdout",
     "output_type": "stream",
     "text": [
      "A\r\n",
      "B\r\n",
      "C\r\n",
      "D\r\n",
      "E\r\n",
      "F\r\n",
      "G\r\n"
     ]
    }
   ],
   "source": [
    "!cat one_list"
   ]
  },
  {
   "cell_type": "code",
   "execution_count": 16,
   "metadata": {},
   "outputs": [
    {
     "name": "stdout",
     "output_type": "stream",
     "text": [
      "A\r\n",
      "A\r\n",
      "B\r\n",
      "D\r\n",
      "C\r\n",
      "E\r\n",
      "F\r\n"
     ]
    }
   ],
   "source": [
    "!cat two_list"
   ]
  },
  {
   "cell_type": "code",
   "execution_count": 17,
   "metadata": {},
   "outputs": [
    {
     "name": "stdout",
     "output_type": "stream",
     "text": [
      "1a2\r\n",
      "> A\r\n",
      "3d3\r\n",
      "< C\r\n",
      "4a5\r\n",
      "> C\r\n",
      "7d7\r\n",
      "< G\r\n"
     ]
    }
   ],
   "source": [
    "!diff one_list two_list"
   ]
  },
  {
   "cell_type": "code",
   "execution_count": 18,
   "metadata": {},
   "outputs": [
    {
     "name": "stdout",
     "output_type": "stream",
     "text": [
      "A\t\t\t\t\t\t\t\tA\r\n",
      "\t\t\t\t\t\t\t      >\tA\r\n",
      "B\t\t\t\t\t\t\t\tB\r\n",
      "C\t\t\t\t\t\t\t      <\r\n",
      "D\t\t\t\t\t\t\t\tD\r\n",
      "\t\t\t\t\t\t\t      >\tC\r\n",
      "E\t\t\t\t\t\t\t\tE\r\n",
      "F\t\t\t\t\t\t\t\tF\r\n",
      "G\t\t\t\t\t\t\t      <\r\n"
     ]
    }
   ],
   "source": [
    "!diff -y one_list two_list"
   ]
  },
  {
   "cell_type": "markdown",
   "metadata": {},
   "source": [
    "## What is uniq?\n",
    "> used to report or filter out repeated lines in a file"
   ]
  },
  {
   "cell_type": "code",
   "execution_count": 19,
   "metadata": {},
   "outputs": [
    {
     "name": "stdout",
     "output_type": "stream",
     "text": [
      "\r\n",
      "UNIQ(1)                   BSD General Commands Manual                  UNIQ(1)\r\n",
      "\r\n",
      "N\bNA\bAM\bME\bE\r\n",
      "     u\bun\bni\biq\bq -- report or filter out repeated lines in a file\r\n",
      "\r\n",
      "S\bSY\bYN\bNO\bOP\bPS\bSI\bIS\bS\r\n",
      "     u\bun\bni\biq\bq [-\b-c\bc | -\b-d\bd | -\b-u\bu] [-\b-i\bi] [-\b-f\bf _\bn_\bu_\bm] [-\b-s\bs _\bc_\bh_\ba_\br_\bs] [_\bi_\bn_\bp_\bu_\bt_\b__\bf_\bi_\bl_\be [_\bo_\bu_\bt_\bp_\bu_\bt_\b__\bf_\bi_\bl_\be]]\r\n",
      "\r\n",
      "D\bDE\bES\bSC\bCR\bRI\bIP\bPT\bTI\bIO\bON\bN\r\n",
      "     The u\bun\bni\biq\bq utility reads the specified _\bi_\bn_\bp_\bu_\bt_\b__\bf_\bi_\bl_\be comparing adjacent lines,\r\n",
      "     and writes a copy of each unique input line to the _\bo_\bu_\bt_\bp_\bu_\bt_\b__\bf_\bi_\bl_\be.  If\r\n",
      "     _\bi_\bn_\bp_\bu_\bt_\b__\bf_\bi_\bl_\be is a single dash (`-\b-') or absent, the standard input is read.\r\n",
      "     If _\bo_\bu_\bt_\bp_\bu_\bt_\b__\bf_\bi_\bl_\be is absent, standard output is used for output.  The second\r\n",
      "     and succeeding copies of identical adjacent input lines are not written.\r\n",
      "     Repeated lines in the input will not be detected if they are not adja-\r\n",
      "     cent, so it may be necessary to sort the files first.\r\n",
      "\r\n",
      "     The following options are available:\r\n",
      "\r\n",
      "     -\b-c\bc      Precede each output line with the count of the number of times\r\n",
      "             the line occurred in the input, followed by a single space.\r\n",
      "\r\n",
      "     -\b-d\bd      Only output lines that are repeated in the input.\r\n",
      "\r\n",
      "     -\b-f\bf _\bn_\bu_\bm  Ignore the first _\bn_\bu_\bm fields in each input line when doing compar-\r\n",
      "             isons.  A field is a string of non-blank characters separated\r\n",
      "             from adjacent fields by blanks.  Field numbers are one based,\r\n",
      "             i.e., the first field is field one.\r\n",
      "\r\n",
      "     -\b-s\bs _\bc_\bh_\ba_\br_\bs\r\n",
      "             Ignore the first _\bc_\bh_\ba_\br_\bs characters in each input line when doing\r\n",
      "             comparisons.  If specified in conjunction with the -\b-f\bf option, the\r\n",
      "             first _\bc_\bh_\ba_\br_\bs characters after the first _\bn_\bu_\bm fields will be\r\n",
      "             ignored.  Character numbers are one based, i.e., the first char-\r\n",
      "             acter is character one.\r\n",
      "\r\n",
      "     -\b-u\bu      Only output lines that are not repeated in the input.\r\n",
      "\r\n",
      "     -\b-i\bi      Case insensitive comparison of lines.\r\n",
      "\r\n",
      "E\bEN\bNV\bVI\bIR\bRO\bON\bNM\bME\bEN\bNT\bT\r\n",
      "     The LANG, LC_ALL, LC_COLLATE and LC_CTYPE environment variables affect\r\n",
      "     the execution of u\bun\bni\biq\bq as described in environ(7).\r\n",
      "\r\n",
      "E\bEX\bXI\bIT\bT S\bST\bTA\bAT\bTU\bUS\bS\r\n",
      "     The u\bun\bni\biq\bq utility exits 0 on success, and >0 if an error occurs.\r\n",
      "\r\n",
      "C\bCO\bOM\bMP\bPA\bAT\bTI\bIB\bBI\bIL\bLI\bIT\bTY\bY\r\n",
      "     The historic +\b+_\bn_\bu_\bm_\bb_\be_\br and -\b-_\bn_\bu_\bm_\bb_\be_\br options have been deprecated but are\r\n",
      "     still supported in this implementation.\r\n",
      "\r\n",
      "S\bSE\bEE\bE A\bAL\bLS\bSO\bO\r\n",
      "     sort(1)\r\n",
      "\r\n",
      "S\bST\bTA\bAN\bND\bDA\bAR\bRD\bDS\bS\r\n",
      "     The u\bun\bni\biq\bq utility conforms to IEEE Std 1003.1-2001 (``POSIX.1'') as\r\n",
      "     amended by Cor. 1-2002.\r\n",
      "\r\n",
      "H\bHI\bIS\bST\bTO\bOR\bRY\bY\r\n",
      "     A u\bun\bni\biq\bq command appeared in Version 3 AT&T UNIX.\r\n",
      "\r\n",
      "BSD                              July 3, 2004                              BSD\r\n"
     ]
    }
   ],
   "source": [
    "!man uniq"
   ]
  },
  {
   "cell_type": "code",
   "execution_count": 20,
   "metadata": {},
   "outputs": [
    {
     "name": "stdout",
     "output_type": "stream",
     "text": [
      "Roses\r\n",
      "Roses\r\n",
      "Lillies\r\n",
      "Tulips\r\n",
      "Peony\r\n",
      "Tulips\r\n"
     ]
    }
   ],
   "source": [
    "!cat flowers"
   ]
  },
  {
   "cell_type": "code",
   "execution_count": 21,
   "metadata": {},
   "outputs": [
    {
     "name": "stdout",
     "output_type": "stream",
     "text": [
      "   2 Roses\r\n",
      "   1 Lillies\r\n",
      "   1 Tulips\r\n",
      "   1 Peony\r\n",
      "   1 Tulips\r\n"
     ]
    }
   ],
   "source": [
    "!uniq -c flowers"
   ]
  },
  {
   "cell_type": "code",
   "execution_count": 22,
   "metadata": {},
   "outputs": [
    {
     "name": "stdout",
     "output_type": "stream",
     "text": [
      "Roses\r\n"
     ]
    }
   ],
   "source": [
    "!uniq -d flowers"
   ]
  },
  {
   "cell_type": "code",
   "execution_count": 23,
   "metadata": {},
   "outputs": [],
   "source": [
    "!sort flowers > flowers_sorted"
   ]
  },
  {
   "cell_type": "code",
   "execution_count": 24,
   "metadata": {},
   "outputs": [
    {
     "name": "stdout",
     "output_type": "stream",
     "text": [
      "Lillies\r\n",
      "Peony\r\n",
      "Roses\r\n",
      "Roses\r\n",
      "Tulips\r\n",
      "Tulips\r\n"
     ]
    }
   ],
   "source": [
    "cat flowers_sorted"
   ]
  },
  {
   "cell_type": "code",
   "execution_count": 25,
   "metadata": {},
   "outputs": [
    {
     "name": "stdout",
     "output_type": "stream",
     "text": [
      "   1 Lillies\r\n",
      "   1 Peony\r\n",
      "   2 Roses\r\n",
      "   2 Tulips\r\n"
     ]
    }
   ],
   "source": [
    "!uniq -c flowers_sorted"
   ]
  },
  {
   "cell_type": "code",
   "execution_count": 26,
   "metadata": {},
   "outputs": [
    {
     "name": "stdout",
     "output_type": "stream",
     "text": [
      "Roses\r\n",
      "Tulips\r\n"
     ]
    }
   ],
   "source": [
    "!uniq -d flowers_sorted"
   ]
  },
  {
   "cell_type": "code",
   "execution_count": 27,
   "metadata": {},
   "outputs": [
    {
     "name": "stdout",
     "output_type": "stream",
     "text": [
      "Lillies\r\n",
      "Peony\r\n",
      "Roses\r\n",
      "Tulips\r\n"
     ]
    }
   ],
   "source": [
    "!uniq flowers_sorted"
   ]
  },
  {
   "cell_type": "code",
   "execution_count": 28,
   "metadata": {},
   "outputs": [
    {
     "name": "stdout",
     "output_type": "stream",
     "text": [
      "Roses\r\n",
      "Lillies\r\n",
      "Tulips\r\n",
      "Peony\r\n",
      "Tulips\r\n"
     ]
    }
   ],
   "source": [
    "!uniq flowers"
   ]
  },
  {
   "cell_type": "code",
   "execution_count": 29,
   "metadata": {},
   "outputs": [],
   "source": []
  },
  {
   "cell_type": "code",
   "execution_count": null,
   "metadata": {},
   "outputs": [],
   "source": []
  }
 ],
 "metadata": {
  "kernelspec": {
   "display_name": "Python 3",
   "language": "python",
   "name": "python3"
  },
  "language_info": {
   "codemirror_mode": {
    "name": "ipython",
    "version": 3
   },
   "file_extension": ".py",
   "mimetype": "text/x-python",
   "name": "python",
   "nbconvert_exporter": "python",
   "pygments_lexer": "ipython3",
   "version": "3.6.4"
  }
 },
 "nbformat": 4,
 "nbformat_minor": 2
}
