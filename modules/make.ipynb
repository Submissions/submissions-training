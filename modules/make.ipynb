{
 "cells": [
  {
   "cell_type": "code",
   "execution_count": 9,
   "metadata": {},
   "outputs": [],
   "source": [
    "%%bash\n",
    "mkdir test"
   ]
  },
  {
   "cell_type": "code",
   "execution_count": 10,
   "metadata": {},
   "outputs": [
    {
     "name": "stdout",
     "output_type": "stream",
     "text": [
      "/Users/christis/Desktop/test\n"
     ]
    }
   ],
   "source": [
    "cd test/"
   ]
  },
  {
   "cell_type": "code",
   "execution_count": 13,
   "metadata": {},
   "outputs": [
    {
     "name": "stdout",
     "output_type": "stream",
     "text": [
      "mkdir: a/b: No such file or directory\r\n"
     ]
    }
   ],
   "source": [
    "mkdir a/b/c"
   ]
  },
  {
   "cell_type": "code",
   "execution_count": 14,
   "metadata": {},
   "outputs": [],
   "source": [
    "mkdir -p a/b/c"
   ]
  },
  {
   "cell_type": "code",
   "execution_count": 16,
   "metadata": {},
   "outputs": [
    {
     "name": "stdout",
     "output_type": "stream",
     "text": [
      "mkdir: created directory 'd'\r\n"
     ]
    }
   ],
   "source": [
    "mkdir -v d\n"
   ]
  },
  {
   "cell_type": "code",
   "execution_count": 17,
   "metadata": {},
   "outputs": [],
   "source": [
    "mkdir -m a+rwx easy"
   ]
  },
  {
   "cell_type": "code",
   "execution_count": 18,
   "metadata": {},
   "outputs": [
    {
     "name": "stdout",
     "output_type": "stream",
     "text": [
      "\u001b[34ma\u001b[m\u001b[m/    \u001b[34md\u001b[m\u001b[m/    \u001b[30m\u001b[43measy\u001b[m\u001b[m/\r\n"
     ]
    }
   ],
   "source": [
    "ls\n"
   ]
  },
  {
   "cell_type": "code",
   "execution_count": 19,
   "metadata": {},
   "outputs": [
    {
     "name": "stdout",
     "output_type": "stream",
     "text": [
      "total 0\r\n",
      "drwxr-xr-x  3 christis  staff   102B May 29 16:24 \u001b[34ma\u001b[m\u001b[m/\r\n",
      "drwxr-xr-x  2 christis  staff    68B May 29 16:26 \u001b[34md\u001b[m\u001b[m/\r\n",
      "drwxrwxrwx  2 christis  staff    68B May 29 16:26 \u001b[30m\u001b[43measy\u001b[m\u001b[m/\r\n"
     ]
    }
   ],
   "source": [
    "ls -lh"
   ]
  },
  {
   "cell_type": "code",
   "execution_count": 20,
   "metadata": {},
   "outputs": [
    {
     "name": "stdout",
     "output_type": "stream",
     "text": [
      "\u001b[34ma\u001b[m\u001b[m/    \u001b[34md\u001b[m\u001b[m/    \u001b[30m\u001b[43measy\u001b[m\u001b[m/\r\n"
     ]
    }
   ],
   "source": [
    "ls\n"
   ]
  },
  {
   "cell_type": "code",
   "execution_count": 21,
   "metadata": {},
   "outputs": [
    {
     "ename": "SyntaxError",
     "evalue": "invalid syntax (<ipython-input-21-78cf2fad93d5>, line 1)",
     "output_type": "error",
     "traceback": [
      "\u001b[0;36m  File \u001b[0;32m\"<ipython-input-21-78cf2fad93d5>\"\u001b[0;36m, line \u001b[0;32m1\u001b[0m\n\u001b[0;31m    touch nothing\u001b[0m\n\u001b[0m                ^\u001b[0m\n\u001b[0;31mSyntaxError\u001b[0m\u001b[0;31m:\u001b[0m invalid syntax\n"
     ]
    }
   ],
   "source": [
    "touch nothing"
   ]
  },
  {
   "cell_type": "code",
   "execution_count": 22,
   "metadata": {},
   "outputs": [],
   "source": [
    "%%bash\n",
    "touch nothing"
   ]
  },
  {
   "cell_type": "code",
   "execution_count": 23,
   "metadata": {},
   "outputs": [
    {
     "name": "stdout",
     "output_type": "stream",
     "text": [
      "\u001b[34ma\u001b[m\u001b[m/       \u001b[34md\u001b[m\u001b[m/       \u001b[30m\u001b[43measy\u001b[m\u001b[m/    nothing\r\n"
     ]
    }
   ],
   "source": [
    "ls"
   ]
  },
  {
   "cell_type": "code",
   "execution_count": 25,
   "metadata": {},
   "outputs": [],
   "source": [
    "%%bash\n",
    "touch nothing1 nothing2 nothing3"
   ]
  },
  {
   "cell_type": "code",
   "execution_count": 26,
   "metadata": {},
   "outputs": [
    {
     "name": "stdout",
     "output_type": "stream",
     "text": [
      "\u001b[34ma\u001b[m\u001b[m/        \u001b[34md\u001b[m\u001b[m/        \u001b[30m\u001b[43measy\u001b[m\u001b[m/     nothing   nothing1  nothing2  nothing3\r\n"
     ]
    }
   ],
   "source": [
    "ls"
   ]
  },
  {
   "cell_type": "code",
   "execution_count": 27,
   "metadata": {},
   "outputs": [
    {
     "name": "stdout",
     "output_type": "stream",
     "text": [
      "total 0\n",
      "drwxr-xr-x  3 christis  staff   102B May 29 16:24 \u001b[34ma\u001b[m\u001b[m/\n",
      "drwxr-xr-x  2 christis  staff    68B May 29 16:26 \u001b[34md\u001b[m\u001b[m/\n",
      "drwxrwxrwx  2 christis  staff    68B May 29 16:26 \u001b[30m\u001b[43measy\u001b[m\u001b[m/\n",
      "-rw-r--r--  1 christis  staff     0B May 30 09:32 nothing\n",
      "-rw-r--r--  1 christis  staff     0B May 30 09:32 nothing1\n",
      "-rw-r--r--  1 christis  staff     0B May 30 09:32 nothing2\n",
      "-rw-r--r--  1 christis  staff     0B May 30 09:32 nothing3\n"
     ]
    }
   ],
   "source": [
    "ls -lh "
   ]
  },
  {
   "cell_type": "code",
   "execution_count": 28,
   "metadata": {},
   "outputs": [
    {
     "ename": "SyntaxError",
     "evalue": "invalid syntax (<ipython-input-28-78cf2fad93d5>, line 1)",
     "output_type": "error",
     "traceback": [
      "\u001b[0;36m  File \u001b[0;32m\"<ipython-input-28-78cf2fad93d5>\"\u001b[0;36m, line \u001b[0;32m1\u001b[0m\n\u001b[0;31m    touch nothing\u001b[0m\n\u001b[0m                ^\u001b[0m\n\u001b[0;31mSyntaxError\u001b[0m\u001b[0;31m:\u001b[0m invalid syntax\n"
     ]
    }
   ],
   "source": [
    "touch nothing"
   ]
  },
  {
   "cell_type": "code",
   "execution_count": 29,
   "metadata": {},
   "outputs": [],
   "source": [
    "%%bash\n",
    "touch nothing"
   ]
  },
  {
   "cell_type": "code",
   "execution_count": 30,
   "metadata": {},
   "outputs": [
    {
     "name": "stdout",
     "output_type": "stream",
     "text": [
      "total 0\r\n",
      "drwxr-xr-x  3 christis  staff   102B May 29 16:24 \u001b[34ma\u001b[m\u001b[m/\r\n",
      "drwxr-xr-x  2 christis  staff    68B May 29 16:26 \u001b[34md\u001b[m\u001b[m/\r\n",
      "drwxrwxrwx  2 christis  staff    68B May 29 16:26 \u001b[30m\u001b[43measy\u001b[m\u001b[m/\r\n",
      "-rw-r--r--  1 christis  staff     0B May 30 09:34 nothing\r\n",
      "-rw-r--r--  1 christis  staff     0B May 30 09:32 nothing1\r\n",
      "-rw-r--r--  1 christis  staff     0B May 30 09:32 nothing2\r\n",
      "-rw-r--r--  1 christis  staff     0B May 30 09:32 nothing3\r\n"
     ]
    }
   ],
   "source": [
    "ls -lh"
   ]
  },
  {
   "cell_type": "code",
   "execution_count": 31,
   "metadata": {},
   "outputs": [],
   "source": [
    "%%bash\n",
    "touch -c -t 92230807 nothing"
   ]
  },
  {
   "cell_type": "code",
   "execution_count": 32,
   "metadata": {},
   "outputs": [
    {
     "name": "stdout",
     "output_type": "stream",
     "text": [
      "-rw-r--r--  1 christis  staff     0B Aug 23  2025 nothing\r\n"
     ]
    }
   ],
   "source": [
    "ls -lh nothing"
   ]
  },
  {
   "cell_type": "code",
   "execution_count": 53,
   "metadata": {},
   "outputs": [
    {
     "name": "stdout",
     "output_type": "stream",
     "text": [
      "\u001b[34ma\u001b[m\u001b[m/         \u001b[34md\u001b[m\u001b[m/         \u001b[30m\u001b[43measy\u001b[m\u001b[m/      hello      long_text  nothing\r\n"
     ]
    }
   ],
   "source": [
    "ls\n"
   ]
  },
  {
   "cell_type": "code",
   "execution_count": 56,
   "metadata": {},
   "outputs": [
    {
     "name": "stdout",
     "output_type": "stream",
     "text": [
      "^C\r\n"
     ]
    }
   ],
   "source": [
    "cat > hello"
   ]
  },
  {
   "cell_type": "code",
   "execution_count": 57,
   "metadata": {},
   "outputs": [
    {
     "name": "stdout",
     "output_type": "stream",
     "text": [
      "\u001b[?1h\u001b=\r",
      "A ghost, though invisible, still is like a place\r\n",
      "your sight can knock on, echoing; but here\r\n",
      "within this thick black pelt, your strongest gaze\r\n",
      "will be absorbed and utterly disappear:\r\n",
      "\r\n",
      "just as a raving madman, when nothing else\r\n",
      "can ease him, charges into his dark night\r\n",
      "howling, pounds on the padded wall, and feels\r\n",
      "the rage being taken in and pacified.\r\n",
      "\r\n",
      "She seems to hide all looks that have ever fallen\r\n",
      "into her, so that, like an audience,\r\n",
      "she can look them over, menacing and sullen,\r\n",
      "and curl to sleep with them. But all at once\r\n",
      "\r\n",
      "as if awakened, she turns her face to yours;\r\n",
      "and with a shock, you see yourself, tiny,\r\n",
      "inside the golden amber of her eyeballs\r\n",
      "suspended, like a prehistoric fly. \r\n",
      "\r",
      "\u001b[K\u001b[?1l\u001b>"
     ]
    }
   ],
   "source": [
    "cat long_text | more\n"
   ]
  },
  {
   "cell_type": "code",
   "execution_count": 58,
   "metadata": {},
   "outputs": [
    {
     "name": "stdout",
     "output_type": "stream",
     "text": [
      "A ghost, though invisible, still is like a place\n",
      "your sight can knock on, echoing; but here\n",
      "within this thick black pelt, your strongest gaze\n",
      "will be absorbed and utterly disappear:\n",
      "\n",
      "just as a raving madman, when nothing else\n",
      "can ease him, charges into his dark night\n",
      "howling, pounds on the padded wall, and feels\n",
      "the rage being taken in and pacified.\n",
      "\n",
      "She seems to hide all looks that have ever fallen\n",
      "into her, so that, like an audience,\n",
      "she can look them over, menacing and sullen,\n",
      "and curl to sleep with them. But all at once\n",
      "\n",
      "as if awakened, she turns her face to yours;\n",
      "and with a shock, you see yourself, tiny,\n",
      "inside the golden amber of her eyeballs\n",
      "suspended, like a prehistoric fly. \n",
      "\u001b[K\u001b[7m(END)\u001b[m\u001b[K"
     ]
    }
   ],
   "source": [
    "cat long_text | less"
   ]
  },
  {
   "cell_type": "code",
   "execution_count": 59,
   "metadata": {},
   "outputs": [
    {
     "name": "stdout",
     "output_type": "stream",
     "text": [
      "     1\tA ghost, though invisible, still is like a place\r\n",
      "     2\tyour sight can knock on, echoing; but here\r\n",
      "     3\twithin this thick black pelt, your strongest gaze\r\n",
      "     4\twill be absorbed and utterly disappear:\r\n",
      "     5\t\r\n",
      "     6\tjust as a raving madman, when nothing else\r\n",
      "     7\tcan ease him, charges into his dark night\r\n",
      "     8\thowling, pounds on the padded wall, and feels\r\n",
      "     9\tthe rage being taken in and pacified.\r\n",
      "    10\t\r\n",
      "    11\tShe seems to hide all looks that have ever fallen\r\n",
      "    12\tinto her, so that, like an audience,\r\n",
      "    13\tshe can look them over, menacing and sullen,\r\n",
      "    14\tand curl to sleep with them. But all at once\r\n",
      "    15\t\r\n",
      "    16\tas if awakened, she turns her face to yours;\r\n",
      "    17\tand with a shock, you see yourself, tiny,\r\n",
      "    18\tinside the golden amber of her eyeballs\r\n",
      "    19\tsuspended, like a prehistoric fly. \r\n"
     ]
    }
   ],
   "source": [
    "cat -n long_text "
   ]
  },
  {
   "cell_type": "code",
   "execution_count": 60,
   "metadata": {},
   "outputs": [
    {
     "name": "stdout",
     "output_type": "stream",
     "text": [
      "A ghost, though invisible, still is like a place$\r\n",
      "your sight can knock on, echoing; but here$\r\n",
      "within this thick black pelt, your strongest gaze$\r\n",
      "will be absorbed and utterly disappear:$\r\n",
      "$\r\n",
      "just as a raving madman, when nothing else$\r\n",
      "can ease him, charges into his dark night$\r\n",
      "howling, pounds on the padded wall, and feels$\r\n",
      "the rage being taken in and pacified.$\r\n",
      "$\r\n",
      "She seems to hide all looks that have ever fallen$\r\n",
      "into her, so that, like an audience,$\r\n",
      "she can look them over, menacing and sullen,$\r\n",
      "and curl to sleep with them. But all at once$\r\n",
      "$\r\n",
      "as if awakened, she turns her face to yours;$\r\n",
      "and with a shock, you see yourself, tiny,$\r\n",
      "inside the golden amber of her eyeballs$\r\n",
      "suspended, like a prehistoric fly. $\r\n"
     ]
    }
   ],
   "source": [
    "cat -e long_text"
   ]
  },
  {
   "cell_type": "code",
   "execution_count": 62,
   "metadata": {},
   "outputs": [],
   "source": [
    "#cat -T long_text"
   ]
  },
  {
   "cell_type": "code",
   "execution_count": null,
   "metadata": {},
   "outputs": [],
   "source": [
    "#cat >> long_text"
   ]
  }
 ],
 "metadata": {
  "kernelspec": {
   "display_name": "Python 3",
   "language": "python",
   "name": "python3"
  },
  "language_info": {
   "codemirror_mode": {
    "name": "ipython",
    "version": 3
   },
   "file_extension": ".py",
   "mimetype": "text/x-python",
   "name": "python",
   "nbconvert_exporter": "python",
   "pygments_lexer": "ipython3",
   "version": "3.6.4"
  }
 },
 "nbformat": 4,
 "nbformat_minor": 2
}
